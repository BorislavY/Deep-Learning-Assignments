{
 "cells": [
  {
   "cell_type": "markdown",
   "metadata": {},
   "source": [
    "# Improvise a Jazz Solo with an LSTM Network\n",
    "\n",
    "Welcome to your final programming assignment of this week! In this notebook, you will implement a model that uses an LSTM to generate music. You will even be able to listen to your own music at the end of the assignment. \n",
    "\n",
    "**You will learn to:**\n",
    "- Apply an LSTM to music generation.\n",
    "- Generate your own jazz music with deep learning.\n",
    "\n",
    "Please run the following cell to load all the packages required in this assignment. This may take a few minutes. "
   ]
  },
  {
   "cell_type": "code",
   "execution_count": 3,
   "metadata": {
    "collapsed": true
   },
   "outputs": [],
   "source": [
    "from __future__ import print_function\n",
    "import IPython\n",
    "import sys\n",
    "from music21 import *\n",
    "import numpy as np\n",
    "from grammar import *\n",
    "from qa import *\n",
    "from preprocess import * \n",
    "from music_utils import *\n",
    "from data_utils import *\n",
    "from keras.models import load_model, Model\n",
    "from keras.layers import Dense, Activation, Dropout, Input, LSTM, Reshape, Lambda, RepeatVector\n",
    "from keras.initializers import glorot_uniform\n",
    "from keras.utils import to_categorical\n",
    "from keras.optimizers import Adam\n",
    "from keras import backend as K"
   ]
  },
  {
   "cell_type": "markdown",
   "metadata": {},
   "source": [
    "## 1 - Problem statement\n",
    "\n",
    "You would like to create a jazz music piece specially for a friend's birthday. However, you don't know any instruments or music composition. Fortunately, you know deep learning and will solve this problem using an LSTM netwok.  \n",
    "\n",
    "You will train a network to generate novel jazz solos in a style representative of a body of performed work.\n",
    "\n",
    "<img src=\"images/jazz.jpg\" style=\"width:450;height:300px;\">\n",
    "\n",
    "\n",
    "### 1.1 - Dataset\n",
    "\n",
    "You will train your algorithm on a corpus of Jazz music. Run the cell below to listen to a snippet of the audio from the training set:"
   ]
  },
  {
   "cell_type": "code",
   "execution_count": null,
   "metadata": {
    "collapsed": true
   },
   "outputs": [],
   "source": [
    "IPython.display.Audio('./data/30s_seq.mp3')"
   ]
  },
  {
   "cell_type": "markdown",
   "metadata": {},
   "source": [
    "We have taken care of the preprocessing of the musical data to render it in terms of musical \"values.\" You can informally think of each \"value\" as a note, which comprises a pitch and a duration. For example, if you press down a specific piano key for 0.5 seconds, then you have just played a note. In music theory, a \"value\" is actually more complicated than this--specifically, it also captures the information needed to play multiple notes at the same time. For example, when playing a music piece, you might press down two piano keys at the same time (playng multiple notes at the same time generates what's called a \"chord\"). But we don't need to worry about the details of music theory for this assignment. For the purpose of this assignment, all you need to know is that we will obtain a dataset of values, and will learn an RNN model to generate sequences of values. \n",
    "\n",
    "Our music generation system will use 78 unique values. Run the following code to load the raw music data and preprocess it into values. This might take a few minutes."
   ]
  },
  {
   "cell_type": "code",
   "execution_count": 4,
   "metadata": {},
   "outputs": [
    {
     "name": "stdout",
     "output_type": "stream",
     "text": [
      "shape of X: (60, 30, 78)\n",
      "number of training examples: 60\n",
      "Tx (length of sequence): 30\n",
      "total # of unique values: 78\n",
      "Shape of Y: (30, 60, 78)\n"
     ]
    }
   ],
   "source": [
    "X, Y, n_values, indices_values = load_music_utils()\n",
    "print('shape of X:', X.shape)\n",
    "print('number of training examples:', X.shape[0])\n",
    "print('Tx (length of sequence):', X.shape[1])\n",
    "print('total # of unique values:', n_values)\n",
    "print('Shape of Y:', Y.shape)"
   ]
  },
  {
   "cell_type": "markdown",
   "metadata": {},
   "source": [
    "You have just loaded the following:\n",
    "\n",
    "- `X`: This is an (m, $T_x$, 78) dimensional array. We have m training examples, each of which is a snippet of $T_x =30$ musical values. At each time step, the input is one of 78 different possible values, represented as a one-hot vector. Thus for example, X[i,t,:] is a one-hot vector representating the value of the i-th example at time t. \n",
    "\n",
    "- `Y`: This is essentially the same as `X`, but shifted one step to the left (to the past). Similar to the dinosaurus assignment, we're interested in the network using the previous values to predict the next value, so our sequence model will try to predict $y^{\\langle t \\rangle}$ given $x^{\\langle 1\\rangle}, \\ldots, x^{\\langle t \\rangle}$. However, the data in `Y` is reordered to be dimension $(T_y, m, 78)$, where $T_y = T_x$. This format makes it more convenient to feed to the LSTM later. \n",
    "\n",
    "- `n_values`: The number of unique values in this dataset. This should be 78. \n",
    "\n",
    "- `indices_values`: python dictionary mapping from 0-77 to musical values."
   ]
  },
  {
   "cell_type": "markdown",
   "metadata": {},
   "source": [
    "### 1.2 - Overview of our model\n",
    "\n",
    "Here is the architecture of the model we will use. This is similar to the Dinosaurus model you had used in the previous notebook, except that in you will be implementing it in Keras. The architecture is as follows: \n",
    "\n",
    "<img src=\"images/music_generation.png\" style=\"width:600;height:400px;\">\n",
    "\n",
    "<!--\n",
    "<img src=\"images/djmodel.png\" style=\"width:600;height:400px;\">\n",
    "<br>\n",
    "<caption><center> **Figure 1**: LSTM model. $X = (x^{\\langle 1 \\rangle}, x^{\\langle 2 \\rangle}, ..., x^{\\langle T_x \\rangle})$ is a window of size $T_x$ scanned over the musical corpus. Each $x^{\\langle t \\rangle}$ is an index corresponding to a value (ex: \"A,0.250,< m2,P-4 >\") while $\\hat{y}$ is the prediction for the next value  </center></caption>\n",
    "!--> \n",
    "\n",
    "We will be training the model on random snippets of 30 values taken from a much longer piece of music. Thus, we won't bother to set the first input $x^{\\langle 1 \\rangle} = \\vec{0}$, which we had done previously to denote the start of a dinosaur name, since now most of these snippets of audio start somewhere in the middle of a piece of music. We are setting each of the snippts to have the same length $T_x = 30$ to make vectorization easier. \n"
   ]
  },
  {
   "cell_type": "markdown",
   "metadata": {},
   "source": [
    "## 2 - Building the model\n",
    "\n",
    "In this part you will build and train a model that will learn musical patterns. To do so, you will need to build a model that takes in X of shape $(m, T_x, 78)$ and Y of shape $(T_y, m, 78)$. We will use an LSTM with 64 dimensional hidden states. Lets set `n_a = 64`. \n"
   ]
  },
  {
   "cell_type": "code",
   "execution_count": 5,
   "metadata": {
    "collapsed": true
   },
   "outputs": [],
   "source": [
    "n_a = 64 "
   ]
  },
  {
   "cell_type": "markdown",
   "metadata": {},
   "source": [
    "\n",
    "Here's how you can create a Keras model with multiple inputs and outputs. If you're building an RNN where even at test time entire input sequence $x^{\\langle 1 \\rangle}, x^{\\langle 2 \\rangle}, \\ldots, x^{\\langle T_x \\rangle}$ were *given in advance*, for example if the inputs were words and the output was a label, then Keras has simple built-in functions to build the model. However, for sequence generation, at test time we don't know all the values of $x^{\\langle t\\rangle}$ in advance; instead we generate them one at a time using $x^{\\langle t\\rangle} = y^{\\langle t-1 \\rangle}$. So the code will be a bit more complicated, and you'll need to implement your own for-loop to iterate over the different time steps. \n",
    "\n",
    "The function `djmodel()` will call the LSTM layer $T_x$ times using a for-loop, and it is important that all $T_x$ copies have the same weights. I.e., it should not re-initiaiize the weights every time---the $T_x$ steps should have shared weights. The key steps for implementing layers with shareable weights in Keras are: \n",
    "1. Define the layer objects (we will use global variables for this).\n",
    "2. Call these objects when propagating the input.\n",
    "\n",
    "We have defined the layers objects you need as global variables. Please run the next cell to create them. Please check the Keras documentation to make sure you understand what these layers are: [Reshape()](https://keras.io/layers/core/#reshape), [LSTM()](https://keras.io/layers/recurrent/#lstm), [Dense()](https://keras.io/layers/core/#dense).\n"
   ]
  },
  {
   "cell_type": "code",
   "execution_count": 6,
   "metadata": {
    "collapsed": true
   },
   "outputs": [],
   "source": [
    "reshapor = Reshape((1, 78))                        # Used in Step 2.B of djmodel(), below\n",
    "LSTM_cell = LSTM(n_a, return_state = True)         # Used in Step 2.C\n",
    "densor = Dense(n_values, activation='softmax')     # Used in Step 2.D"
   ]
  },
  {
   "cell_type": "markdown",
   "metadata": {},
   "source": [
    "Each of `reshapor`, `LSTM_cell` and `densor` are now layer objects, and you can use them to implement `djmodel()`. In order to propagate a Keras tensor object X through one of these layers, use `layer_object(X)` (or `layer_object([X,Y])` if it requires multiple inputs.). For example, `reshapor(X)` will propagate X through the `Reshape((1,78))` layer defined above."
   ]
  },
  {
   "cell_type": "markdown",
   "metadata": {},
   "source": [
    " \n",
    "**Exercise**: Implement `djmodel()`. You will need to carry out 2 steps:\n",
    "\n",
    "1. Create an empty list \"outputs\" to save the outputs of the LSTM Cell at every time step.\n",
    "2. Loop for $t \\in 1, \\ldots, T_x$:\n",
    "\n",
    "    A. Select the \"t\"th time-step vector from X. The shape of this selection should be (78,). To do so, create a custom [Lambda](https://keras.io/layers/core/#lambda) layer in Keras by using this line of code:\n",
    "```    \n",
    "           x = Lambda(lambda x: X[:,t,:])(X)\n",
    "``` \n",
    "Look over the Keras documentation to figure out what this does. It is creating a \"temporary\" or \"unnamed\" function (that's what Lambda functions are) that extracts out the appropriate one-hot vector, and making this function a Keras `Layer` object to apply to `X`. \n",
    "\n",
    "    B. Reshape x to be (1,78). You may find the `reshapor()` layer (defined below) helpful.\n",
    "\n",
    "    C. Run x through one step of LSTM_cell. Remember to initialize the LSTM_cell with the previous step's hidden state $a$ and cell state $c$. Use the following formatting:\n",
    "```python\n",
    "a, _, c = LSTM_cell(input_x, initial_state=[previous hidden state, previous cell state])\n",
    "```\n",
    "\n",
    "    D. Propagate the LSTM's output activation value through a dense+softmax layer using `densor`. \n",
    "    \n",
    "    E. Append the predicted value to the list of \"outputs\"\n",
    " \n"
   ]
  },
  {
   "cell_type": "code",
   "execution_count": 7,
   "metadata": {
    "collapsed": true
   },
   "outputs": [],
   "source": [
    "# GRADED FUNCTION: djmodel\n",
    "\n",
    "def djmodel(Tx, n_a, n_values):\n",
    "    \"\"\"\n",
    "    Implement the model\n",
    "    \n",
    "    Arguments:\n",
    "    Tx -- length of the sequence in a corpus\n",
    "    n_a -- the number of activations used in our model\n",
    "    n_values -- number of unique values in the music data \n",
    "    \n",
    "    Returns:\n",
    "    model -- a keras model with the \n",
    "    \"\"\"\n",
    "    \n",
    "    # Define the input of your model with a shape \n",
    "    X = Input(shape=(Tx, n_values))\n",
    "    \n",
    "    # Define s0, initial hidden state for the decoder LSTM\n",
    "    a0 = Input(shape=(n_a,), name='a0')\n",
    "    c0 = Input(shape=(n_a,), name='c0')\n",
    "    a = a0\n",
    "    c = c0\n",
    "    \n",
    "    ### START CODE HERE ### \n",
    "    # Step 1: Create empty list to append the outputs while you iterate (≈1 line)\n",
    "    outputs = []\n",
    "    \n",
    "    # Step 2: Loop\n",
    "    for t in range(Tx):\n",
    "        \n",
    "        # Step 2.A: select the \"t\"th time step vector from X. \n",
    "        x = Lambda(lambda x: X[:,t,:])(X)\n",
    "        # Step 2.B: Use reshapor to reshape x to be (1, n_values) (≈1 line)\n",
    "        x = reshapor(x)\n",
    "        # Step 2.C: Perform one step of the LSTM_cell\n",
    "        a, _, c = LSTM_cell(x, initial_state=[a, c])\n",
    "        # Step 2.D: Apply densor to the hidden state output of LSTM_Cell\n",
    "        out = densor(a)\n",
    "        # Step 2.E: add the output to \"outputs\"\n",
    "        outputs.append(out)\n",
    "        \n",
    "    # Step 3: Create model instance\n",
    "    model = Model(inputs=[X, a0, c0], outputs=outputs)\n",
    "    \n",
    "    ### END CODE HERE ###\n",
    "    \n",
    "    return model"
   ]
  },
  {
   "cell_type": "markdown",
   "metadata": {},
   "source": [
    "Run the following cell to define your model. We will use `Tx=30`, `n_a=64` (the dimension of the LSTM activations), and `n_values=78`. This cell may take a few seconds to run. "
   ]
  },
  {
   "cell_type": "code",
   "execution_count": 8,
   "metadata": {
    "collapsed": true
   },
   "outputs": [],
   "source": [
    "model = djmodel(Tx = 30 , n_a = 64, n_values = 78)"
   ]
  },
  {
   "cell_type": "markdown",
   "metadata": {},
   "source": [
    "You now need to compile your model to be trained. We will Adam and a categorical cross-entropy loss."
   ]
  },
  {
   "cell_type": "code",
   "execution_count": 9,
   "metadata": {
    "collapsed": true
   },
   "outputs": [],
   "source": [
    "opt = Adam(lr=0.01, beta_1=0.9, beta_2=0.999, decay=0.01)\n",
    "\n",
    "model.compile(optimizer=opt, loss='categorical_crossentropy', metrics=['accuracy'])"
   ]
  },
  {
   "cell_type": "markdown",
   "metadata": {},
   "source": [
    "Finally, lets initialize `a0` and `c0` for the LSTM's initial state to be zero. "
   ]
  },
  {
   "cell_type": "code",
   "execution_count": 10,
   "metadata": {
    "collapsed": true,
    "scrolled": true
   },
   "outputs": [],
   "source": [
    "m = 60\n",
    "a0 = np.zeros((m, n_a))\n",
    "c0 = np.zeros((m, n_a))"
   ]
  },
  {
   "cell_type": "markdown",
   "metadata": {},
   "source": [
    "Lets now fit the model! We will turn `Y` to a list before doing so, since the cost function expects `Y` to be provided in this format (one list item per time-step). So `list(Y)` is a list with 30 items, where each of the list items is of shape (60,78). Lets train for 100 epochs. This will take a few minutes. \n",
    "\n"
   ]
  },
  {
   "cell_type": "code",
   "execution_count": 11,
   "metadata": {
    "scrolled": true
   },
   "outputs": [
    {
     "name": "stdout",
     "output_type": "stream",
     "text": [
      "Epoch 1/100\n",
      "60/60 [==============================] - 10s - loss: 125.8304 - dense_1_loss_1: 4.3547 - dense_1_loss_2: 4.3464 - dense_1_loss_3: 4.3460 - dense_1_loss_4: 4.3442 - dense_1_loss_5: 4.3437 - dense_1_loss_6: 4.3382 - dense_1_loss_7: 4.3386 - dense_1_loss_8: 4.3365 - dense_1_loss_9: 4.3370 - dense_1_loss_10: 4.3380 - dense_1_loss_11: 4.3400 - dense_1_loss_12: 4.3415 - dense_1_loss_13: 4.3459 - dense_1_loss_14: 4.3326 - dense_1_loss_15: 4.3394 - dense_1_loss_16: 4.3333 - dense_1_loss_17: 4.3374 - dense_1_loss_18: 4.3386 - dense_1_loss_19: 4.3378 - dense_1_loss_20: 4.3390 - dense_1_loss_21: 4.3398 - dense_1_loss_22: 4.3396 - dense_1_loss_23: 4.3317 - dense_1_loss_24: 4.3249 - dense_1_loss_25: 4.3407 - dense_1_loss_26: 4.3281 - dense_1_loss_27: 4.3388 - dense_1_loss_28: 4.3388 - dense_1_loss_29: 4.3394 - dense_1_loss_30: 0.0000e+00 - dense_1_acc_1: 0.0000e+00 - dense_1_acc_2: 0.0333 - dense_1_acc_3: 0.1167 - dense_1_acc_4: 0.1000 - dense_1_acc_5: 0.0500 - dense_1_acc_6: 0.0500 - dense_1_acc_7: 0.0333 - dense_1_acc_8: 0.1000 - dense_1_acc_9: 0.0333 - dense_1_acc_10: 0.0833 - dense_1_acc_11: 0.0167 - dense_1_acc_12: 0.0500 - dense_1_acc_13: 0.0167 - dense_1_acc_14: 0.0500 - dense_1_acc_15: 0.0333 - dense_1_acc_16: 0.0667 - dense_1_acc_17: 0.0667 - dense_1_acc_18: 0.0667 - dense_1_acc_19: 0.0667 - dense_1_acc_20: 0.0167 - dense_1_acc_21: 0.0667 - dense_1_acc_22: 0.0833 - dense_1_acc_23: 0.0500 - dense_1_acc_24: 0.0500 - dense_1_acc_25: 0.0167 - dense_1_acc_26: 0.1167 - dense_1_acc_27: 0.0500 - dense_1_acc_28: 0.0333 - dense_1_acc_29: 0.0500 - dense_1_acc_30: 0.0000e+00                                                                        \n",
      "Epoch 2/100\n",
      "60/60 [==============================] - 1s - loss: 122.3368 - dense_1_loss_1: 4.3316 - dense_1_loss_2: 4.3002 - dense_1_loss_3: 4.2769 - dense_1_loss_4: 4.2756 - dense_1_loss_5: 4.2502 - dense_1_loss_6: 4.2493 - dense_1_loss_7: 4.2405 - dense_1_loss_8: 4.2105 - dense_1_loss_9: 4.2259 - dense_1_loss_10: 4.2129 - dense_1_loss_11: 4.2182 - dense_1_loss_12: 4.2273 - dense_1_loss_13: 4.2052 - dense_1_loss_14: 4.1855 - dense_1_loss_15: 4.2009 - dense_1_loss_16: 4.1901 - dense_1_loss_17: 4.1858 - dense_1_loss_18: 4.2284 - dense_1_loss_19: 4.1881 - dense_1_loss_20: 4.1937 - dense_1_loss_21: 4.2190 - dense_1_loss_22: 4.1926 - dense_1_loss_23: 4.1901 - dense_1_loss_24: 4.1796 - dense_1_loss_25: 4.2226 - dense_1_loss_26: 4.1490 - dense_1_loss_27: 4.1844 - dense_1_loss_28: 4.1967 - dense_1_loss_29: 4.2058 - dense_1_loss_30: 0.0000e+00 - dense_1_acc_1: 0.0667 - dense_1_acc_2: 0.1833 - dense_1_acc_3: 0.1833 - dense_1_acc_4: 0.1667 - dense_1_acc_5: 0.1500 - dense_1_acc_6: 0.1333 - dense_1_acc_7: 0.1833 - dense_1_acc_8: 0.2000 - dense_1_acc_9: 0.1333 - dense_1_acc_10: 0.1500 - dense_1_acc_11: 0.1167 - dense_1_acc_12: 0.0833 - dense_1_acc_13: 0.1500 - dense_1_acc_14: 0.2167 - dense_1_acc_15: 0.0667 - dense_1_acc_16: 0.1333 - dense_1_acc_17: 0.2167 - dense_1_acc_18: 0.0667 - dense_1_acc_19: 0.1500 - dense_1_acc_20: 0.1333 - dense_1_acc_21: 0.1000 - dense_1_acc_22: 0.0833 - dense_1_acc_23: 0.1333 - dense_1_acc_24: 0.1500 - dense_1_acc_25: 0.0667 - dense_1_acc_26: 0.2333 - dense_1_acc_27: 0.0500 - dense_1_acc_28: 0.1167 - dense_1_acc_29: 0.1167 - dense_1_acc_30: 0.0000e+00     \n",
      "Epoch 3/100\n",
      "60/60 [==============================] - 1s - loss: 115.2482 - dense_1_loss_1: 4.3090 - dense_1_loss_2: 4.2470 - dense_1_loss_3: 4.1883 - dense_1_loss_4: 4.1773 - dense_1_loss_5: 4.1188 - dense_1_loss_6: 4.1172 - dense_1_loss_7: 4.0755 - dense_1_loss_8: 3.9643 - dense_1_loss_9: 3.9515 - dense_1_loss_10: 3.8572 - dense_1_loss_11: 3.8845 - dense_1_loss_12: 4.0072 - dense_1_loss_13: 3.8686 - dense_1_loss_14: 3.8153 - dense_1_loss_15: 3.9117 - dense_1_loss_16: 3.8621 - dense_1_loss_17: 3.8958 - dense_1_loss_18: 4.0504 - dense_1_loss_19: 3.7825 - dense_1_loss_20: 3.8906 - dense_1_loss_21: 4.0119 - dense_1_loss_22: 3.9474 - dense_1_loss_23: 3.9071 - dense_1_loss_24: 3.8661 - dense_1_loss_25: 4.0623 - dense_1_loss_26: 3.6735 - dense_1_loss_27: 3.8420 - dense_1_loss_28: 3.9089 - dense_1_loss_29: 4.0542 - dense_1_loss_30: 0.0000e+00 - dense_1_acc_1: 0.0667 - dense_1_acc_2: 0.2167 - dense_1_acc_3: 0.1667 - dense_1_acc_4: 0.1000 - dense_1_acc_5: 0.1500 - dense_1_acc_6: 0.1333 - dense_1_acc_7: 0.0833 - dense_1_acc_8: 0.1667 - dense_1_acc_9: 0.0833 - dense_1_acc_10: 0.1333 - dense_1_acc_11: 0.1000 - dense_1_acc_12: 0.0667 - dense_1_acc_13: 0.1167 - dense_1_acc_14: 0.1333 - dense_1_acc_15: 0.0667 - dense_1_acc_16: 0.1333 - dense_1_acc_17: 0.1667 - dense_1_acc_18: 0.0333 - dense_1_acc_19: 0.1000 - dense_1_acc_20: 0.1167 - dense_1_acc_21: 0.0833 - dense_1_acc_22: 0.0667 - dense_1_acc_23: 0.0333 - dense_1_acc_24: 0.0167 - dense_1_acc_25: 0.0833 - dense_1_acc_26: 0.1167 - dense_1_acc_27: 0.0667 - dense_1_acc_28: 0.0667 - dense_1_acc_29: 0.1167 - dense_1_acc_30: 0.0000e+00         \n",
      "Epoch 4/100\n",
      "60/60 [==============================] - 1s - loss: 112.6293 - dense_1_loss_1: 4.2859 - dense_1_loss_2: 4.1945 - dense_1_loss_3: 4.0988 - dense_1_loss_4: 4.0741 - dense_1_loss_5: 3.9704 - dense_1_loss_6: 3.9703 - dense_1_loss_7: 3.8889 - dense_1_loss_8: 3.6545 - dense_1_loss_9: 3.7411 - dense_1_loss_10: 3.5995 - dense_1_loss_11: 3.7356 - dense_1_loss_12: 3.9423 - dense_1_loss_13: 3.7259 - dense_1_loss_14: 3.6728 - dense_1_loss_15: 3.7000 - dense_1_loss_16: 3.7495 - dense_1_loss_17: 3.8073 - dense_1_loss_18: 3.8954 - dense_1_loss_19: 3.7654 - dense_1_loss_20: 3.8731 - dense_1_loss_21: 4.0209 - dense_1_loss_22: 3.9745 - dense_1_loss_23: 3.7929 - dense_1_loss_24: 3.7826 - dense_1_loss_25: 4.0814 - dense_1_loss_26: 3.7406 - dense_1_loss_27: 3.8068 - dense_1_loss_28: 3.9453 - dense_1_loss_29: 4.1390 - dense_1_loss_30: 0.0000e+00 - dense_1_acc_1: 0.0667 - dense_1_acc_2: 0.1667 - dense_1_acc_3: 0.2167 - dense_1_acc_4: 0.1833 - dense_1_acc_5: 0.1833 - dense_1_acc_6: 0.1000 - dense_1_acc_7: 0.1333 - dense_1_acc_8: 0.1833 - dense_1_acc_9: 0.1500 - dense_1_acc_10: 0.1500 - dense_1_acc_11: 0.0833 - dense_1_acc_12: 0.0167 - dense_1_acc_13: 0.1667 - dense_1_acc_14: 0.1500 - dense_1_acc_15: 0.1333 - dense_1_acc_16: 0.0667 - dense_1_acc_17: 0.1333 - dense_1_acc_18: 0.0333 - dense_1_acc_19: 0.1333 - dense_1_acc_20: 0.0667 - dense_1_acc_21: 0.0667 - dense_1_acc_22: 0.0833 - dense_1_acc_23: 0.0500 - dense_1_acc_24: 0.1000 - dense_1_acc_25: 0.0000e+00 - dense_1_acc_26: 0.1000 - dense_1_acc_27: 0.0833 - dense_1_acc_28: 0.0333 - dense_1_acc_29: 0.0333 - dense_1_acc_30: 0.0000e+00     \n",
      "Epoch 5/100\n",
      "60/60 [==============================] - 1s - loss: 109.0755 - dense_1_loss_1: 4.2702 - dense_1_loss_2: 4.1547 - dense_1_loss_3: 4.0401 - dense_1_loss_4: 4.0055 - dense_1_loss_5: 3.8816 - dense_1_loss_6: 3.8738 - dense_1_loss_7: 3.8217 - dense_1_loss_8: 3.6144 - dense_1_loss_9: 3.6884 - dense_1_loss_10: 3.5071 - dense_1_loss_11: 3.6139 - dense_1_loss_12: 3.9028 - dense_1_loss_13: 3.6532 - dense_1_loss_14: 3.5482 - dense_1_loss_15: 3.6327 - dense_1_loss_16: 3.6502 - dense_1_loss_17: 3.7090 - dense_1_loss_18: 3.7494 - dense_1_loss_19: 3.5955 - dense_1_loss_20: 3.7427 - dense_1_loss_21: 3.8652 - dense_1_loss_22: 3.7319 - dense_1_loss_23: 3.6245 - dense_1_loss_24: 3.5898 - dense_1_loss_25: 3.8796 - dense_1_loss_26: 3.5506 - dense_1_loss_27: 3.5863 - dense_1_loss_28: 3.7081 - dense_1_loss_29: 3.8846 - dense_1_loss_30: 0.0000e+00 - dense_1_acc_1: 0.1167 - dense_1_acc_2: 0.1333 - dense_1_acc_3: 0.2667 - dense_1_acc_4: 0.2333 - dense_1_acc_5: 0.1500 - dense_1_acc_6: 0.0500 - dense_1_acc_7: 0.1167 - dense_1_acc_8: 0.1500 - dense_1_acc_9: 0.1500 - dense_1_acc_10: 0.2000 - dense_1_acc_11: 0.0833 - dense_1_acc_12: 0.0333 - dense_1_acc_13: 0.1500 - dense_1_acc_14: 0.1500 - dense_1_acc_15: 0.1333 - dense_1_acc_16: 0.0833 - dense_1_acc_17: 0.1333 - dense_1_acc_18: 0.0333 - dense_1_acc_19: 0.1500 - dense_1_acc_20: 0.0833 - dense_1_acc_21: 0.0833 - dense_1_acc_22: 0.1000 - dense_1_acc_23: 0.1000 - dense_1_acc_24: 0.1333 - dense_1_acc_25: 0.0167 - dense_1_acc_26: 0.1500 - dense_1_acc_27: 0.1167 - dense_1_acc_28: 0.0667 - dense_1_acc_29: 0.0500 - dense_1_acc_30: 0.0000e+00             \n",
      "Epoch 6/100\n",
      "60/60 [==============================] - 1s - loss: 106.6568 - dense_1_loss_1: 4.2562 - dense_1_loss_2: 4.1210 - dense_1_loss_3: 3.9817 - dense_1_loss_4: 3.9405 - dense_1_loss_5: 3.8185 - dense_1_loss_6: 3.8018 - dense_1_loss_7: 3.7520 - dense_1_loss_8: 3.5726 - dense_1_loss_9: 3.6584 - dense_1_loss_10: 3.4294 - dense_1_loss_11: 3.5492 - dense_1_loss_12: 3.8090 - dense_1_loss_13: 3.5580 - dense_1_loss_14: 3.4960 - dense_1_loss_15: 3.5721 - dense_1_loss_16: 3.5402 - dense_1_loss_17: 3.5794 - dense_1_loss_18: 3.6590 - dense_1_loss_19: 3.4631 - dense_1_loss_20: 3.6237 - dense_1_loss_21: 3.7119 - dense_1_loss_22: 3.5791 - dense_1_loss_23: 3.5520 - dense_1_loss_24: 3.4979 - dense_1_loss_25: 3.8030 - dense_1_loss_26: 3.4359 - dense_1_loss_27: 3.5592 - dense_1_loss_28: 3.5916 - dense_1_loss_29: 3.7445 - dense_1_loss_30: 0.0000e+00 - dense_1_acc_1: 0.1000 - dense_1_acc_2: 0.1000 - dense_1_acc_3: 0.2333 - dense_1_acc_4: 0.2000 - dense_1_acc_5: 0.1833 - dense_1_acc_6: 0.0833 - dense_1_acc_7: 0.1167 - dense_1_acc_8: 0.1833 - dense_1_acc_9: 0.1833 - dense_1_acc_10: 0.1667 - dense_1_acc_11: 0.1167 - dense_1_acc_12: 0.0667 - dense_1_acc_13: 0.1333 - dense_1_acc_14: 0.1333 - dense_1_acc_15: 0.1500 - dense_1_acc_16: 0.1333 - dense_1_acc_17: 0.1500 - dense_1_acc_18: 0.0500 - dense_1_acc_19: 0.1833 - dense_1_acc_20: 0.1000 - dense_1_acc_21: 0.0833 - dense_1_acc_22: 0.1167 - dense_1_acc_23: 0.1333 - dense_1_acc_24: 0.1500 - dense_1_acc_25: 0.0167 - dense_1_acc_26: 0.2000 - dense_1_acc_27: 0.1000 - dense_1_acc_28: 0.1000 - dense_1_acc_29: 0.0500 - dense_1_acc_30: 0.0000e+00     \n",
      "Epoch 7/100\n",
      "60/60 [==============================] - 1s - loss: 104.0494 - dense_1_loss_1: 4.2429 - dense_1_loss_2: 4.0890 - dense_1_loss_3: 3.9209 - dense_1_loss_4: 3.8717 - dense_1_loss_5: 3.7357 - dense_1_loss_6: 3.7332 - dense_1_loss_7: 3.6892 - dense_1_loss_8: 3.4996 - dense_1_loss_9: 3.5961 - dense_1_loss_10: 3.3377 - dense_1_loss_11: 3.4954 - dense_1_loss_12: 3.7370 - dense_1_loss_13: 3.4367 - dense_1_loss_14: 3.3855 - dense_1_loss_15: 3.4959 - dense_1_loss_16: 3.4889 - dense_1_loss_17: 3.4784 - dense_1_loss_18: 3.4932 - dense_1_loss_19: 3.3939 - dense_1_loss_20: 3.5631 - dense_1_loss_21: 3.5437 - dense_1_loss_22: 3.4382 - dense_1_loss_23: 3.4919 - dense_1_loss_24: 3.4247 - dense_1_loss_25: 3.6632 - dense_1_loss_26: 3.2451 - dense_1_loss_27: 3.4599 - dense_1_loss_28: 3.4942 - dense_1_loss_29: 3.6046 - dense_1_loss_30: 0.0000e+00 - dense_1_acc_1: 0.0667 - dense_1_acc_2: 0.1167 - dense_1_acc_3: 0.2167 - dense_1_acc_4: 0.2000 - dense_1_acc_5: 0.1833 - dense_1_acc_6: 0.1167 - dense_1_acc_7: 0.1167 - dense_1_acc_8: 0.1167 - dense_1_acc_9: 0.1333 - dense_1_acc_10: 0.1667 - dense_1_acc_11: 0.1000 - dense_1_acc_12: 0.0667 - dense_1_acc_13: 0.1833 - dense_1_acc_14: 0.1833 - dense_1_acc_15: 0.1500 - dense_1_acc_16: 0.1667 - dense_1_acc_17: 0.1500 - dense_1_acc_18: 0.0667 - dense_1_acc_19: 0.1667 - dense_1_acc_20: 0.1333 - dense_1_acc_21: 0.1167 - dense_1_acc_22: 0.1333 - dense_1_acc_23: 0.1667 - dense_1_acc_24: 0.1167 - dense_1_acc_25: 0.0333 - dense_1_acc_26: 0.1667 - dense_1_acc_27: 0.1167 - dense_1_acc_28: 0.1333 - dense_1_acc_29: 0.1333 - dense_1_acc_30: 0.0000e+00         \n",
      "Epoch 8/100\n",
      "60/60 [==============================] - 1s - loss: 101.3662 - dense_1_loss_1: 4.2301 - dense_1_loss_2: 4.0536 - dense_1_loss_3: 3.8594 - dense_1_loss_4: 3.7974 - dense_1_loss_5: 3.6462 - dense_1_loss_6: 3.6499 - dense_1_loss_7: 3.6019 - dense_1_loss_8: 3.4091 - dense_1_loss_9: 3.5001 - dense_1_loss_10: 3.1914 - dense_1_loss_11: 3.3929 - dense_1_loss_12: 3.5813 - dense_1_loss_13: 3.2710 - dense_1_loss_14: 3.2689 - dense_1_loss_15: 3.4136 - dense_1_loss_16: 3.4306 - dense_1_loss_17: 3.2847 - dense_1_loss_18: 3.4529 - dense_1_loss_19: 3.3118 - dense_1_loss_20: 3.4401 - dense_1_loss_21: 3.4204 - dense_1_loss_22: 3.3221 - dense_1_loss_23: 3.4228 - dense_1_loss_24: 3.4117 - dense_1_loss_25: 3.5554 - dense_1_loss_26: 3.1931 - dense_1_loss_27: 3.4166 - dense_1_loss_28: 3.3481 - dense_1_loss_29: 3.4891 - dense_1_loss_30: 0.0000e+00 - dense_1_acc_1: 0.0667 - dense_1_acc_2: 0.1333 - dense_1_acc_3: 0.2167 - dense_1_acc_4: 0.1833 - dense_1_acc_5: 0.2000 - dense_1_acc_6: 0.1333 - dense_1_acc_7: 0.1167 - dense_1_acc_8: 0.1333 - dense_1_acc_9: 0.1333 - dense_1_acc_10: 0.1833 - dense_1_acc_11: 0.1167 - dense_1_acc_12: 0.0667 - dense_1_acc_13: 0.1167 - dense_1_acc_14: 0.1833 - dense_1_acc_15: 0.1500 - dense_1_acc_16: 0.1500 - dense_1_acc_17: 0.2167 - dense_1_acc_18: 0.0833 - dense_1_acc_19: 0.1333 - dense_1_acc_20: 0.1667 - dense_1_acc_21: 0.1167 - dense_1_acc_22: 0.1000 - dense_1_acc_23: 0.1167 - dense_1_acc_24: 0.1000 - dense_1_acc_25: 0.0667 - dense_1_acc_26: 0.1500 - dense_1_acc_27: 0.0667 - dense_1_acc_28: 0.1500 - dense_1_acc_29: 0.1167 - dense_1_acc_30: 0.0000e+00         \n",
      "Epoch 9/100\n",
      "60/60 [==============================] - 1s - loss: 99.0772 - dense_1_loss_1: 4.2193 - dense_1_loss_2: 4.0213 - dense_1_loss_3: 3.7952 - dense_1_loss_4: 3.7329 - dense_1_loss_5: 3.5550 - dense_1_loss_6: 3.5758 - dense_1_loss_7: 3.5374 - dense_1_loss_8: 3.3265 - dense_1_loss_9: 3.4018 - dense_1_loss_10: 3.1026 - dense_1_loss_11: 3.3094 - dense_1_loss_12: 3.4707 - dense_1_loss_13: 3.1462 - dense_1_loss_14: 3.1242 - dense_1_loss_15: 3.3391 - dense_1_loss_16: 3.3472 - dense_1_loss_17: 3.1806 - dense_1_loss_18: 3.3784 - dense_1_loss_19: 3.2970 - dense_1_loss_20: 3.3704 - dense_1_loss_21: 3.3829 - dense_1_loss_22: 3.2310 - dense_1_loss_23: 3.4005 - dense_1_loss_24: 3.3536 - dense_1_loss_25: 3.4545 - dense_1_loss_26: 3.1269 - dense_1_loss_27: 3.2756 - dense_1_loss_28: 3.2103 - dense_1_loss_29: 3.4110 - dense_1_loss_30: 0.0000e+00 - dense_1_acc_1: 0.0667 - dense_1_acc_2: 0.1500 - dense_1_acc_3: 0.2167 - dense_1_acc_4: 0.1833 - dense_1_acc_5: 0.2167 - dense_1_acc_6: 0.1500 - dense_1_acc_7: 0.1333 - dense_1_acc_8: 0.1500 - dense_1_acc_9: 0.1667 - dense_1_acc_10: 0.2167 - dense_1_acc_11: 0.1333 - dense_1_acc_12: 0.1000 - dense_1_acc_13: 0.1833 - dense_1_acc_14: 0.2167 - dense_1_acc_15: 0.1500 - dense_1_acc_16: 0.1833 - dense_1_acc_17: 0.2333 - dense_1_acc_18: 0.1333 - dense_1_acc_19: 0.1500 - dense_1_acc_20: 0.1833 - dense_1_acc_21: 0.1167 - dense_1_acc_22: 0.1500 - dense_1_acc_23: 0.1000 - dense_1_acc_24: 0.1167 - dense_1_acc_25: 0.0667 - dense_1_acc_26: 0.1667 - dense_1_acc_27: 0.0833 - dense_1_acc_28: 0.1667 - dense_1_acc_29: 0.1500 - dense_1_acc_30: 0.0000e+00      \n",
      "Epoch 10/100\n",
      "60/60 [==============================] - 1s - loss: 96.4519 - dense_1_loss_1: 4.2107 - dense_1_loss_2: 3.9931 - dense_1_loss_3: 3.7448 - dense_1_loss_4: 3.6730 - dense_1_loss_5: 3.4834 - dense_1_loss_6: 3.4817 - dense_1_loss_7: 3.4420 - dense_1_loss_8: 3.2195 - dense_1_loss_9: 3.2917 - dense_1_loss_10: 2.9599 - dense_1_loss_11: 3.2198 - dense_1_loss_12: 3.3435 - dense_1_loss_13: 3.0848 - dense_1_loss_14: 3.0808 - dense_1_loss_15: 3.1888 - dense_1_loss_16: 3.3136 - dense_1_loss_17: 3.0855 - dense_1_loss_18: 3.2513 - dense_1_loss_19: 3.1854 - dense_1_loss_20: 3.2919 - dense_1_loss_21: 3.2887 - dense_1_loss_22: 3.1011 - dense_1_loss_23: 3.2737 - dense_1_loss_24: 3.2371 - dense_1_loss_25: 3.3678 - dense_1_loss_26: 3.0294 - dense_1_loss_27: 3.2151 - dense_1_loss_28: 3.0947 - dense_1_loss_29: 3.2991 - dense_1_loss_30: 0.0000e+00 - dense_1_acc_1: 0.0667 - dense_1_acc_2: 0.1500 - dense_1_acc_3: 0.2500 - dense_1_acc_4: 0.2000 - dense_1_acc_5: 0.2167 - dense_1_acc_6: 0.1500 - dense_1_acc_7: 0.1500 - dense_1_acc_8: 0.1333 - dense_1_acc_9: 0.1500 - dense_1_acc_10: 0.2167 - dense_1_acc_11: 0.1333 - dense_1_acc_12: 0.0667 - dense_1_acc_13: 0.2000 - dense_1_acc_14: 0.2333 - dense_1_acc_15: 0.1500 - dense_1_acc_16: 0.1833 - dense_1_acc_17: 0.2500 - dense_1_acc_18: 0.1500 - dense_1_acc_19: 0.1667 - dense_1_acc_20: 0.1833 - dense_1_acc_21: 0.1500 - dense_1_acc_22: 0.1500 - dense_1_acc_23: 0.1333 - dense_1_acc_24: 0.1333 - dense_1_acc_25: 0.0833 - dense_1_acc_26: 0.2167 - dense_1_acc_27: 0.1000 - dense_1_acc_28: 0.1833 - dense_1_acc_29: 0.1667 - dense_1_acc_30: 0.0000e+00     \n",
      "Epoch 11/100\n"
     ]
    },
    {
     "name": "stdout",
     "output_type": "stream",
     "text": [
      "60/60 [==============================] - 1s - loss: 92.9528 - dense_1_loss_1: 4.2026 - dense_1_loss_2: 3.9659 - dense_1_loss_3: 3.6967 - dense_1_loss_4: 3.6092 - dense_1_loss_5: 3.4012 - dense_1_loss_6: 3.3843 - dense_1_loss_7: 3.3504 - dense_1_loss_8: 3.0999 - dense_1_loss_9: 3.1450 - dense_1_loss_10: 2.8582 - dense_1_loss_11: 3.1530 - dense_1_loss_12: 3.2290 - dense_1_loss_13: 2.9141 - dense_1_loss_14: 2.9466 - dense_1_loss_15: 3.0376 - dense_1_loss_16: 3.2177 - dense_1_loss_17: 2.9996 - dense_1_loss_18: 3.0161 - dense_1_loss_19: 3.0701 - dense_1_loss_20: 3.1579 - dense_1_loss_21: 3.0699 - dense_1_loss_22: 2.9222 - dense_1_loss_23: 3.1980 - dense_1_loss_24: 3.1137 - dense_1_loss_25: 3.1972 - dense_1_loss_26: 2.8454 - dense_1_loss_27: 2.9587 - dense_1_loss_28: 3.0310 - dense_1_loss_29: 3.1615 - dense_1_loss_30: 0.0000e+00 - dense_1_acc_1: 0.0333 - dense_1_acc_2: 0.1500 - dense_1_acc_3: 0.2667 - dense_1_acc_4: 0.2000 - dense_1_acc_5: 0.2667 - dense_1_acc_6: 0.1667 - dense_1_acc_7: 0.2000 - dense_1_acc_8: 0.1500 - dense_1_acc_9: 0.2333 - dense_1_acc_10: 0.2500 - dense_1_acc_11: 0.2000 - dense_1_acc_12: 0.1000 - dense_1_acc_13: 0.2000 - dense_1_acc_14: 0.3000 - dense_1_acc_15: 0.2000 - dense_1_acc_16: 0.1333 - dense_1_acc_17: 0.2167 - dense_1_acc_18: 0.1333 - dense_1_acc_19: 0.1833 - dense_1_acc_20: 0.1833 - dense_1_acc_21: 0.1500 - dense_1_acc_22: 0.2000 - dense_1_acc_23: 0.1000 - dense_1_acc_24: 0.1833 - dense_1_acc_25: 0.0833 - dense_1_acc_26: 0.2333 - dense_1_acc_27: 0.2167 - dense_1_acc_28: 0.1000 - dense_1_acc_29: 0.1000 - dense_1_acc_30: 0.0000e+00     \n",
      "Epoch 12/100\n",
      "60/60 [==============================] - 1s - loss: 89.9459 - dense_1_loss_1: 4.1948 - dense_1_loss_2: 3.9393 - dense_1_loss_3: 3.6401 - dense_1_loss_4: 3.5403 - dense_1_loss_5: 3.3178 - dense_1_loss_6: 3.2774 - dense_1_loss_7: 3.2665 - dense_1_loss_8: 3.0053 - dense_1_loss_9: 3.0033 - dense_1_loss_10: 2.7826 - dense_1_loss_11: 3.0449 - dense_1_loss_12: 3.0639 - dense_1_loss_13: 2.8200 - dense_1_loss_14: 2.8334 - dense_1_loss_15: 2.9379 - dense_1_loss_16: 3.1521 - dense_1_loss_17: 2.8260 - dense_1_loss_18: 2.8605 - dense_1_loss_19: 2.9670 - dense_1_loss_20: 3.0237 - dense_1_loss_21: 3.0154 - dense_1_loss_22: 2.7785 - dense_1_loss_23: 3.0275 - dense_1_loss_24: 2.9881 - dense_1_loss_25: 3.1507 - dense_1_loss_26: 2.6805 - dense_1_loss_27: 2.9242 - dense_1_loss_28: 2.8139 - dense_1_loss_29: 3.0702 - dense_1_loss_30: 0.0000e+00 - dense_1_acc_1: 0.0333 - dense_1_acc_2: 0.1500 - dense_1_acc_3: 0.2667 - dense_1_acc_4: 0.1833 - dense_1_acc_5: 0.2667 - dense_1_acc_6: 0.1500 - dense_1_acc_7: 0.2000 - dense_1_acc_8: 0.1833 - dense_1_acc_9: 0.2333 - dense_1_acc_10: 0.2500 - dense_1_acc_11: 0.2000 - dense_1_acc_12: 0.1167 - dense_1_acc_13: 0.2000 - dense_1_acc_14: 0.2833 - dense_1_acc_15: 0.2167 - dense_1_acc_16: 0.1833 - dense_1_acc_17: 0.2167 - dense_1_acc_18: 0.2333 - dense_1_acc_19: 0.1667 - dense_1_acc_20: 0.1667 - dense_1_acc_21: 0.1667 - dense_1_acc_22: 0.2167 - dense_1_acc_23: 0.1833 - dense_1_acc_24: 0.1833 - dense_1_acc_25: 0.1667 - dense_1_acc_26: 0.2667 - dense_1_acc_27: 0.2167 - dense_1_acc_28: 0.1833 - dense_1_acc_29: 0.1167 - dense_1_acc_30: 0.0000e+00     \n",
      "Epoch 13/100\n",
      "60/60 [==============================] - 1s - loss: 86.6707 - dense_1_loss_1: 4.1846 - dense_1_loss_2: 3.9080 - dense_1_loss_3: 3.5819 - dense_1_loss_4: 3.4657 - dense_1_loss_5: 3.2239 - dense_1_loss_6: 3.1677 - dense_1_loss_7: 3.1682 - dense_1_loss_8: 2.9100 - dense_1_loss_9: 2.8910 - dense_1_loss_10: 2.6650 - dense_1_loss_11: 2.9243 - dense_1_loss_12: 2.9145 - dense_1_loss_13: 2.6739 - dense_1_loss_14: 2.7456 - dense_1_loss_15: 2.7867 - dense_1_loss_16: 2.9942 - dense_1_loss_17: 2.6557 - dense_1_loss_18: 2.7909 - dense_1_loss_19: 2.8239 - dense_1_loss_20: 2.8506 - dense_1_loss_21: 2.8918 - dense_1_loss_22: 2.7050 - dense_1_loss_23: 2.9264 - dense_1_loss_24: 2.8126 - dense_1_loss_25: 2.9920 - dense_1_loss_26: 2.5983 - dense_1_loss_27: 2.8527 - dense_1_loss_28: 2.7119 - dense_1_loss_29: 2.8535 - dense_1_loss_30: 0.0000e+00 - dense_1_acc_1: 0.0333 - dense_1_acc_2: 0.1500 - dense_1_acc_3: 0.2500 - dense_1_acc_4: 0.2000 - dense_1_acc_5: 0.2500 - dense_1_acc_6: 0.1500 - dense_1_acc_7: 0.2167 - dense_1_acc_8: 0.1833 - dense_1_acc_9: 0.2167 - dense_1_acc_10: 0.2500 - dense_1_acc_11: 0.2167 - dense_1_acc_12: 0.1167 - dense_1_acc_13: 0.2167 - dense_1_acc_14: 0.2500 - dense_1_acc_15: 0.2000 - dense_1_acc_16: 0.2000 - dense_1_acc_17: 0.2833 - dense_1_acc_18: 0.2333 - dense_1_acc_19: 0.2167 - dense_1_acc_20: 0.2333 - dense_1_acc_21: 0.1833 - dense_1_acc_22: 0.2000 - dense_1_acc_23: 0.1667 - dense_1_acc_24: 0.2000 - dense_1_acc_25: 0.1667 - dense_1_acc_26: 0.3667 - dense_1_acc_27: 0.1500 - dense_1_acc_28: 0.2667 - dense_1_acc_29: 0.2000 - dense_1_acc_30: 0.0000e+00         \n",
      "Epoch 14/100\n",
      "60/60 [==============================] - 1s - loss: 83.2200 - dense_1_loss_1: 4.1767 - dense_1_loss_2: 3.8771 - dense_1_loss_3: 3.5197 - dense_1_loss_4: 3.3800 - dense_1_loss_5: 3.1279 - dense_1_loss_6: 3.0686 - dense_1_loss_7: 3.0591 - dense_1_loss_8: 2.7693 - dense_1_loss_9: 2.7637 - dense_1_loss_10: 2.5253 - dense_1_loss_11: 2.7752 - dense_1_loss_12: 2.7882 - dense_1_loss_13: 2.5552 - dense_1_loss_14: 2.6141 - dense_1_loss_15: 2.6988 - dense_1_loss_16: 2.8974 - dense_1_loss_17: 2.5668 - dense_1_loss_18: 2.6255 - dense_1_loss_19: 2.6223 - dense_1_loss_20: 2.7444 - dense_1_loss_21: 2.7408 - dense_1_loss_22: 2.5487 - dense_1_loss_23: 2.7270 - dense_1_loss_24: 2.6905 - dense_1_loss_25: 2.8437 - dense_1_loss_26: 2.4997 - dense_1_loss_27: 2.6448 - dense_1_loss_28: 2.6450 - dense_1_loss_29: 2.7246 - dense_1_loss_30: 0.0000e+00 - dense_1_acc_1: 0.0333 - dense_1_acc_2: 0.1500 - dense_1_acc_3: 0.2667 - dense_1_acc_4: 0.2333 - dense_1_acc_5: 0.2500 - dense_1_acc_6: 0.1500 - dense_1_acc_7: 0.2167 - dense_1_acc_8: 0.2167 - dense_1_acc_9: 0.2500 - dense_1_acc_10: 0.3000 - dense_1_acc_11: 0.2333 - dense_1_acc_12: 0.1500 - dense_1_acc_13: 0.2500 - dense_1_acc_14: 0.3500 - dense_1_acc_15: 0.2500 - dense_1_acc_16: 0.2000 - dense_1_acc_17: 0.3000 - dense_1_acc_18: 0.2500 - dense_1_acc_19: 0.2500 - dense_1_acc_20: 0.2167 - dense_1_acc_21: 0.2000 - dense_1_acc_22: 0.2667 - dense_1_acc_23: 0.3000 - dense_1_acc_24: 0.2500 - dense_1_acc_25: 0.1667 - dense_1_acc_26: 0.3667 - dense_1_acc_27: 0.2667 - dense_1_acc_28: 0.3167 - dense_1_acc_29: 0.1833 - dense_1_acc_30: 0.0000e+00         \n",
      "Epoch 15/100\n",
      "60/60 [==============================] - 1s - loss: 80.0139 - dense_1_loss_1: 4.1677 - dense_1_loss_2: 3.8437 - dense_1_loss_3: 3.4564 - dense_1_loss_4: 3.2979 - dense_1_loss_5: 3.0428 - dense_1_loss_6: 2.9699 - dense_1_loss_7: 2.9218 - dense_1_loss_8: 2.6386 - dense_1_loss_9: 2.6909 - dense_1_loss_10: 2.4140 - dense_1_loss_11: 2.6530 - dense_1_loss_12: 2.6246 - dense_1_loss_13: 2.4517 - dense_1_loss_14: 2.5362 - dense_1_loss_15: 2.5576 - dense_1_loss_16: 2.7407 - dense_1_loss_17: 2.4947 - dense_1_loss_18: 2.5302 - dense_1_loss_19: 2.4799 - dense_1_loss_20: 2.5712 - dense_1_loss_21: 2.6064 - dense_1_loss_22: 2.4589 - dense_1_loss_23: 2.6030 - dense_1_loss_24: 2.5639 - dense_1_loss_25: 2.6945 - dense_1_loss_26: 2.3801 - dense_1_loss_27: 2.5568 - dense_1_loss_28: 2.4794 - dense_1_loss_29: 2.5873 - dense_1_loss_30: 0.0000e+00 - dense_1_acc_1: 0.0333 - dense_1_acc_2: 0.1667 - dense_1_acc_3: 0.2667 - dense_1_acc_4: 0.2333 - dense_1_acc_5: 0.2500 - dense_1_acc_6: 0.1667 - dense_1_acc_7: 0.2833 - dense_1_acc_8: 0.2833 - dense_1_acc_9: 0.2667 - dense_1_acc_10: 0.3000 - dense_1_acc_11: 0.2333 - dense_1_acc_12: 0.1333 - dense_1_acc_13: 0.3167 - dense_1_acc_14: 0.3333 - dense_1_acc_15: 0.2500 - dense_1_acc_16: 0.2667 - dense_1_acc_17: 0.3500 - dense_1_acc_18: 0.2667 - dense_1_acc_19: 0.2833 - dense_1_acc_20: 0.2667 - dense_1_acc_21: 0.2167 - dense_1_acc_22: 0.2333 - dense_1_acc_23: 0.3000 - dense_1_acc_24: 0.2667 - dense_1_acc_25: 0.1667 - dense_1_acc_26: 0.3833 - dense_1_acc_27: 0.2667 - dense_1_acc_28: 0.2833 - dense_1_acc_29: 0.1833 - dense_1_acc_30: 0.0000e+00         \n",
      "Epoch 16/100\n",
      "60/60 [==============================] - 1s - loss: 77.0562 - dense_1_loss_1: 4.1591 - dense_1_loss_2: 3.8098 - dense_1_loss_3: 3.3936 - dense_1_loss_4: 3.2178 - dense_1_loss_5: 2.9527 - dense_1_loss_6: 2.8646 - dense_1_loss_7: 2.8026 - dense_1_loss_8: 2.5354 - dense_1_loss_9: 2.6145 - dense_1_loss_10: 2.3197 - dense_1_loss_11: 2.5791 - dense_1_loss_12: 2.4818 - dense_1_loss_13: 2.3388 - dense_1_loss_14: 2.4173 - dense_1_loss_15: 2.4224 - dense_1_loss_16: 2.6558 - dense_1_loss_17: 2.3739 - dense_1_loss_18: 2.4371 - dense_1_loss_19: 2.3133 - dense_1_loss_20: 2.4528 - dense_1_loss_21: 2.4953 - dense_1_loss_22: 2.3653 - dense_1_loss_23: 2.5358 - dense_1_loss_24: 2.4812 - dense_1_loss_25: 2.5783 - dense_1_loss_26: 2.2921 - dense_1_loss_27: 2.4132 - dense_1_loss_28: 2.3196 - dense_1_loss_29: 2.4333 - dense_1_loss_30: 0.0000e+00 - dense_1_acc_1: 0.0667 - dense_1_acc_2: 0.1667 - dense_1_acc_3: 0.2667 - dense_1_acc_4: 0.2333 - dense_1_acc_5: 0.2833 - dense_1_acc_6: 0.2000 - dense_1_acc_7: 0.3167 - dense_1_acc_8: 0.2667 - dense_1_acc_9: 0.2833 - dense_1_acc_10: 0.3000 - dense_1_acc_11: 0.2833 - dense_1_acc_12: 0.1667 - dense_1_acc_13: 0.3167 - dense_1_acc_14: 0.3667 - dense_1_acc_15: 0.2667 - dense_1_acc_16: 0.2333 - dense_1_acc_17: 0.3333 - dense_1_acc_18: 0.2500 - dense_1_acc_19: 0.3167 - dense_1_acc_20: 0.2500 - dense_1_acc_21: 0.2000 - dense_1_acc_22: 0.2500 - dense_1_acc_23: 0.3000 - dense_1_acc_24: 0.2667 - dense_1_acc_25: 0.2000 - dense_1_acc_26: 0.3667 - dense_1_acc_27: 0.3333 - dense_1_acc_28: 0.3500 - dense_1_acc_29: 0.2167 - dense_1_acc_30: 0.0000e+00     \n",
      "Epoch 17/100\n",
      "60/60 [==============================] - 1s - loss: 73.6106 - dense_1_loss_1: 4.1512 - dense_1_loss_2: 3.7710 - dense_1_loss_3: 3.3242 - dense_1_loss_4: 3.1319 - dense_1_loss_5: 2.8577 - dense_1_loss_6: 2.7467 - dense_1_loss_7: 2.6632 - dense_1_loss_8: 2.3876 - dense_1_loss_9: 2.5191 - dense_1_loss_10: 2.2211 - dense_1_loss_11: 2.4912 - dense_1_loss_12: 2.3651 - dense_1_loss_13: 2.2408 - dense_1_loss_14: 2.2911 - dense_1_loss_15: 2.2875 - dense_1_loss_16: 2.5078 - dense_1_loss_17: 2.2632 - dense_1_loss_18: 2.2357 - dense_1_loss_19: 2.2153 - dense_1_loss_20: 2.3074 - dense_1_loss_21: 2.3521 - dense_1_loss_22: 2.2343 - dense_1_loss_23: 2.3721 - dense_1_loss_24: 2.3372 - dense_1_loss_25: 2.4172 - dense_1_loss_26: 2.1314 - dense_1_loss_27: 2.2393 - dense_1_loss_28: 2.1986 - dense_1_loss_29: 2.3496 - dense_1_loss_30: 0.0000e+00 - dense_1_acc_1: 0.0667 - dense_1_acc_2: 0.1333 - dense_1_acc_3: 0.2667 - dense_1_acc_4: 0.2167 - dense_1_acc_5: 0.2833 - dense_1_acc_6: 0.2000 - dense_1_acc_7: 0.3167 - dense_1_acc_8: 0.3500 - dense_1_acc_9: 0.3333 - dense_1_acc_10: 0.3667 - dense_1_acc_11: 0.2667 - dense_1_acc_12: 0.1833 - dense_1_acc_13: 0.3833 - dense_1_acc_14: 0.4167 - dense_1_acc_15: 0.3000 - dense_1_acc_16: 0.2167 - dense_1_acc_17: 0.3000 - dense_1_acc_18: 0.3333 - dense_1_acc_19: 0.3667 - dense_1_acc_20: 0.3167 - dense_1_acc_21: 0.2833 - dense_1_acc_22: 0.3167 - dense_1_acc_23: 0.3167 - dense_1_acc_24: 0.3000 - dense_1_acc_25: 0.2333 - dense_1_acc_26: 0.5000 - dense_1_acc_27: 0.3667 - dense_1_acc_28: 0.4167 - dense_1_acc_29: 0.2833 - dense_1_acc_30: 0.0167         \n",
      "Epoch 18/100\n",
      "60/60 [==============================] - 1s - loss: 70.3411 - dense_1_loss_1: 4.1426 - dense_1_loss_2: 3.7289 - dense_1_loss_3: 3.2614 - dense_1_loss_4: 3.0443 - dense_1_loss_5: 2.7598 - dense_1_loss_6: 2.6100 - dense_1_loss_7: 2.5505 - dense_1_loss_8: 2.2914 - dense_1_loss_9: 2.3826 - dense_1_loss_10: 2.1289 - dense_1_loss_11: 2.3475 - dense_1_loss_12: 2.2274 - dense_1_loss_13: 2.0981 - dense_1_loss_14: 2.1558 - dense_1_loss_15: 2.1514 - dense_1_loss_16: 2.3420 - dense_1_loss_17: 2.1011 - dense_1_loss_18: 2.1085 - dense_1_loss_19: 2.1127 - dense_1_loss_20: 2.1512 - dense_1_loss_21: 2.2134 - dense_1_loss_22: 2.1003 - dense_1_loss_23: 2.2450 - dense_1_loss_24: 2.1985 - dense_1_loss_25: 2.2978 - dense_1_loss_26: 2.0179 - dense_1_loss_27: 2.2212 - dense_1_loss_28: 2.1116 - dense_1_loss_29: 2.2394 - dense_1_loss_30: 0.0000e+00 - dense_1_acc_1: 0.0667 - dense_1_acc_2: 0.1167 - dense_1_acc_3: 0.2833 - dense_1_acc_4: 0.2000 - dense_1_acc_5: 0.3000 - dense_1_acc_6: 0.2333 - dense_1_acc_7: 0.3333 - dense_1_acc_8: 0.3667 - dense_1_acc_9: 0.3500 - dense_1_acc_10: 0.4333 - dense_1_acc_11: 0.3333 - dense_1_acc_12: 0.2500 - dense_1_acc_13: 0.4500 - dense_1_acc_14: 0.4333 - dense_1_acc_15: 0.3500 - dense_1_acc_16: 0.2833 - dense_1_acc_17: 0.3500 - dense_1_acc_18: 0.3833 - dense_1_acc_19: 0.3833 - dense_1_acc_20: 0.2833 - dense_1_acc_21: 0.3167 - dense_1_acc_22: 0.3167 - dense_1_acc_23: 0.3500 - dense_1_acc_24: 0.3000 - dense_1_acc_25: 0.2667 - dense_1_acc_26: 0.5000 - dense_1_acc_27: 0.3500 - dense_1_acc_28: 0.4500 - dense_1_acc_29: 0.3833 - dense_1_acc_30: 0.0167         \n",
      "Epoch 19/100\n",
      "60/60 [==============================] - 1s - loss: 67.2420 - dense_1_loss_1: 4.1336 - dense_1_loss_2: 3.6884 - dense_1_loss_3: 3.1955 - dense_1_loss_4: 2.9516 - dense_1_loss_5: 2.6579 - dense_1_loss_6: 2.4915 - dense_1_loss_7: 2.4526 - dense_1_loss_8: 2.2199 - dense_1_loss_9: 2.2615 - dense_1_loss_10: 2.0357 - dense_1_loss_11: 2.1920 - dense_1_loss_12: 2.1100 - dense_1_loss_13: 1.9769 - dense_1_loss_14: 2.0455 - dense_1_loss_15: 2.0633 - dense_1_loss_16: 2.2445 - dense_1_loss_17: 1.9957 - dense_1_loss_18: 2.0534 - dense_1_loss_19: 1.9808 - dense_1_loss_20: 2.0216 - dense_1_loss_21: 2.1077 - dense_1_loss_22: 1.9533 - dense_1_loss_23: 2.0573 - dense_1_loss_24: 2.0681 - dense_1_loss_25: 2.1945 - dense_1_loss_26: 1.9141 - dense_1_loss_27: 2.1286 - dense_1_loss_28: 1.9699 - dense_1_loss_29: 2.0765 - dense_1_loss_30: 0.0000e+00 - dense_1_acc_1: 0.0667 - dense_1_acc_2: 0.1333 - dense_1_acc_3: 0.2833 - dense_1_acc_4: 0.2000 - dense_1_acc_5: 0.2833 - dense_1_acc_6: 0.2833 - dense_1_acc_7: 0.3167 - dense_1_acc_8: 0.3500 - dense_1_acc_9: 0.3667 - dense_1_acc_10: 0.4333 - dense_1_acc_11: 0.3500 - dense_1_acc_12: 0.3500 - dense_1_acc_13: 0.4500 - dense_1_acc_14: 0.4667 - dense_1_acc_15: 0.3500 - dense_1_acc_16: 0.3167 - dense_1_acc_17: 0.3833 - dense_1_acc_18: 0.3500 - dense_1_acc_19: 0.4167 - dense_1_acc_20: 0.4833 - dense_1_acc_21: 0.3167 - dense_1_acc_22: 0.3333 - dense_1_acc_23: 0.3667 - dense_1_acc_24: 0.3167 - dense_1_acc_25: 0.2000 - dense_1_acc_26: 0.4667 - dense_1_acc_27: 0.3833 - dense_1_acc_28: 0.4667 - dense_1_acc_29: 0.4500 - dense_1_acc_30: 0.0167         \n",
      "Epoch 20/100\n",
      "60/60 [==============================] - 1s - loss: 64.1650 - dense_1_loss_1: 4.1252 - dense_1_loss_2: 3.6487 - dense_1_loss_3: 3.1264 - dense_1_loss_4: 2.8660 - dense_1_loss_5: 2.5542 - dense_1_loss_6: 2.3847 - dense_1_loss_7: 2.3212 - dense_1_loss_8: 2.0916 - dense_1_loss_9: 2.1526 - dense_1_loss_10: 1.9308 - dense_1_loss_11: 2.0927 - dense_1_loss_12: 1.9702 - dense_1_loss_13: 1.9019 - dense_1_loss_14: 1.9265 - dense_1_loss_15: 1.9583 - dense_1_loss_16: 2.0399 - dense_1_loss_17: 1.8945 - dense_1_loss_18: 1.9279 - dense_1_loss_19: 1.8739 - dense_1_loss_20: 1.9214 - dense_1_loss_21: 1.9868 - dense_1_loss_22: 1.8647 - dense_1_loss_23: 1.9448 - dense_1_loss_24: 1.9325 - dense_1_loss_25: 2.0871 - dense_1_loss_26: 1.7659 - dense_1_loss_27: 2.0136 - dense_1_loss_28: 1.8728 - dense_1_loss_29: 1.9886 - dense_1_loss_30: 0.0000e+00 - dense_1_acc_1: 0.0667 - dense_1_acc_2: 0.1833 - dense_1_acc_3: 0.3000 - dense_1_acc_4: 0.2000 - dense_1_acc_5: 0.3000 - dense_1_acc_6: 0.3000 - dense_1_acc_7: 0.3667 - dense_1_acc_8: 0.4167 - dense_1_acc_9: 0.4000 - dense_1_acc_10: 0.4500 - dense_1_acc_11: 0.4167 - dense_1_acc_12: 0.3833 - dense_1_acc_13: 0.4000 - dense_1_acc_14: 0.4500 - dense_1_acc_15: 0.4500 - dense_1_acc_16: 0.3333 - dense_1_acc_17: 0.4667 - dense_1_acc_18: 0.4333 - dense_1_acc_19: 0.4833 - dense_1_acc_20: 0.4667 - dense_1_acc_21: 0.3667 - dense_1_acc_22: 0.4667 - dense_1_acc_23: 0.4167 - dense_1_acc_24: 0.4333 - dense_1_acc_25: 0.2333 - dense_1_acc_26: 0.5667 - dense_1_acc_27: 0.4833 - dense_1_acc_28: 0.4833 - dense_1_acc_29: 0.4500 - dense_1_acc_30: 0.0167         \n",
      "Epoch 21/100\n"
     ]
    },
    {
     "name": "stdout",
     "output_type": "stream",
     "text": [
      "60/60 [==============================] - 1s - loss: 61.2137 - dense_1_loss_1: 4.1173 - dense_1_loss_2: 3.6063 - dense_1_loss_3: 3.0558 - dense_1_loss_4: 2.7777 - dense_1_loss_5: 2.4501 - dense_1_loss_6: 2.2670 - dense_1_loss_7: 2.1954 - dense_1_loss_8: 2.0005 - dense_1_loss_9: 2.0294 - dense_1_loss_10: 1.8342 - dense_1_loss_11: 1.9950 - dense_1_loss_12: 1.8394 - dense_1_loss_13: 1.7710 - dense_1_loss_14: 1.7999 - dense_1_loss_15: 1.8384 - dense_1_loss_16: 1.9273 - dense_1_loss_17: 1.7735 - dense_1_loss_18: 1.8585 - dense_1_loss_19: 1.7500 - dense_1_loss_20: 1.8053 - dense_1_loss_21: 1.8747 - dense_1_loss_22: 1.7289 - dense_1_loss_23: 1.8884 - dense_1_loss_24: 1.8172 - dense_1_loss_25: 1.9519 - dense_1_loss_26: 1.6827 - dense_1_loss_27: 1.9062 - dense_1_loss_28: 1.7457 - dense_1_loss_29: 1.9262 - dense_1_loss_30: 0.0000e+00 - dense_1_acc_1: 0.0667 - dense_1_acc_2: 0.2000 - dense_1_acc_3: 0.3167 - dense_1_acc_4: 0.2667 - dense_1_acc_5: 0.2833 - dense_1_acc_6: 0.4000 - dense_1_acc_7: 0.4167 - dense_1_acc_8: 0.4500 - dense_1_acc_9: 0.4500 - dense_1_acc_10: 0.5167 - dense_1_acc_11: 0.4500 - dense_1_acc_12: 0.4500 - dense_1_acc_13: 0.5000 - dense_1_acc_14: 0.5167 - dense_1_acc_15: 0.5000 - dense_1_acc_16: 0.3833 - dense_1_acc_17: 0.5333 - dense_1_acc_18: 0.4833 - dense_1_acc_19: 0.6000 - dense_1_acc_20: 0.5333 - dense_1_acc_21: 0.4000 - dense_1_acc_22: 0.5500 - dense_1_acc_23: 0.5000 - dense_1_acc_24: 0.5167 - dense_1_acc_25: 0.3833 - dense_1_acc_26: 0.5333 - dense_1_acc_27: 0.5167 - dense_1_acc_28: 0.6500 - dense_1_acc_29: 0.5333 - dense_1_acc_30: 0.0167         \n",
      "Epoch 22/100\n",
      "60/60 [==============================] - 1s - loss: 58.3169 - dense_1_loss_1: 4.1102 - dense_1_loss_2: 3.5624 - dense_1_loss_3: 2.9825 - dense_1_loss_4: 2.6817 - dense_1_loss_5: 2.3394 - dense_1_loss_6: 2.1286 - dense_1_loss_7: 2.0761 - dense_1_loss_8: 1.9080 - dense_1_loss_9: 1.9138 - dense_1_loss_10: 1.7781 - dense_1_loss_11: 1.8640 - dense_1_loss_12: 1.7860 - dense_1_loss_13: 1.6526 - dense_1_loss_14: 1.7092 - dense_1_loss_15: 1.7127 - dense_1_loss_16: 1.8306 - dense_1_loss_17: 1.6885 - dense_1_loss_18: 1.7261 - dense_1_loss_19: 1.6571 - dense_1_loss_20: 1.7424 - dense_1_loss_21: 1.7675 - dense_1_loss_22: 1.5956 - dense_1_loss_23: 1.7812 - dense_1_loss_24: 1.6727 - dense_1_loss_25: 1.7945 - dense_1_loss_26: 1.6172 - dense_1_loss_27: 1.7157 - dense_1_loss_28: 1.6790 - dense_1_loss_29: 1.8436 - dense_1_loss_30: 0.0000e+00 - dense_1_acc_1: 0.0667 - dense_1_acc_2: 0.2167 - dense_1_acc_3: 0.3167 - dense_1_acc_4: 0.2833 - dense_1_acc_5: 0.3500 - dense_1_acc_6: 0.3833 - dense_1_acc_7: 0.5000 - dense_1_acc_8: 0.4833 - dense_1_acc_9: 0.5500 - dense_1_acc_10: 0.5167 - dense_1_acc_11: 0.4667 - dense_1_acc_12: 0.4500 - dense_1_acc_13: 0.4833 - dense_1_acc_14: 0.4833 - dense_1_acc_15: 0.5167 - dense_1_acc_16: 0.4667 - dense_1_acc_17: 0.5500 - dense_1_acc_18: 0.5333 - dense_1_acc_19: 0.5833 - dense_1_acc_20: 0.5333 - dense_1_acc_21: 0.5333 - dense_1_acc_22: 0.6500 - dense_1_acc_23: 0.5167 - dense_1_acc_24: 0.6000 - dense_1_acc_25: 0.5167 - dense_1_acc_26: 0.6500 - dense_1_acc_27: 0.6167 - dense_1_acc_28: 0.6833 - dense_1_acc_29: 0.5833 - dense_1_acc_30: 0.0167     \n",
      "Epoch 23/100\n",
      "60/60 [==============================] - 1s - loss: 55.3584 - dense_1_loss_1: 4.1022 - dense_1_loss_2: 3.5183 - dense_1_loss_3: 2.9106 - dense_1_loss_4: 2.5891 - dense_1_loss_5: 2.2381 - dense_1_loss_6: 1.9959 - dense_1_loss_7: 1.9344 - dense_1_loss_8: 1.7764 - dense_1_loss_9: 1.7891 - dense_1_loss_10: 1.6750 - dense_1_loss_11: 1.7262 - dense_1_loss_12: 1.6336 - dense_1_loss_13: 1.5478 - dense_1_loss_14: 1.5712 - dense_1_loss_15: 1.6174 - dense_1_loss_16: 1.7094 - dense_1_loss_17: 1.5565 - dense_1_loss_18: 1.5694 - dense_1_loss_19: 1.5643 - dense_1_loss_20: 1.6533 - dense_1_loss_21: 1.6783 - dense_1_loss_22: 1.5266 - dense_1_loss_23: 1.6746 - dense_1_loss_24: 1.5719 - dense_1_loss_25: 1.6767 - dense_1_loss_26: 1.5166 - dense_1_loss_27: 1.6896 - dense_1_loss_28: 1.5786 - dense_1_loss_29: 1.7674 - dense_1_loss_30: 0.0000e+00 - dense_1_acc_1: 0.0667 - dense_1_acc_2: 0.2667 - dense_1_acc_3: 0.3500 - dense_1_acc_4: 0.2667 - dense_1_acc_5: 0.3500 - dense_1_acc_6: 0.4833 - dense_1_acc_7: 0.5167 - dense_1_acc_8: 0.5000 - dense_1_acc_9: 0.5500 - dense_1_acc_10: 0.5833 - dense_1_acc_11: 0.5500 - dense_1_acc_12: 0.5000 - dense_1_acc_13: 0.6000 - dense_1_acc_14: 0.5500 - dense_1_acc_15: 0.5667 - dense_1_acc_16: 0.5167 - dense_1_acc_17: 0.5833 - dense_1_acc_18: 0.6000 - dense_1_acc_19: 0.5833 - dense_1_acc_20: 0.5333 - dense_1_acc_21: 0.5667 - dense_1_acc_22: 0.6667 - dense_1_acc_23: 0.6000 - dense_1_acc_24: 0.6333 - dense_1_acc_25: 0.5167 - dense_1_acc_26: 0.7000 - dense_1_acc_27: 0.5833 - dense_1_acc_28: 0.6500 - dense_1_acc_29: 0.5000 - dense_1_acc_30: 0.0000e+00     \n",
      "Epoch 24/100\n",
      "60/60 [==============================] - 1s - loss: 52.5065 - dense_1_loss_1: 4.0949 - dense_1_loss_2: 3.4754 - dense_1_loss_3: 2.8324 - dense_1_loss_4: 2.4954 - dense_1_loss_5: 2.1441 - dense_1_loss_6: 1.8938 - dense_1_loss_7: 1.8122 - dense_1_loss_8: 1.6617 - dense_1_loss_9: 1.6929 - dense_1_loss_10: 1.5640 - dense_1_loss_11: 1.6298 - dense_1_loss_12: 1.5192 - dense_1_loss_13: 1.4588 - dense_1_loss_14: 1.4678 - dense_1_loss_15: 1.5198 - dense_1_loss_16: 1.6062 - dense_1_loss_17: 1.4644 - dense_1_loss_18: 1.4469 - dense_1_loss_19: 1.4803 - dense_1_loss_20: 1.5562 - dense_1_loss_21: 1.5849 - dense_1_loss_22: 1.4682 - dense_1_loss_23: 1.5656 - dense_1_loss_24: 1.4527 - dense_1_loss_25: 1.5720 - dense_1_loss_26: 1.4203 - dense_1_loss_27: 1.5732 - dense_1_loss_28: 1.4477 - dense_1_loss_29: 1.6057 - dense_1_loss_30: 0.0000e+00 - dense_1_acc_1: 0.0667 - dense_1_acc_2: 0.2833 - dense_1_acc_3: 0.3500 - dense_1_acc_4: 0.3000 - dense_1_acc_5: 0.4000 - dense_1_acc_6: 0.5167 - dense_1_acc_7: 0.5333 - dense_1_acc_8: 0.5333 - dense_1_acc_9: 0.5167 - dense_1_acc_10: 0.6000 - dense_1_acc_11: 0.6000 - dense_1_acc_12: 0.5833 - dense_1_acc_13: 0.6500 - dense_1_acc_14: 0.6333 - dense_1_acc_15: 0.5333 - dense_1_acc_16: 0.5333 - dense_1_acc_17: 0.6000 - dense_1_acc_18: 0.5833 - dense_1_acc_19: 0.6833 - dense_1_acc_20: 0.5667 - dense_1_acc_21: 0.5833 - dense_1_acc_22: 0.7000 - dense_1_acc_23: 0.5833 - dense_1_acc_24: 0.6667 - dense_1_acc_25: 0.5000 - dense_1_acc_26: 0.7167 - dense_1_acc_27: 0.6000 - dense_1_acc_28: 0.7000 - dense_1_acc_29: 0.6000 - dense_1_acc_30: 0.0167     \n",
      "Epoch 25/100\n",
      "60/60 [==============================] - 1s - loss: 49.8263 - dense_1_loss_1: 4.0862 - dense_1_loss_2: 3.4278 - dense_1_loss_3: 2.7591 - dense_1_loss_4: 2.4090 - dense_1_loss_5: 2.0421 - dense_1_loss_6: 1.7941 - dense_1_loss_7: 1.7006 - dense_1_loss_8: 1.5678 - dense_1_loss_9: 1.6114 - dense_1_loss_10: 1.4721 - dense_1_loss_11: 1.4936 - dense_1_loss_12: 1.4186 - dense_1_loss_13: 1.3464 - dense_1_loss_14: 1.3439 - dense_1_loss_15: 1.4662 - dense_1_loss_16: 1.5277 - dense_1_loss_17: 1.3659 - dense_1_loss_18: 1.3494 - dense_1_loss_19: 1.3803 - dense_1_loss_20: 1.4460 - dense_1_loss_21: 1.4720 - dense_1_loss_22: 1.4027 - dense_1_loss_23: 1.4518 - dense_1_loss_24: 1.3732 - dense_1_loss_25: 1.4606 - dense_1_loss_26: 1.3338 - dense_1_loss_27: 1.4766 - dense_1_loss_28: 1.3483 - dense_1_loss_29: 1.4992 - dense_1_loss_30: 0.0000e+00 - dense_1_acc_1: 0.0667 - dense_1_acc_2: 0.3000 - dense_1_acc_3: 0.3500 - dense_1_acc_4: 0.3333 - dense_1_acc_5: 0.4000 - dense_1_acc_6: 0.5833 - dense_1_acc_7: 0.5167 - dense_1_acc_8: 0.6500 - dense_1_acc_9: 0.5667 - dense_1_acc_10: 0.7000 - dense_1_acc_11: 0.6167 - dense_1_acc_12: 0.6833 - dense_1_acc_13: 0.7333 - dense_1_acc_14: 0.7167 - dense_1_acc_15: 0.5667 - dense_1_acc_16: 0.6333 - dense_1_acc_17: 0.7667 - dense_1_acc_18: 0.7167 - dense_1_acc_19: 0.7167 - dense_1_acc_20: 0.7000 - dense_1_acc_21: 0.6667 - dense_1_acc_22: 0.6500 - dense_1_acc_23: 0.6333 - dense_1_acc_24: 0.6833 - dense_1_acc_25: 0.6500 - dense_1_acc_26: 0.7500 - dense_1_acc_27: 0.5833 - dense_1_acc_28: 0.8500 - dense_1_acc_29: 0.7167 - dense_1_acc_30: 0.0167             \n",
      "Epoch 26/100\n",
      "60/60 [==============================] - 1s - loss: 47.2497 - dense_1_loss_1: 4.0787 - dense_1_loss_2: 3.3800 - dense_1_loss_3: 2.6759 - dense_1_loss_4: 2.3166 - dense_1_loss_5: 1.9381 - dense_1_loss_6: 1.6795 - dense_1_loss_7: 1.5673 - dense_1_loss_8: 1.4623 - dense_1_loss_9: 1.5257 - dense_1_loss_10: 1.3811 - dense_1_loss_11: 1.4038 - dense_1_loss_12: 1.3261 - dense_1_loss_13: 1.2608 - dense_1_loss_14: 1.2341 - dense_1_loss_15: 1.3523 - dense_1_loss_16: 1.4186 - dense_1_loss_17: 1.2729 - dense_1_loss_18: 1.2778 - dense_1_loss_19: 1.2793 - dense_1_loss_20: 1.3557 - dense_1_loss_21: 1.3816 - dense_1_loss_22: 1.3161 - dense_1_loss_23: 1.3421 - dense_1_loss_24: 1.2842 - dense_1_loss_25: 1.3763 - dense_1_loss_26: 1.2389 - dense_1_loss_27: 1.4018 - dense_1_loss_28: 1.2678 - dense_1_loss_29: 1.4543 - dense_1_loss_30: 0.0000e+00 - dense_1_acc_1: 0.0667 - dense_1_acc_2: 0.3167 - dense_1_acc_3: 0.3833 - dense_1_acc_4: 0.3333 - dense_1_acc_5: 0.4167 - dense_1_acc_6: 0.6333 - dense_1_acc_7: 0.6333 - dense_1_acc_8: 0.6833 - dense_1_acc_9: 0.7000 - dense_1_acc_10: 0.6833 - dense_1_acc_11: 0.6667 - dense_1_acc_12: 0.7333 - dense_1_acc_13: 0.7500 - dense_1_acc_14: 0.8000 - dense_1_acc_15: 0.6333 - dense_1_acc_16: 0.7000 - dense_1_acc_17: 0.8000 - dense_1_acc_18: 0.7500 - dense_1_acc_19: 0.8000 - dense_1_acc_20: 0.7167 - dense_1_acc_21: 0.7667 - dense_1_acc_22: 0.7833 - dense_1_acc_23: 0.7000 - dense_1_acc_24: 0.7333 - dense_1_acc_25: 0.6833 - dense_1_acc_26: 0.7833 - dense_1_acc_27: 0.6333 - dense_1_acc_28: 0.8333 - dense_1_acc_29: 0.7000 - dense_1_acc_30: 0.0167         \n",
      "Epoch 27/100\n",
      "60/60 [==============================] - 1s - loss: 44.7309 - dense_1_loss_1: 4.0703 - dense_1_loss_2: 3.3312 - dense_1_loss_3: 2.6003 - dense_1_loss_4: 2.2237 - dense_1_loss_5: 1.8432 - dense_1_loss_6: 1.5521 - dense_1_loss_7: 1.4546 - dense_1_loss_8: 1.3773 - dense_1_loss_9: 1.4126 - dense_1_loss_10: 1.2635 - dense_1_loss_11: 1.3150 - dense_1_loss_12: 1.2041 - dense_1_loss_13: 1.1763 - dense_1_loss_14: 1.1510 - dense_1_loss_15: 1.2770 - dense_1_loss_16: 1.3229 - dense_1_loss_17: 1.1958 - dense_1_loss_18: 1.2108 - dense_1_loss_19: 1.2063 - dense_1_loss_20: 1.2515 - dense_1_loss_21: 1.2853 - dense_1_loss_22: 1.2311 - dense_1_loss_23: 1.2560 - dense_1_loss_24: 1.2032 - dense_1_loss_25: 1.2798 - dense_1_loss_26: 1.1791 - dense_1_loss_27: 1.2984 - dense_1_loss_28: 1.1951 - dense_1_loss_29: 1.3635 - dense_1_loss_30: 0.0000e+00 - dense_1_acc_1: 0.0667 - dense_1_acc_2: 0.3333 - dense_1_acc_3: 0.3833 - dense_1_acc_4: 0.3833 - dense_1_acc_5: 0.5333 - dense_1_acc_6: 0.7167 - dense_1_acc_7: 0.6333 - dense_1_acc_8: 0.7167 - dense_1_acc_9: 0.7000 - dense_1_acc_10: 0.7667 - dense_1_acc_11: 0.7333 - dense_1_acc_12: 0.7833 - dense_1_acc_13: 0.8167 - dense_1_acc_14: 0.8000 - dense_1_acc_15: 0.7333 - dense_1_acc_16: 0.7167 - dense_1_acc_17: 0.8167 - dense_1_acc_18: 0.7667 - dense_1_acc_19: 0.8333 - dense_1_acc_20: 0.7167 - dense_1_acc_21: 0.7000 - dense_1_acc_22: 0.7667 - dense_1_acc_23: 0.7833 - dense_1_acc_24: 0.7500 - dense_1_acc_25: 0.7000 - dense_1_acc_26: 0.7667 - dense_1_acc_27: 0.6667 - dense_1_acc_28: 0.8500 - dense_1_acc_29: 0.6500 - dense_1_acc_30: 0.0167     \n",
      "Epoch 28/100\n",
      "60/60 [==============================] - 1s - loss: 42.3373 - dense_1_loss_1: 4.0625 - dense_1_loss_2: 3.2810 - dense_1_loss_3: 2.5245 - dense_1_loss_4: 2.1302 - dense_1_loss_5: 1.7475 - dense_1_loss_6: 1.4470 - dense_1_loss_7: 1.3446 - dense_1_loss_8: 1.2851 - dense_1_loss_9: 1.3137 - dense_1_loss_10: 1.1537 - dense_1_loss_11: 1.2426 - dense_1_loss_12: 1.1153 - dense_1_loss_13: 1.0795 - dense_1_loss_14: 1.0884 - dense_1_loss_15: 1.1962 - dense_1_loss_16: 1.2381 - dense_1_loss_17: 1.0995 - dense_1_loss_18: 1.1286 - dense_1_loss_19: 1.1459 - dense_1_loss_20: 1.1612 - dense_1_loss_21: 1.2082 - dense_1_loss_22: 1.1530 - dense_1_loss_23: 1.1706 - dense_1_loss_24: 1.1163 - dense_1_loss_25: 1.1735 - dense_1_loss_26: 1.1195 - dense_1_loss_27: 1.2159 - dense_1_loss_28: 1.1262 - dense_1_loss_29: 1.2688 - dense_1_loss_30: 0.0000e+00 - dense_1_acc_1: 0.0667 - dense_1_acc_2: 0.3333 - dense_1_acc_3: 0.4333 - dense_1_acc_4: 0.4000 - dense_1_acc_5: 0.5667 - dense_1_acc_6: 0.7333 - dense_1_acc_7: 0.8333 - dense_1_acc_8: 0.7333 - dense_1_acc_9: 0.7833 - dense_1_acc_10: 0.8167 - dense_1_acc_11: 0.7167 - dense_1_acc_12: 0.8167 - dense_1_acc_13: 0.8500 - dense_1_acc_14: 0.8333 - dense_1_acc_15: 0.8000 - dense_1_acc_16: 0.7833 - dense_1_acc_17: 0.8667 - dense_1_acc_18: 0.8167 - dense_1_acc_19: 0.7667 - dense_1_acc_20: 0.7833 - dense_1_acc_21: 0.7167 - dense_1_acc_22: 0.8167 - dense_1_acc_23: 0.7667 - dense_1_acc_24: 0.8667 - dense_1_acc_25: 0.7833 - dense_1_acc_26: 0.8500 - dense_1_acc_27: 0.7000 - dense_1_acc_28: 0.8833 - dense_1_acc_29: 0.7500 - dense_1_acc_30: 0.0167         \n",
      "Epoch 29/100\n",
      "60/60 [==============================] - 1s - loss: 39.9100 - dense_1_loss_1: 4.0545 - dense_1_loss_2: 3.2323 - dense_1_loss_3: 2.4484 - dense_1_loss_4: 2.0432 - dense_1_loss_5: 1.6601 - dense_1_loss_6: 1.3409 - dense_1_loss_7: 1.2346 - dense_1_loss_8: 1.2184 - dense_1_loss_9: 1.1984 - dense_1_loss_10: 1.0567 - dense_1_loss_11: 1.1257 - dense_1_loss_12: 1.0246 - dense_1_loss_13: 0.9929 - dense_1_loss_14: 0.9885 - dense_1_loss_15: 1.1203 - dense_1_loss_16: 1.1340 - dense_1_loss_17: 1.0131 - dense_1_loss_18: 1.0593 - dense_1_loss_19: 1.0599 - dense_1_loss_20: 1.0844 - dense_1_loss_21: 1.1067 - dense_1_loss_22: 1.0606 - dense_1_loss_23: 1.0918 - dense_1_loss_24: 1.0327 - dense_1_loss_25: 1.1007 - dense_1_loss_26: 1.0501 - dense_1_loss_27: 1.1463 - dense_1_loss_28: 1.0546 - dense_1_loss_29: 1.1766 - dense_1_loss_30: 0.0000e+00 - dense_1_acc_1: 0.0667 - dense_1_acc_2: 0.3333 - dense_1_acc_3: 0.4333 - dense_1_acc_4: 0.4000 - dense_1_acc_5: 0.5833 - dense_1_acc_6: 0.7333 - dense_1_acc_7: 0.8333 - dense_1_acc_8: 0.7667 - dense_1_acc_9: 0.8333 - dense_1_acc_10: 0.8667 - dense_1_acc_11: 0.7667 - dense_1_acc_12: 0.8500 - dense_1_acc_13: 0.9000 - dense_1_acc_14: 0.8667 - dense_1_acc_15: 0.8167 - dense_1_acc_16: 0.8667 - dense_1_acc_17: 0.9000 - dense_1_acc_18: 0.8500 - dense_1_acc_19: 0.8500 - dense_1_acc_20: 0.8667 - dense_1_acc_21: 0.8333 - dense_1_acc_22: 0.8167 - dense_1_acc_23: 0.8333 - dense_1_acc_24: 0.9333 - dense_1_acc_25: 0.7667 - dense_1_acc_26: 0.9333 - dense_1_acc_27: 0.7833 - dense_1_acc_28: 0.9000 - dense_1_acc_29: 0.7667 - dense_1_acc_30: 0.0167     \n",
      "Epoch 30/100\n",
      "60/60 [==============================] - 1s - loss: 37.6872 - dense_1_loss_1: 4.0464 - dense_1_loss_2: 3.1806 - dense_1_loss_3: 2.3723 - dense_1_loss_4: 1.9597 - dense_1_loss_5: 1.5707 - dense_1_loss_6: 1.2504 - dense_1_loss_7: 1.1372 - dense_1_loss_8: 1.1317 - dense_1_loss_9: 1.0993 - dense_1_loss_10: 0.9825 - dense_1_loss_11: 1.0446 - dense_1_loss_12: 0.9419 - dense_1_loss_13: 0.9278 - dense_1_loss_14: 0.9127 - dense_1_loss_15: 1.0386 - dense_1_loss_16: 1.0498 - dense_1_loss_17: 0.9447 - dense_1_loss_18: 0.9672 - dense_1_loss_19: 0.9888 - dense_1_loss_20: 1.0131 - dense_1_loss_21: 1.0122 - dense_1_loss_22: 0.9833 - dense_1_loss_23: 1.0284 - dense_1_loss_24: 0.9497 - dense_1_loss_25: 1.0192 - dense_1_loss_26: 0.9757 - dense_1_loss_27: 1.0424 - dense_1_loss_28: 1.0046 - dense_1_loss_29: 1.1117 - dense_1_loss_30: 0.0000e+00 - dense_1_acc_1: 0.0667 - dense_1_acc_2: 0.3333 - dense_1_acc_3: 0.4500 - dense_1_acc_4: 0.4333 - dense_1_acc_5: 0.6000 - dense_1_acc_6: 0.8000 - dense_1_acc_7: 0.8667 - dense_1_acc_8: 0.8000 - dense_1_acc_9: 0.8333 - dense_1_acc_10: 0.9167 - dense_1_acc_11: 0.8000 - dense_1_acc_12: 0.9500 - dense_1_acc_13: 0.9500 - dense_1_acc_14: 0.9000 - dense_1_acc_15: 0.8667 - dense_1_acc_16: 0.9000 - dense_1_acc_17: 0.9500 - dense_1_acc_18: 0.9333 - dense_1_acc_19: 0.8833 - dense_1_acc_20: 0.9167 - dense_1_acc_21: 0.8833 - dense_1_acc_22: 0.8667 - dense_1_acc_23: 0.8833 - dense_1_acc_24: 0.9667 - dense_1_acc_25: 0.8667 - dense_1_acc_26: 0.9333 - dense_1_acc_27: 0.8667 - dense_1_acc_28: 0.9000 - dense_1_acc_29: 0.8167 - dense_1_acc_30: 0.0167     \n",
      "Epoch 31/100\n"
     ]
    },
    {
     "name": "stdout",
     "output_type": "stream",
     "text": [
      "60/60 [==============================] - 1s - loss: 35.5795 - dense_1_loss_1: 4.0379 - dense_1_loss_2: 3.1336 - dense_1_loss_3: 2.2969 - dense_1_loss_4: 1.8749 - dense_1_loss_5: 1.4896 - dense_1_loss_6: 1.1623 - dense_1_loss_7: 1.0465 - dense_1_loss_8: 1.0502 - dense_1_loss_9: 1.0190 - dense_1_loss_10: 0.9142 - dense_1_loss_11: 0.9726 - dense_1_loss_12: 0.8789 - dense_1_loss_13: 0.8498 - dense_1_loss_14: 0.8556 - dense_1_loss_15: 0.9571 - dense_1_loss_16: 0.9677 - dense_1_loss_17: 0.8745 - dense_1_loss_18: 0.9091 - dense_1_loss_19: 0.9142 - dense_1_loss_20: 0.9390 - dense_1_loss_21: 0.9220 - dense_1_loss_22: 0.9133 - dense_1_loss_23: 0.9602 - dense_1_loss_24: 0.8898 - dense_1_loss_25: 0.9479 - dense_1_loss_26: 0.9069 - dense_1_loss_27: 0.9587 - dense_1_loss_28: 0.9178 - dense_1_loss_29: 1.0194 - dense_1_loss_30: 0.0000e+00 - dense_1_acc_1: 0.0667 - dense_1_acc_2: 0.3167 - dense_1_acc_3: 0.4667 - dense_1_acc_4: 0.4500 - dense_1_acc_5: 0.6500 - dense_1_acc_6: 0.8333 - dense_1_acc_7: 0.9000 - dense_1_acc_8: 0.8333 - dense_1_acc_9: 0.8667 - dense_1_acc_10: 0.9167 - dense_1_acc_11: 0.8167 - dense_1_acc_12: 0.9500 - dense_1_acc_13: 0.9500 - dense_1_acc_14: 0.9167 - dense_1_acc_15: 0.8833 - dense_1_acc_16: 0.8667 - dense_1_acc_17: 0.9667 - dense_1_acc_18: 0.9667 - dense_1_acc_19: 0.9167 - dense_1_acc_20: 0.9500 - dense_1_acc_21: 0.9500 - dense_1_acc_22: 0.9167 - dense_1_acc_23: 0.8667 - dense_1_acc_24: 0.9667 - dense_1_acc_25: 0.8833 - dense_1_acc_26: 0.9500 - dense_1_acc_27: 0.8500 - dense_1_acc_28: 0.9000 - dense_1_acc_29: 0.8333 - dense_1_acc_30: 0.0167     \n",
      "Epoch 32/100\n",
      "60/60 [==============================] - 1s - loss: 33.5480 - dense_1_loss_1: 4.0306 - dense_1_loss_2: 3.0848 - dense_1_loss_3: 2.2211 - dense_1_loss_4: 1.7933 - dense_1_loss_5: 1.4041 - dense_1_loss_6: 1.0722 - dense_1_loss_7: 0.9583 - dense_1_loss_8: 0.9790 - dense_1_loss_9: 0.9498 - dense_1_loss_10: 0.8400 - dense_1_loss_11: 0.8985 - dense_1_loss_12: 0.8165 - dense_1_loss_13: 0.7764 - dense_1_loss_14: 0.7889 - dense_1_loss_15: 0.8738 - dense_1_loss_16: 0.8881 - dense_1_loss_17: 0.8105 - dense_1_loss_18: 0.8388 - dense_1_loss_19: 0.8568 - dense_1_loss_20: 0.8717 - dense_1_loss_21: 0.8547 - dense_1_loss_22: 0.8453 - dense_1_loss_23: 0.8779 - dense_1_loss_24: 0.8193 - dense_1_loss_25: 0.8715 - dense_1_loss_26: 0.8378 - dense_1_loss_27: 0.8968 - dense_1_loss_28: 0.8513 - dense_1_loss_29: 0.9400 - dense_1_loss_30: 0.0000e+00 - dense_1_acc_1: 0.0667 - dense_1_acc_2: 0.3167 - dense_1_acc_3: 0.5000 - dense_1_acc_4: 0.4667 - dense_1_acc_5: 0.6833 - dense_1_acc_6: 0.8333 - dense_1_acc_7: 0.9000 - dense_1_acc_8: 0.8500 - dense_1_acc_9: 0.8667 - dense_1_acc_10: 0.9333 - dense_1_acc_11: 0.8333 - dense_1_acc_12: 0.9667 - dense_1_acc_13: 0.9667 - dense_1_acc_14: 0.9667 - dense_1_acc_15: 0.9667 - dense_1_acc_16: 0.9167 - dense_1_acc_17: 0.9500 - dense_1_acc_18: 0.9667 - dense_1_acc_19: 0.9333 - dense_1_acc_20: 0.9500 - dense_1_acc_21: 0.9333 - dense_1_acc_22: 0.9167 - dense_1_acc_23: 0.9500 - dense_1_acc_24: 0.9667 - dense_1_acc_25: 0.9000 - dense_1_acc_26: 0.9500 - dense_1_acc_27: 0.9000 - dense_1_acc_28: 0.9167 - dense_1_acc_29: 0.8667 - dense_1_acc_30: 0.0167         \n",
      "Epoch 33/100\n",
      "60/60 [==============================] - 1s - loss: 31.6051 - dense_1_loss_1: 4.0242 - dense_1_loss_2: 3.0343 - dense_1_loss_3: 2.1453 - dense_1_loss_4: 1.7102 - dense_1_loss_5: 1.3171 - dense_1_loss_6: 0.9890 - dense_1_loss_7: 0.8876 - dense_1_loss_8: 0.8936 - dense_1_loss_9: 0.8755 - dense_1_loss_10: 0.7840 - dense_1_loss_11: 0.8268 - dense_1_loss_12: 0.7620 - dense_1_loss_13: 0.7083 - dense_1_loss_14: 0.7142 - dense_1_loss_15: 0.8021 - dense_1_loss_16: 0.8326 - dense_1_loss_17: 0.7516 - dense_1_loss_18: 0.7787 - dense_1_loss_19: 0.7830 - dense_1_loss_20: 0.8026 - dense_1_loss_21: 0.7892 - dense_1_loss_22: 0.7866 - dense_1_loss_23: 0.7969 - dense_1_loss_24: 0.7656 - dense_1_loss_25: 0.7809 - dense_1_loss_26: 0.7816 - dense_1_loss_27: 0.8190 - dense_1_loss_28: 0.7927 - dense_1_loss_29: 0.8699 - dense_1_loss_30: 0.0000e+00 - dense_1_acc_1: 0.0667 - dense_1_acc_2: 0.3333 - dense_1_acc_3: 0.5167 - dense_1_acc_4: 0.4833 - dense_1_acc_5: 0.7167 - dense_1_acc_6: 0.8000 - dense_1_acc_7: 0.9167 - dense_1_acc_8: 0.8500 - dense_1_acc_9: 0.9333 - dense_1_acc_10: 0.9500 - dense_1_acc_11: 0.9333 - dense_1_acc_12: 0.9667 - dense_1_acc_13: 0.9833 - dense_1_acc_14: 0.9667 - dense_1_acc_15: 0.9500 - dense_1_acc_16: 0.9667 - dense_1_acc_17: 0.9667 - dense_1_acc_18: 0.9833 - dense_1_acc_19: 0.9333 - dense_1_acc_20: 0.9833 - dense_1_acc_21: 0.9333 - dense_1_acc_22: 0.9667 - dense_1_acc_23: 0.9833 - dense_1_acc_24: 0.9667 - dense_1_acc_25: 0.9500 - dense_1_acc_26: 0.9500 - dense_1_acc_27: 0.9167 - dense_1_acc_28: 0.9500 - dense_1_acc_29: 0.8833 - dense_1_acc_30: 0.0167     \n",
      "Epoch 34/100\n",
      "60/60 [==============================] - 1s - loss: 29.7489 - dense_1_loss_1: 4.0168 - dense_1_loss_2: 2.9870 - dense_1_loss_3: 2.0714 - dense_1_loss_4: 1.6278 - dense_1_loss_5: 1.2369 - dense_1_loss_6: 0.9026 - dense_1_loss_7: 0.8230 - dense_1_loss_8: 0.8191 - dense_1_loss_9: 0.8008 - dense_1_loss_10: 0.7189 - dense_1_loss_11: 0.7521 - dense_1_loss_12: 0.6960 - dense_1_loss_13: 0.6503 - dense_1_loss_14: 0.6525 - dense_1_loss_15: 0.7325 - dense_1_loss_16: 0.7558 - dense_1_loss_17: 0.6990 - dense_1_loss_18: 0.7127 - dense_1_loss_19: 0.7252 - dense_1_loss_20: 0.7384 - dense_1_loss_21: 0.7349 - dense_1_loss_22: 0.7268 - dense_1_loss_23: 0.7281 - dense_1_loss_24: 0.7002 - dense_1_loss_25: 0.7199 - dense_1_loss_26: 0.7215 - dense_1_loss_27: 0.7452 - dense_1_loss_28: 0.7403 - dense_1_loss_29: 0.8134 - dense_1_loss_30: 0.0000e+00 - dense_1_acc_1: 0.0667 - dense_1_acc_2: 0.3000 - dense_1_acc_3: 0.5167 - dense_1_acc_4: 0.5833 - dense_1_acc_5: 0.7167 - dense_1_acc_6: 0.8833 - dense_1_acc_7: 0.9500 - dense_1_acc_8: 0.9167 - dense_1_acc_9: 0.9500 - dense_1_acc_10: 0.9667 - dense_1_acc_11: 0.9333 - dense_1_acc_12: 1.0000 - dense_1_acc_13: 0.9833 - dense_1_acc_14: 1.0000 - dense_1_acc_15: 0.9833 - dense_1_acc_16: 0.9833 - dense_1_acc_17: 0.9667 - dense_1_acc_18: 0.9833 - dense_1_acc_19: 0.9667 - dense_1_acc_20: 0.9833 - dense_1_acc_21: 0.9333 - dense_1_acc_22: 0.9833 - dense_1_acc_23: 0.9833 - dense_1_acc_24: 0.9833 - dense_1_acc_25: 0.9500 - dense_1_acc_26: 0.9500 - dense_1_acc_27: 0.9833 - dense_1_acc_28: 0.9333 - dense_1_acc_29: 0.9333 - dense_1_acc_30: 0.0167     \n",
      "Epoch 35/100\n",
      "60/60 [==============================] - 1s - loss: 28.0290 - dense_1_loss_1: 4.0101 - dense_1_loss_2: 2.9351 - dense_1_loss_3: 1.9965 - dense_1_loss_4: 1.5478 - dense_1_loss_5: 1.1571 - dense_1_loss_6: 0.8214 - dense_1_loss_7: 0.7657 - dense_1_loss_8: 0.7470 - dense_1_loss_9: 0.7334 - dense_1_loss_10: 0.6635 - dense_1_loss_11: 0.6823 - dense_1_loss_12: 0.6325 - dense_1_loss_13: 0.5902 - dense_1_loss_14: 0.5944 - dense_1_loss_15: 0.6789 - dense_1_loss_16: 0.6825 - dense_1_loss_17: 0.6511 - dense_1_loss_18: 0.6673 - dense_1_loss_19: 0.6585 - dense_1_loss_20: 0.6804 - dense_1_loss_21: 0.6826 - dense_1_loss_22: 0.6756 - dense_1_loss_23: 0.6731 - dense_1_loss_24: 0.6269 - dense_1_loss_25: 0.6697 - dense_1_loss_26: 0.6709 - dense_1_loss_27: 0.6980 - dense_1_loss_28: 0.6811 - dense_1_loss_29: 0.7554 - dense_1_loss_30: 0.0000e+00 - dense_1_acc_1: 0.0667 - dense_1_acc_2: 0.3167 - dense_1_acc_3: 0.5000 - dense_1_acc_4: 0.5833 - dense_1_acc_5: 0.7333 - dense_1_acc_6: 0.8833 - dense_1_acc_7: 0.9667 - dense_1_acc_8: 0.9167 - dense_1_acc_9: 0.9500 - dense_1_acc_10: 0.9667 - dense_1_acc_11: 0.9333 - dense_1_acc_12: 1.0000 - dense_1_acc_13: 0.9833 - dense_1_acc_14: 0.9833 - dense_1_acc_15: 0.9667 - dense_1_acc_16: 1.0000 - dense_1_acc_17: 0.9667 - dense_1_acc_18: 0.9833 - dense_1_acc_19: 0.9667 - dense_1_acc_20: 0.9667 - dense_1_acc_21: 0.9500 - dense_1_acc_22: 0.9667 - dense_1_acc_23: 0.9833 - dense_1_acc_24: 0.9833 - dense_1_acc_25: 0.9500 - dense_1_acc_26: 0.9667 - dense_1_acc_27: 0.9833 - dense_1_acc_28: 0.9667 - dense_1_acc_29: 0.9333 - dense_1_acc_30: 0.0167         \n",
      "Epoch 36/100\n",
      "60/60 [==============================] - 1s - loss: 26.4085 - dense_1_loss_1: 4.0041 - dense_1_loss_2: 2.8877 - dense_1_loss_3: 1.9269 - dense_1_loss_4: 1.4704 - dense_1_loss_5: 1.0863 - dense_1_loss_6: 0.7505 - dense_1_loss_7: 0.7134 - dense_1_loss_8: 0.6704 - dense_1_loss_9: 0.6758 - dense_1_loss_10: 0.6049 - dense_1_loss_11: 0.6222 - dense_1_loss_12: 0.5818 - dense_1_loss_13: 0.5391 - dense_1_loss_14: 0.5315 - dense_1_loss_15: 0.6212 - dense_1_loss_16: 0.6337 - dense_1_loss_17: 0.6056 - dense_1_loss_18: 0.6167 - dense_1_loss_19: 0.6040 - dense_1_loss_20: 0.6232 - dense_1_loss_21: 0.6435 - dense_1_loss_22: 0.6118 - dense_1_loss_23: 0.6195 - dense_1_loss_24: 0.5700 - dense_1_loss_25: 0.6111 - dense_1_loss_26: 0.6198 - dense_1_loss_27: 0.6336 - dense_1_loss_28: 0.6255 - dense_1_loss_29: 0.7041 - dense_1_loss_30: 0.0000e+00 - dense_1_acc_1: 0.0667 - dense_1_acc_2: 0.3167 - dense_1_acc_3: 0.5167 - dense_1_acc_4: 0.5833 - dense_1_acc_5: 0.8333 - dense_1_acc_6: 0.9167 - dense_1_acc_7: 0.9667 - dense_1_acc_8: 0.9667 - dense_1_acc_9: 0.9500 - dense_1_acc_10: 0.9833 - dense_1_acc_11: 0.9333 - dense_1_acc_12: 1.0000 - dense_1_acc_13: 1.0000 - dense_1_acc_14: 1.0000 - dense_1_acc_15: 0.9833 - dense_1_acc_16: 1.0000 - dense_1_acc_17: 0.9667 - dense_1_acc_18: 0.9833 - dense_1_acc_19: 0.9667 - dense_1_acc_20: 0.9833 - dense_1_acc_21: 0.9667 - dense_1_acc_22: 0.9833 - dense_1_acc_23: 0.9833 - dense_1_acc_24: 0.9833 - dense_1_acc_25: 0.9500 - dense_1_acc_26: 0.9500 - dense_1_acc_27: 0.9833 - dense_1_acc_28: 0.9500 - dense_1_acc_29: 0.9333 - dense_1_acc_30: 0.0167         \n",
      "Epoch 37/100\n",
      "60/60 [==============================] - 1s - loss: 24.8961 - dense_1_loss_1: 3.9974 - dense_1_loss_2: 2.8375 - dense_1_loss_3: 1.8563 - dense_1_loss_4: 1.3921 - dense_1_loss_5: 1.0235 - dense_1_loss_6: 0.6814 - dense_1_loss_7: 0.6617 - dense_1_loss_8: 0.6216 - dense_1_loss_9: 0.6253 - dense_1_loss_10: 0.5602 - dense_1_loss_11: 0.5672 - dense_1_loss_12: 0.5221 - dense_1_loss_13: 0.4918 - dense_1_loss_14: 0.4879 - dense_1_loss_15: 0.5626 - dense_1_loss_16: 0.5764 - dense_1_loss_17: 0.5604 - dense_1_loss_18: 0.5581 - dense_1_loss_19: 0.5574 - dense_1_loss_20: 0.5695 - dense_1_loss_21: 0.5866 - dense_1_loss_22: 0.5769 - dense_1_loss_23: 0.5601 - dense_1_loss_24: 0.5123 - dense_1_loss_25: 0.5585 - dense_1_loss_26: 0.5741 - dense_1_loss_27: 0.5774 - dense_1_loss_28: 0.5871 - dense_1_loss_29: 0.6526 - dense_1_loss_30: 0.0000e+00 - dense_1_acc_1: 0.0667 - dense_1_acc_2: 0.3333 - dense_1_acc_3: 0.5333 - dense_1_acc_4: 0.6000 - dense_1_acc_5: 0.8500 - dense_1_acc_6: 0.9333 - dense_1_acc_7: 0.9667 - dense_1_acc_8: 0.9833 - dense_1_acc_9: 0.9667 - dense_1_acc_10: 0.9833 - dense_1_acc_11: 0.9833 - dense_1_acc_12: 1.0000 - dense_1_acc_13: 1.0000 - dense_1_acc_14: 1.0000 - dense_1_acc_15: 0.9833 - dense_1_acc_16: 1.0000 - dense_1_acc_17: 0.9833 - dense_1_acc_18: 0.9667 - dense_1_acc_19: 0.9667 - dense_1_acc_20: 1.0000 - dense_1_acc_21: 0.9833 - dense_1_acc_22: 0.9833 - dense_1_acc_23: 0.9833 - dense_1_acc_24: 1.0000 - dense_1_acc_25: 0.9833 - dense_1_acc_26: 0.9667 - dense_1_acc_27: 0.9833 - dense_1_acc_28: 0.9667 - dense_1_acc_29: 0.9333 - dense_1_acc_30: 0.0167     \n",
      "Epoch 38/100\n",
      "60/60 [==============================] - 1s - loss: 23.4933 - dense_1_loss_1: 3.9909 - dense_1_loss_2: 2.7895 - dense_1_loss_3: 1.7925 - dense_1_loss_4: 1.3250 - dense_1_loss_5: 0.9532 - dense_1_loss_6: 0.6297 - dense_1_loss_7: 0.6151 - dense_1_loss_8: 0.5514 - dense_1_loss_9: 0.5802 - dense_1_loss_10: 0.5022 - dense_1_loss_11: 0.5262 - dense_1_loss_12: 0.4923 - dense_1_loss_13: 0.4489 - dense_1_loss_14: 0.4424 - dense_1_loss_15: 0.5108 - dense_1_loss_16: 0.5294 - dense_1_loss_17: 0.5120 - dense_1_loss_18: 0.5191 - dense_1_loss_19: 0.5141 - dense_1_loss_20: 0.5221 - dense_1_loss_21: 0.5412 - dense_1_loss_22: 0.5155 - dense_1_loss_23: 0.5151 - dense_1_loss_24: 0.4766 - dense_1_loss_25: 0.5140 - dense_1_loss_26: 0.5216 - dense_1_loss_27: 0.5211 - dense_1_loss_28: 0.5353 - dense_1_loss_29: 0.6059 - dense_1_loss_30: 0.0000e+00 - dense_1_acc_1: 0.0667 - dense_1_acc_2: 0.3667 - dense_1_acc_3: 0.6000 - dense_1_acc_4: 0.6333 - dense_1_acc_5: 0.8500 - dense_1_acc_6: 0.9500 - dense_1_acc_7: 0.9833 - dense_1_acc_8: 0.9833 - dense_1_acc_9: 0.9500 - dense_1_acc_10: 1.0000 - dense_1_acc_11: 0.9333 - dense_1_acc_12: 1.0000 - dense_1_acc_13: 1.0000 - dense_1_acc_14: 1.0000 - dense_1_acc_15: 0.9833 - dense_1_acc_16: 1.0000 - dense_1_acc_17: 1.0000 - dense_1_acc_18: 0.9833 - dense_1_acc_19: 1.0000 - dense_1_acc_20: 1.0000 - dense_1_acc_21: 0.9833 - dense_1_acc_22: 0.9833 - dense_1_acc_23: 0.9833 - dense_1_acc_24: 1.0000 - dense_1_acc_25: 0.9833 - dense_1_acc_26: 0.9667 - dense_1_acc_27: 0.9833 - dense_1_acc_28: 0.9667 - dense_1_acc_29: 0.9333 - dense_1_acc_30: 0.0167         \n",
      "Epoch 39/100\n",
      "60/60 [==============================] - 1s - loss: 22.1772 - dense_1_loss_1: 3.9849 - dense_1_loss_2: 2.7414 - dense_1_loss_3: 1.7259 - dense_1_loss_4: 1.2581 - dense_1_loss_5: 0.8936 - dense_1_loss_6: 0.5773 - dense_1_loss_7: 0.5668 - dense_1_loss_8: 0.5034 - dense_1_loss_9: 0.5274 - dense_1_loss_10: 0.4602 - dense_1_loss_11: 0.4886 - dense_1_loss_12: 0.4489 - dense_1_loss_13: 0.4035 - dense_1_loss_14: 0.4084 - dense_1_loss_15: 0.4715 - dense_1_loss_16: 0.4734 - dense_1_loss_17: 0.4649 - dense_1_loss_18: 0.4773 - dense_1_loss_19: 0.4751 - dense_1_loss_20: 0.4793 - dense_1_loss_21: 0.4949 - dense_1_loss_22: 0.4758 - dense_1_loss_23: 0.4651 - dense_1_loss_24: 0.4332 - dense_1_loss_25: 0.4714 - dense_1_loss_26: 0.4677 - dense_1_loss_27: 0.4816 - dense_1_loss_28: 0.4942 - dense_1_loss_29: 0.5634 - dense_1_loss_30: 0.0000e+00 - dense_1_acc_1: 0.0667 - dense_1_acc_2: 0.3667 - dense_1_acc_3: 0.6000 - dense_1_acc_4: 0.6833 - dense_1_acc_5: 0.8500 - dense_1_acc_6: 0.9667 - dense_1_acc_7: 0.9833 - dense_1_acc_8: 1.0000 - dense_1_acc_9: 0.9500 - dense_1_acc_10: 1.0000 - dense_1_acc_11: 0.9333 - dense_1_acc_12: 1.0000 - dense_1_acc_13: 1.0000 - dense_1_acc_14: 1.0000 - dense_1_acc_15: 0.9833 - dense_1_acc_16: 1.0000 - dense_1_acc_17: 1.0000 - dense_1_acc_18: 0.9833 - dense_1_acc_19: 1.0000 - dense_1_acc_20: 1.0000 - dense_1_acc_21: 1.0000 - dense_1_acc_22: 0.9833 - dense_1_acc_23: 1.0000 - dense_1_acc_24: 1.0000 - dense_1_acc_25: 0.9833 - dense_1_acc_26: 0.9833 - dense_1_acc_27: 1.0000 - dense_1_acc_28: 0.9667 - dense_1_acc_29: 0.9333 - dense_1_acc_30: 0.0333         \n",
      "Epoch 40/100\n",
      "60/60 [==============================] - 1s - loss: 20.9217 - dense_1_loss_1: 3.9788 - dense_1_loss_2: 2.6951 - dense_1_loss_3: 1.6632 - dense_1_loss_4: 1.1831 - dense_1_loss_5: 0.8373 - dense_1_loss_6: 0.5343 - dense_1_loss_7: 0.5267 - dense_1_loss_8: 0.4568 - dense_1_loss_9: 0.4878 - dense_1_loss_10: 0.4104 - dense_1_loss_11: 0.4521 - dense_1_loss_12: 0.4049 - dense_1_loss_13: 0.3689 - dense_1_loss_14: 0.3629 - dense_1_loss_15: 0.4292 - dense_1_loss_16: 0.4385 - dense_1_loss_17: 0.4224 - dense_1_loss_18: 0.4293 - dense_1_loss_19: 0.4276 - dense_1_loss_20: 0.4395 - dense_1_loss_21: 0.4579 - dense_1_loss_22: 0.4250 - dense_1_loss_23: 0.4247 - dense_1_loss_24: 0.3910 - dense_1_loss_25: 0.4322 - dense_1_loss_26: 0.4310 - dense_1_loss_27: 0.4349 - dense_1_loss_28: 0.4558 - dense_1_loss_29: 0.5204 - dense_1_loss_30: 0.0000e+00 - dense_1_acc_1: 0.0667 - dense_1_acc_2: 0.3667 - dense_1_acc_3: 0.6167 - dense_1_acc_4: 0.6833 - dense_1_acc_5: 0.8500 - dense_1_acc_6: 0.9667 - dense_1_acc_7: 0.9833 - dense_1_acc_8: 1.0000 - dense_1_acc_9: 0.9667 - dense_1_acc_10: 1.0000 - dense_1_acc_11: 0.9333 - dense_1_acc_12: 1.0000 - dense_1_acc_13: 1.0000 - dense_1_acc_14: 1.0000 - dense_1_acc_15: 1.0000 - dense_1_acc_16: 1.0000 - dense_1_acc_17: 1.0000 - dense_1_acc_18: 1.0000 - dense_1_acc_19: 1.0000 - dense_1_acc_20: 1.0000 - dense_1_acc_21: 1.0000 - dense_1_acc_22: 0.9833 - dense_1_acc_23: 1.0000 - dense_1_acc_24: 1.0000 - dense_1_acc_25: 0.9833 - dense_1_acc_26: 0.9833 - dense_1_acc_27: 1.0000 - dense_1_acc_28: 0.9667 - dense_1_acc_29: 0.9333 - dense_1_acc_30: 0.0333     \n",
      "Epoch 41/100\n"
     ]
    },
    {
     "name": "stdout",
     "output_type": "stream",
     "text": [
      "60/60 [==============================] - 1s - loss: 19.8329 - dense_1_loss_1: 3.9732 - dense_1_loss_2: 2.6473 - dense_1_loss_3: 1.6009 - dense_1_loss_4: 1.1156 - dense_1_loss_5: 0.7766 - dense_1_loss_6: 0.5019 - dense_1_loss_7: 0.4877 - dense_1_loss_8: 0.4175 - dense_1_loss_9: 0.4534 - dense_1_loss_10: 0.3740 - dense_1_loss_11: 0.4147 - dense_1_loss_12: 0.3806 - dense_1_loss_13: 0.3394 - dense_1_loss_14: 0.3273 - dense_1_loss_15: 0.3908 - dense_1_loss_16: 0.4066 - dense_1_loss_17: 0.3899 - dense_1_loss_18: 0.3885 - dense_1_loss_19: 0.3882 - dense_1_loss_20: 0.4047 - dense_1_loss_21: 0.4222 - dense_1_loss_22: 0.3889 - dense_1_loss_23: 0.3901 - dense_1_loss_24: 0.3567 - dense_1_loss_25: 0.3922 - dense_1_loss_26: 0.3999 - dense_1_loss_27: 0.3931 - dense_1_loss_28: 0.4267 - dense_1_loss_29: 0.4842 - dense_1_loss_30: 0.0000e+00 - dense_1_acc_1: 0.0667 - dense_1_acc_2: 0.4167 - dense_1_acc_3: 0.6167 - dense_1_acc_4: 0.7500 - dense_1_acc_5: 0.8500 - dense_1_acc_6: 0.9667 - dense_1_acc_7: 0.9833 - dense_1_acc_8: 1.0000 - dense_1_acc_9: 0.9667 - dense_1_acc_10: 1.0000 - dense_1_acc_11: 0.9333 - dense_1_acc_12: 1.0000 - dense_1_acc_13: 1.0000 - dense_1_acc_14: 1.0000 - dense_1_acc_15: 1.0000 - dense_1_acc_16: 1.0000 - dense_1_acc_17: 1.0000 - dense_1_acc_18: 1.0000 - dense_1_acc_19: 1.0000 - dense_1_acc_20: 1.0000 - dense_1_acc_21: 0.9833 - dense_1_acc_22: 1.0000 - dense_1_acc_23: 1.0000 - dense_1_acc_24: 1.0000 - dense_1_acc_25: 0.9833 - dense_1_acc_26: 0.9833 - dense_1_acc_27: 1.0000 - dense_1_acc_28: 0.9667 - dense_1_acc_29: 0.9333 - dense_1_acc_30: 0.0333         \n",
      "Epoch 42/100\n",
      "60/60 [==============================] - 1s - loss: 18.7711 - dense_1_loss_1: 3.9674 - dense_1_loss_2: 2.6052 - dense_1_loss_3: 1.5410 - dense_1_loss_4: 1.0560 - dense_1_loss_5: 0.7276 - dense_1_loss_6: 0.4586 - dense_1_loss_7: 0.4456 - dense_1_loss_8: 0.3882 - dense_1_loss_9: 0.4062 - dense_1_loss_10: 0.3442 - dense_1_loss_11: 0.3688 - dense_1_loss_12: 0.3496 - dense_1_loss_13: 0.3030 - dense_1_loss_14: 0.3025 - dense_1_loss_15: 0.3585 - dense_1_loss_16: 0.3569 - dense_1_loss_17: 0.3587 - dense_1_loss_18: 0.3642 - dense_1_loss_19: 0.3543 - dense_1_loss_20: 0.3677 - dense_1_loss_21: 0.3762 - dense_1_loss_22: 0.3618 - dense_1_loss_23: 0.3533 - dense_1_loss_24: 0.3258 - dense_1_loss_25: 0.3614 - dense_1_loss_26: 0.3596 - dense_1_loss_27: 0.3643 - dense_1_loss_28: 0.3918 - dense_1_loss_29: 0.4524 - dense_1_loss_30: 0.0000e+00 - dense_1_acc_1: 0.0667 - dense_1_acc_2: 0.4167 - dense_1_acc_3: 0.6333 - dense_1_acc_4: 0.7833 - dense_1_acc_5: 0.8500 - dense_1_acc_6: 0.9667 - dense_1_acc_7: 0.9833 - dense_1_acc_8: 1.0000 - dense_1_acc_9: 0.9667 - dense_1_acc_10: 1.0000 - dense_1_acc_11: 0.9500 - dense_1_acc_12: 1.0000 - dense_1_acc_13: 1.0000 - dense_1_acc_14: 1.0000 - dense_1_acc_15: 1.0000 - dense_1_acc_16: 1.0000 - dense_1_acc_17: 1.0000 - dense_1_acc_18: 1.0000 - dense_1_acc_19: 1.0000 - dense_1_acc_20: 1.0000 - dense_1_acc_21: 1.0000 - dense_1_acc_22: 1.0000 - dense_1_acc_23: 1.0000 - dense_1_acc_24: 1.0000 - dense_1_acc_25: 0.9833 - dense_1_acc_26: 0.9833 - dense_1_acc_27: 1.0000 - dense_1_acc_28: 0.9667 - dense_1_acc_29: 0.9333 - dense_1_acc_30: 0.0333         \n",
      "Epoch 43/100\n",
      "60/60 [==============================] - 1s - loss: 17.8058 - dense_1_loss_1: 3.9626 - dense_1_loss_2: 2.5591 - dense_1_loss_3: 1.4837 - dense_1_loss_4: 0.9962 - dense_1_loss_5: 0.6741 - dense_1_loss_6: 0.4248 - dense_1_loss_7: 0.4153 - dense_1_loss_8: 0.3546 - dense_1_loss_9: 0.3723 - dense_1_loss_10: 0.3130 - dense_1_loss_11: 0.3383 - dense_1_loss_12: 0.3238 - dense_1_loss_13: 0.2868 - dense_1_loss_14: 0.2800 - dense_1_loss_15: 0.3202 - dense_1_loss_16: 0.3309 - dense_1_loss_17: 0.3287 - dense_1_loss_18: 0.3276 - dense_1_loss_19: 0.3313 - dense_1_loss_20: 0.3356 - dense_1_loss_21: 0.3480 - dense_1_loss_22: 0.3184 - dense_1_loss_23: 0.3238 - dense_1_loss_24: 0.3003 - dense_1_loss_25: 0.3323 - dense_1_loss_26: 0.3234 - dense_1_loss_27: 0.3296 - dense_1_loss_28: 0.3553 - dense_1_loss_29: 0.4157 - dense_1_loss_30: 0.0000e+00 - dense_1_acc_1: 0.0667 - dense_1_acc_2: 0.4167 - dense_1_acc_3: 0.6500 - dense_1_acc_4: 0.8000 - dense_1_acc_5: 0.8667 - dense_1_acc_6: 0.9667 - dense_1_acc_7: 0.9833 - dense_1_acc_8: 1.0000 - dense_1_acc_9: 0.9833 - dense_1_acc_10: 1.0000 - dense_1_acc_11: 0.9833 - dense_1_acc_12: 1.0000 - dense_1_acc_13: 1.0000 - dense_1_acc_14: 1.0000 - dense_1_acc_15: 1.0000 - dense_1_acc_16: 1.0000 - dense_1_acc_17: 1.0000 - dense_1_acc_18: 1.0000 - dense_1_acc_19: 1.0000 - dense_1_acc_20: 1.0000 - dense_1_acc_21: 1.0000 - dense_1_acc_22: 1.0000 - dense_1_acc_23: 1.0000 - dense_1_acc_24: 1.0000 - dense_1_acc_25: 0.9833 - dense_1_acc_26: 0.9833 - dense_1_acc_27: 1.0000 - dense_1_acc_28: 0.9667 - dense_1_acc_29: 0.9667 - dense_1_acc_30: 0.0333     \n",
      "Epoch 44/100\n",
      "60/60 [==============================] - 1s - loss: 16.9231 - dense_1_loss_1: 3.9575 - dense_1_loss_2: 2.5174 - dense_1_loss_3: 1.4302 - dense_1_loss_4: 0.9355 - dense_1_loss_5: 0.6320 - dense_1_loss_6: 0.3950 - dense_1_loss_7: 0.3854 - dense_1_loss_8: 0.3249 - dense_1_loss_9: 0.3495 - dense_1_loss_10: 0.2824 - dense_1_loss_11: 0.3085 - dense_1_loss_12: 0.2937 - dense_1_loss_13: 0.2580 - dense_1_loss_14: 0.2534 - dense_1_loss_15: 0.2882 - dense_1_loss_16: 0.3079 - dense_1_loss_17: 0.2990 - dense_1_loss_18: 0.3009 - dense_1_loss_19: 0.2928 - dense_1_loss_20: 0.3114 - dense_1_loss_21: 0.3234 - dense_1_loss_22: 0.2956 - dense_1_loss_23: 0.2853 - dense_1_loss_24: 0.2727 - dense_1_loss_25: 0.3054 - dense_1_loss_26: 0.3018 - dense_1_loss_27: 0.2943 - dense_1_loss_28: 0.3368 - dense_1_loss_29: 0.3843 - dense_1_loss_30: 0.0000e+00 - dense_1_acc_1: 0.0667 - dense_1_acc_2: 0.4167 - dense_1_acc_3: 0.6667 - dense_1_acc_4: 0.8167 - dense_1_acc_5: 0.8667 - dense_1_acc_6: 0.9667 - dense_1_acc_7: 0.9833 - dense_1_acc_8: 1.0000 - dense_1_acc_9: 0.9833 - dense_1_acc_10: 1.0000 - dense_1_acc_11: 0.9833 - dense_1_acc_12: 1.0000 - dense_1_acc_13: 1.0000 - dense_1_acc_14: 1.0000 - dense_1_acc_15: 1.0000 - dense_1_acc_16: 1.0000 - dense_1_acc_17: 1.0000 - dense_1_acc_18: 1.0000 - dense_1_acc_19: 1.0000 - dense_1_acc_20: 1.0000 - dense_1_acc_21: 1.0000 - dense_1_acc_22: 1.0000 - dense_1_acc_23: 1.0000 - dense_1_acc_24: 1.0000 - dense_1_acc_25: 1.0000 - dense_1_acc_26: 0.9833 - dense_1_acc_27: 1.0000 - dense_1_acc_28: 0.9833 - dense_1_acc_29: 0.9667 - dense_1_acc_30: 0.0167         \n",
      "Epoch 45/100\n",
      "60/60 [==============================] - 1s - loss: 16.1018 - dense_1_loss_1: 3.9536 - dense_1_loss_2: 2.4750 - dense_1_loss_3: 1.3785 - dense_1_loss_4: 0.8786 - dense_1_loss_5: 0.5902 - dense_1_loss_6: 0.3674 - dense_1_loss_7: 0.3513 - dense_1_loss_8: 0.3010 - dense_1_loss_9: 0.3189 - dense_1_loss_10: 0.2605 - dense_1_loss_11: 0.2759 - dense_1_loss_12: 0.2670 - dense_1_loss_13: 0.2290 - dense_1_loss_14: 0.2324 - dense_1_loss_15: 0.2672 - dense_1_loss_16: 0.2813 - dense_1_loss_17: 0.2733 - dense_1_loss_18: 0.2802 - dense_1_loss_19: 0.2631 - dense_1_loss_20: 0.2839 - dense_1_loss_21: 0.2913 - dense_1_loss_22: 0.2763 - dense_1_loss_23: 0.2616 - dense_1_loss_24: 0.2467 - dense_1_loss_25: 0.2768 - dense_1_loss_26: 0.2787 - dense_1_loss_27: 0.2733 - dense_1_loss_28: 0.3085 - dense_1_loss_29: 0.3601 - dense_1_loss_30: 0.0000e+00 - dense_1_acc_1: 0.0667 - dense_1_acc_2: 0.4167 - dense_1_acc_3: 0.7333 - dense_1_acc_4: 0.8167 - dense_1_acc_5: 0.8833 - dense_1_acc_6: 0.9833 - dense_1_acc_7: 0.9833 - dense_1_acc_8: 1.0000 - dense_1_acc_9: 0.9833 - dense_1_acc_10: 1.0000 - dense_1_acc_11: 1.0000 - dense_1_acc_12: 1.0000 - dense_1_acc_13: 1.0000 - dense_1_acc_14: 1.0000 - dense_1_acc_15: 1.0000 - dense_1_acc_16: 1.0000 - dense_1_acc_17: 1.0000 - dense_1_acc_18: 1.0000 - dense_1_acc_19: 1.0000 - dense_1_acc_20: 1.0000 - dense_1_acc_21: 1.0000 - dense_1_acc_22: 1.0000 - dense_1_acc_23: 1.0000 - dense_1_acc_24: 1.0000 - dense_1_acc_25: 1.0000 - dense_1_acc_26: 0.9833 - dense_1_acc_27: 1.0000 - dense_1_acc_28: 0.9833 - dense_1_acc_29: 0.9667 - dense_1_acc_30: 0.0333     \n",
      "Epoch 46/100\n",
      "60/60 [==============================] - 1s - loss: 15.3393 - dense_1_loss_1: 3.9482 - dense_1_loss_2: 2.4338 - dense_1_loss_3: 1.3342 - dense_1_loss_4: 0.8264 - dense_1_loss_5: 0.5473 - dense_1_loss_6: 0.3442 - dense_1_loss_7: 0.3273 - dense_1_loss_8: 0.2761 - dense_1_loss_9: 0.2942 - dense_1_loss_10: 0.2361 - dense_1_loss_11: 0.2613 - dense_1_loss_12: 0.2465 - dense_1_loss_13: 0.2122 - dense_1_loss_14: 0.2138 - dense_1_loss_15: 0.2442 - dense_1_loss_16: 0.2529 - dense_1_loss_17: 0.2475 - dense_1_loss_18: 0.2500 - dense_1_loss_19: 0.2511 - dense_1_loss_20: 0.2542 - dense_1_loss_21: 0.2628 - dense_1_loss_22: 0.2464 - dense_1_loss_23: 0.2393 - dense_1_loss_24: 0.2211 - dense_1_loss_25: 0.2488 - dense_1_loss_26: 0.2551 - dense_1_loss_27: 0.2527 - dense_1_loss_28: 0.2829 - dense_1_loss_29: 0.3289 - dense_1_loss_30: 0.0000e+00 - dense_1_acc_1: 0.0667 - dense_1_acc_2: 0.4167 - dense_1_acc_3: 0.7500 - dense_1_acc_4: 0.8667 - dense_1_acc_5: 0.9167 - dense_1_acc_6: 0.9833 - dense_1_acc_7: 0.9833 - dense_1_acc_8: 1.0000 - dense_1_acc_9: 0.9833 - dense_1_acc_10: 1.0000 - dense_1_acc_11: 0.9833 - dense_1_acc_12: 1.0000 - dense_1_acc_13: 1.0000 - dense_1_acc_14: 1.0000 - dense_1_acc_15: 1.0000 - dense_1_acc_16: 1.0000 - dense_1_acc_17: 1.0000 - dense_1_acc_18: 1.0000 - dense_1_acc_19: 1.0000 - dense_1_acc_20: 1.0000 - dense_1_acc_21: 1.0000 - dense_1_acc_22: 1.0000 - dense_1_acc_23: 1.0000 - dense_1_acc_24: 1.0000 - dense_1_acc_25: 1.0000 - dense_1_acc_26: 0.9833 - dense_1_acc_27: 1.0000 - dense_1_acc_28: 0.9833 - dense_1_acc_29: 0.9667 - dense_1_acc_30: 0.0333     \n",
      "Epoch 47/100\n",
      "60/60 [==============================] - 1s - loss: 14.6593 - dense_1_loss_1: 3.9436 - dense_1_loss_2: 2.3938 - dense_1_loss_3: 1.2895 - dense_1_loss_4: 0.7788 - dense_1_loss_5: 0.5128 - dense_1_loss_6: 0.3195 - dense_1_loss_7: 0.3013 - dense_1_loss_8: 0.2558 - dense_1_loss_9: 0.2708 - dense_1_loss_10: 0.2171 - dense_1_loss_11: 0.2422 - dense_1_loss_12: 0.2250 - dense_1_loss_13: 0.1952 - dense_1_loss_14: 0.1965 - dense_1_loss_15: 0.2234 - dense_1_loss_16: 0.2284 - dense_1_loss_17: 0.2293 - dense_1_loss_18: 0.2279 - dense_1_loss_19: 0.2314 - dense_1_loss_20: 0.2353 - dense_1_loss_21: 0.2398 - dense_1_loss_22: 0.2279 - dense_1_loss_23: 0.2155 - dense_1_loss_24: 0.2005 - dense_1_loss_25: 0.2270 - dense_1_loss_26: 0.2337 - dense_1_loss_27: 0.2316 - dense_1_loss_28: 0.2648 - dense_1_loss_29: 0.3009 - dense_1_loss_30: 0.0000e+00 - dense_1_acc_1: 0.0667 - dense_1_acc_2: 0.4333 - dense_1_acc_3: 0.7500 - dense_1_acc_4: 0.8667 - dense_1_acc_5: 0.9333 - dense_1_acc_6: 0.9833 - dense_1_acc_7: 0.9833 - dense_1_acc_8: 1.0000 - dense_1_acc_9: 0.9833 - dense_1_acc_10: 1.0000 - dense_1_acc_11: 0.9833 - dense_1_acc_12: 1.0000 - dense_1_acc_13: 1.0000 - dense_1_acc_14: 1.0000 - dense_1_acc_15: 1.0000 - dense_1_acc_16: 1.0000 - dense_1_acc_17: 1.0000 - dense_1_acc_18: 1.0000 - dense_1_acc_19: 1.0000 - dense_1_acc_20: 1.0000 - dense_1_acc_21: 1.0000 - dense_1_acc_22: 1.0000 - dense_1_acc_23: 1.0000 - dense_1_acc_24: 1.0000 - dense_1_acc_25: 1.0000 - dense_1_acc_26: 0.9833 - dense_1_acc_27: 1.0000 - dense_1_acc_28: 0.9833 - dense_1_acc_29: 0.9667 - dense_1_acc_30: 0.0333     \n",
      "Epoch 48/100\n",
      "60/60 [==============================] - 1s - loss: 14.0394 - dense_1_loss_1: 3.9392 - dense_1_loss_2: 2.3561 - dense_1_loss_3: 1.2489 - dense_1_loss_4: 0.7304 - dense_1_loss_5: 0.4850 - dense_1_loss_6: 0.2983 - dense_1_loss_7: 0.2747 - dense_1_loss_8: 0.2378 - dense_1_loss_9: 0.2485 - dense_1_loss_10: 0.2004 - dense_1_loss_11: 0.2162 - dense_1_loss_12: 0.2050 - dense_1_loss_13: 0.1776 - dense_1_loss_14: 0.1789 - dense_1_loss_15: 0.2040 - dense_1_loss_16: 0.2116 - dense_1_loss_17: 0.2080 - dense_1_loss_18: 0.2141 - dense_1_loss_19: 0.2069 - dense_1_loss_20: 0.2204 - dense_1_loss_21: 0.2205 - dense_1_loss_22: 0.2086 - dense_1_loss_23: 0.1989 - dense_1_loss_24: 0.1845 - dense_1_loss_25: 0.2087 - dense_1_loss_26: 0.2155 - dense_1_loss_27: 0.2116 - dense_1_loss_28: 0.2507 - dense_1_loss_29: 0.2782 - dense_1_loss_30: 0.0000e+00 - dense_1_acc_1: 0.0667 - dense_1_acc_2: 0.4500 - dense_1_acc_3: 0.7500 - dense_1_acc_4: 0.8667 - dense_1_acc_5: 0.9500 - dense_1_acc_6: 0.9833 - dense_1_acc_7: 0.9833 - dense_1_acc_8: 1.0000 - dense_1_acc_9: 0.9833 - dense_1_acc_10: 1.0000 - dense_1_acc_11: 1.0000 - dense_1_acc_12: 1.0000 - dense_1_acc_13: 1.0000 - dense_1_acc_14: 1.0000 - dense_1_acc_15: 1.0000 - dense_1_acc_16: 1.0000 - dense_1_acc_17: 1.0000 - dense_1_acc_18: 1.0000 - dense_1_acc_19: 1.0000 - dense_1_acc_20: 1.0000 - dense_1_acc_21: 1.0000 - dense_1_acc_22: 1.0000 - dense_1_acc_23: 1.0000 - dense_1_acc_24: 1.0000 - dense_1_acc_25: 1.0000 - dense_1_acc_26: 0.9833 - dense_1_acc_27: 1.0000 - dense_1_acc_28: 0.9833 - dense_1_acc_29: 0.9667 - dense_1_acc_30: 0.0333     \n",
      "Epoch 49/100\n",
      "60/60 [==============================] - 1s - loss: 13.4735 - dense_1_loss_1: 3.9351 - dense_1_loss_2: 2.3177 - dense_1_loss_3: 1.2065 - dense_1_loss_4: 0.6867 - dense_1_loss_5: 0.4550 - dense_1_loss_6: 0.2802 - dense_1_loss_7: 0.2569 - dense_1_loss_8: 0.2229 - dense_1_loss_9: 0.2321 - dense_1_loss_10: 0.1824 - dense_1_loss_11: 0.2024 - dense_1_loss_12: 0.1904 - dense_1_loss_13: 0.1638 - dense_1_loss_14: 0.1648 - dense_1_loss_15: 0.1856 - dense_1_loss_16: 0.1956 - dense_1_loss_17: 0.1919 - dense_1_loss_18: 0.1934 - dense_1_loss_19: 0.1936 - dense_1_loss_20: 0.1985 - dense_1_loss_21: 0.2036 - dense_1_loss_22: 0.1879 - dense_1_loss_23: 0.1845 - dense_1_loss_24: 0.1675 - dense_1_loss_25: 0.1917 - dense_1_loss_26: 0.1970 - dense_1_loss_27: 0.1979 - dense_1_loss_28: 0.2331 - dense_1_loss_29: 0.2550 - dense_1_loss_30: 0.0000e+00 - dense_1_acc_1: 0.0667 - dense_1_acc_2: 0.4667 - dense_1_acc_3: 0.7500 - dense_1_acc_4: 0.8667 - dense_1_acc_5: 0.9833 - dense_1_acc_6: 0.9833 - dense_1_acc_7: 0.9833 - dense_1_acc_8: 1.0000 - dense_1_acc_9: 0.9833 - dense_1_acc_10: 1.0000 - dense_1_acc_11: 1.0000 - dense_1_acc_12: 1.0000 - dense_1_acc_13: 1.0000 - dense_1_acc_14: 1.0000 - dense_1_acc_15: 1.0000 - dense_1_acc_16: 1.0000 - dense_1_acc_17: 1.0000 - dense_1_acc_18: 1.0000 - dense_1_acc_19: 1.0000 - dense_1_acc_20: 1.0000 - dense_1_acc_21: 1.0000 - dense_1_acc_22: 1.0000 - dense_1_acc_23: 1.0000 - dense_1_acc_24: 1.0000 - dense_1_acc_25: 1.0000 - dense_1_acc_26: 0.9833 - dense_1_acc_27: 1.0000 - dense_1_acc_28: 0.9833 - dense_1_acc_29: 0.9667 - dense_1_acc_30: 0.0333     \n",
      "Epoch 50/100\n",
      "60/60 [==============================] - 1s - loss: 12.9419 - dense_1_loss_1: 3.9309 - dense_1_loss_2: 2.2808 - dense_1_loss_3: 1.1670 - dense_1_loss_4: 0.6431 - dense_1_loss_5: 0.4271 - dense_1_loss_6: 0.2620 - dense_1_loss_7: 0.2389 - dense_1_loss_8: 0.2078 - dense_1_loss_9: 0.2152 - dense_1_loss_10: 0.1680 - dense_1_loss_11: 0.1883 - dense_1_loss_12: 0.1743 - dense_1_loss_13: 0.1516 - dense_1_loss_14: 0.1549 - dense_1_loss_15: 0.1703 - dense_1_loss_16: 0.1781 - dense_1_loss_17: 0.1766 - dense_1_loss_18: 0.1775 - dense_1_loss_19: 0.1801 - dense_1_loss_20: 0.1812 - dense_1_loss_21: 0.1845 - dense_1_loss_22: 0.1756 - dense_1_loss_23: 0.1649 - dense_1_loss_24: 0.1518 - dense_1_loss_25: 0.1765 - dense_1_loss_26: 0.1806 - dense_1_loss_27: 0.1845 - dense_1_loss_28: 0.2145 - dense_1_loss_29: 0.2355 - dense_1_loss_30: 0.0000e+00 - dense_1_acc_1: 0.0667 - dense_1_acc_2: 0.5000 - dense_1_acc_3: 0.7500 - dense_1_acc_4: 0.8667 - dense_1_acc_5: 0.9833 - dense_1_acc_6: 0.9833 - dense_1_acc_7: 0.9833 - dense_1_acc_8: 1.0000 - dense_1_acc_9: 0.9833 - dense_1_acc_10: 1.0000 - dense_1_acc_11: 1.0000 - dense_1_acc_12: 1.0000 - dense_1_acc_13: 1.0000 - dense_1_acc_14: 1.0000 - dense_1_acc_15: 1.0000 - dense_1_acc_16: 1.0000 - dense_1_acc_17: 1.0000 - dense_1_acc_18: 1.0000 - dense_1_acc_19: 1.0000 - dense_1_acc_20: 1.0000 - dense_1_acc_21: 1.0000 - dense_1_acc_22: 1.0000 - dense_1_acc_23: 1.0000 - dense_1_acc_24: 1.0000 - dense_1_acc_25: 1.0000 - dense_1_acc_26: 0.9833 - dense_1_acc_27: 1.0000 - dense_1_acc_28: 0.9833 - dense_1_acc_29: 0.9667 - dense_1_acc_30: 0.0333     \n",
      "Epoch 51/100\n"
     ]
    },
    {
     "name": "stdout",
     "output_type": "stream",
     "text": [
      "60/60 [==============================] - 1s - loss: 12.4750 - dense_1_loss_1: 3.9269 - dense_1_loss_2: 2.2440 - dense_1_loss_3: 1.1297 - dense_1_loss_4: 0.6040 - dense_1_loss_5: 0.4059 - dense_1_loss_6: 0.2452 - dense_1_loss_7: 0.2202 - dense_1_loss_8: 0.1954 - dense_1_loss_9: 0.1986 - dense_1_loss_10: 0.1576 - dense_1_loss_11: 0.1693 - dense_1_loss_12: 0.1606 - dense_1_loss_13: 0.1406 - dense_1_loss_14: 0.1430 - dense_1_loss_15: 0.1597 - dense_1_loss_16: 0.1651 - dense_1_loss_17: 0.1624 - dense_1_loss_18: 0.1678 - dense_1_loss_19: 0.1635 - dense_1_loss_20: 0.1669 - dense_1_loss_21: 0.1695 - dense_1_loss_22: 0.1664 - dense_1_loss_23: 0.1512 - dense_1_loss_24: 0.1388 - dense_1_loss_25: 0.1668 - dense_1_loss_26: 0.1663 - dense_1_loss_27: 0.1718 - dense_1_loss_28: 0.1976 - dense_1_loss_29: 0.2203 - dense_1_loss_30: 0.0000e+00 - dense_1_acc_1: 0.0667 - dense_1_acc_2: 0.5000 - dense_1_acc_3: 0.7500 - dense_1_acc_4: 0.8667 - dense_1_acc_5: 0.9833 - dense_1_acc_6: 0.9833 - dense_1_acc_7: 0.9833 - dense_1_acc_8: 1.0000 - dense_1_acc_9: 0.9833 - dense_1_acc_10: 1.0000 - dense_1_acc_11: 1.0000 - dense_1_acc_12: 1.0000 - dense_1_acc_13: 1.0000 - dense_1_acc_14: 1.0000 - dense_1_acc_15: 1.0000 - dense_1_acc_16: 1.0000 - dense_1_acc_17: 1.0000 - dense_1_acc_18: 1.0000 - dense_1_acc_19: 1.0000 - dense_1_acc_20: 1.0000 - dense_1_acc_21: 1.0000 - dense_1_acc_22: 1.0000 - dense_1_acc_23: 1.0000 - dense_1_acc_24: 1.0000 - dense_1_acc_25: 1.0000 - dense_1_acc_26: 0.9833 - dense_1_acc_27: 1.0000 - dense_1_acc_28: 0.9833 - dense_1_acc_29: 0.9667 - dense_1_acc_30: 0.0333     \n",
      "Epoch 52/100\n",
      "60/60 [==============================] - 1s - loss: 12.0274 - dense_1_loss_1: 3.9233 - dense_1_loss_2: 2.2094 - dense_1_loss_3: 1.0943 - dense_1_loss_4: 0.5686 - dense_1_loss_5: 0.3833 - dense_1_loss_6: 0.2288 - dense_1_loss_7: 0.2058 - dense_1_loss_8: 0.1819 - dense_1_loss_9: 0.1852 - dense_1_loss_10: 0.1452 - dense_1_loss_11: 0.1561 - dense_1_loss_12: 0.1493 - dense_1_loss_13: 0.1300 - dense_1_loss_14: 0.1320 - dense_1_loss_15: 0.1463 - dense_1_loss_16: 0.1515 - dense_1_loss_17: 0.1513 - dense_1_loss_18: 0.1543 - dense_1_loss_19: 0.1506 - dense_1_loss_20: 0.1556 - dense_1_loss_21: 0.1575 - dense_1_loss_22: 0.1511 - dense_1_loss_23: 0.1370 - dense_1_loss_24: 0.1283 - dense_1_loss_25: 0.1530 - dense_1_loss_26: 0.1510 - dense_1_loss_27: 0.1581 - dense_1_loss_28: 0.1838 - dense_1_loss_29: 0.2051 - dense_1_loss_30: 0.0000e+00 - dense_1_acc_1: 0.0667 - dense_1_acc_2: 0.5000 - dense_1_acc_3: 0.7667 - dense_1_acc_4: 0.8833 - dense_1_acc_5: 0.9833 - dense_1_acc_6: 0.9833 - dense_1_acc_7: 1.0000 - dense_1_acc_8: 0.9833 - dense_1_acc_9: 0.9833 - dense_1_acc_10: 1.0000 - dense_1_acc_11: 1.0000 - dense_1_acc_12: 1.0000 - dense_1_acc_13: 1.0000 - dense_1_acc_14: 1.0000 - dense_1_acc_15: 1.0000 - dense_1_acc_16: 1.0000 - dense_1_acc_17: 1.0000 - dense_1_acc_18: 1.0000 - dense_1_acc_19: 1.0000 - dense_1_acc_20: 1.0000 - dense_1_acc_21: 1.0000 - dense_1_acc_22: 1.0000 - dense_1_acc_23: 1.0000 - dense_1_acc_24: 1.0000 - dense_1_acc_25: 1.0000 - dense_1_acc_26: 0.9833 - dense_1_acc_27: 1.0000 - dense_1_acc_28: 0.9833 - dense_1_acc_29: 0.9667 - dense_1_acc_30: 0.0333     \n",
      "Epoch 53/100\n",
      "60/60 [==============================] - 1s - loss: 11.6551 - dense_1_loss_1: 3.9191 - dense_1_loss_2: 2.1755 - dense_1_loss_3: 1.0614 - dense_1_loss_4: 0.5333 - dense_1_loss_5: 0.3631 - dense_1_loss_6: 0.2167 - dense_1_loss_7: 0.1941 - dense_1_loss_8: 0.1697 - dense_1_loss_9: 0.1749 - dense_1_loss_10: 0.1343 - dense_1_loss_11: 0.1456 - dense_1_loss_12: 0.1404 - dense_1_loss_13: 0.1209 - dense_1_loss_14: 0.1236 - dense_1_loss_15: 0.1347 - dense_1_loss_16: 0.1420 - dense_1_loss_17: 0.1417 - dense_1_loss_18: 0.1424 - dense_1_loss_19: 0.1405 - dense_1_loss_20: 0.1468 - dense_1_loss_21: 0.1485 - dense_1_loss_22: 0.1392 - dense_1_loss_23: 0.1279 - dense_1_loss_24: 0.1210 - dense_1_loss_25: 0.1417 - dense_1_loss_26: 0.1405 - dense_1_loss_27: 0.1475 - dense_1_loss_28: 0.1755 - dense_1_loss_29: 0.1927 - dense_1_loss_30: 0.0000e+00 - dense_1_acc_1: 0.0667 - dense_1_acc_2: 0.5000 - dense_1_acc_3: 0.7667 - dense_1_acc_4: 0.8833 - dense_1_acc_5: 0.9833 - dense_1_acc_6: 0.9833 - dense_1_acc_7: 1.0000 - dense_1_acc_8: 0.9833 - dense_1_acc_9: 0.9833 - dense_1_acc_10: 1.0000 - dense_1_acc_11: 1.0000 - dense_1_acc_12: 1.0000 - dense_1_acc_13: 1.0000 - dense_1_acc_14: 1.0000 - dense_1_acc_15: 1.0000 - dense_1_acc_16: 1.0000 - dense_1_acc_17: 1.0000 - dense_1_acc_18: 1.0000 - dense_1_acc_19: 1.0000 - dense_1_acc_20: 1.0000 - dense_1_acc_21: 1.0000 - dense_1_acc_22: 1.0000 - dense_1_acc_23: 1.0000 - dense_1_acc_24: 1.0000 - dense_1_acc_25: 1.0000 - dense_1_acc_26: 0.9833 - dense_1_acc_27: 1.0000 - dense_1_acc_28: 0.9833 - dense_1_acc_29: 0.9667 - dense_1_acc_30: 0.0333         \n",
      "Epoch 54/100\n",
      "60/60 [==============================] - 1s - loss: 11.2831 - dense_1_loss_1: 3.9153 - dense_1_loss_2: 2.1429 - dense_1_loss_3: 1.0294 - dense_1_loss_4: 0.5016 - dense_1_loss_5: 0.3437 - dense_1_loss_6: 0.2043 - dense_1_loss_7: 0.1810 - dense_1_loss_8: 0.1589 - dense_1_loss_9: 0.1627 - dense_1_loss_10: 0.1240 - dense_1_loss_11: 0.1353 - dense_1_loss_12: 0.1294 - dense_1_loss_13: 0.1124 - dense_1_loss_14: 0.1148 - dense_1_loss_15: 0.1247 - dense_1_loss_16: 0.1323 - dense_1_loss_17: 0.1308 - dense_1_loss_18: 0.1327 - dense_1_loss_19: 0.1294 - dense_1_loss_20: 0.1358 - dense_1_loss_21: 0.1354 - dense_1_loss_22: 0.1308 - dense_1_loss_23: 0.1200 - dense_1_loss_24: 0.1117 - dense_1_loss_25: 0.1318 - dense_1_loss_26: 0.1308 - dense_1_loss_27: 0.1380 - dense_1_loss_28: 0.1650 - dense_1_loss_29: 0.1785 - dense_1_loss_30: 0.0000e+00 - dense_1_acc_1: 0.0667 - dense_1_acc_2: 0.5000 - dense_1_acc_3: 0.7667 - dense_1_acc_4: 0.8833 - dense_1_acc_5: 0.9833 - dense_1_acc_6: 0.9833 - dense_1_acc_7: 1.0000 - dense_1_acc_8: 1.0000 - dense_1_acc_9: 0.9833 - dense_1_acc_10: 1.0000 - dense_1_acc_11: 1.0000 - dense_1_acc_12: 1.0000 - dense_1_acc_13: 1.0000 - dense_1_acc_14: 1.0000 - dense_1_acc_15: 1.0000 - dense_1_acc_16: 1.0000 - dense_1_acc_17: 1.0000 - dense_1_acc_18: 1.0000 - dense_1_acc_19: 1.0000 - dense_1_acc_20: 1.0000 - dense_1_acc_21: 1.0000 - dense_1_acc_22: 1.0000 - dense_1_acc_23: 1.0000 - dense_1_acc_24: 1.0000 - dense_1_acc_25: 1.0000 - dense_1_acc_26: 0.9833 - dense_1_acc_27: 1.0000 - dense_1_acc_28: 0.9833 - dense_1_acc_29: 0.9667 - dense_1_acc_30: 0.0333     \n",
      "Epoch 55/100\n",
      "60/60 [==============================] - 1s - loss: 10.9532 - dense_1_loss_1: 3.9115 - dense_1_loss_2: 2.1102 - dense_1_loss_3: 0.9982 - dense_1_loss_4: 0.4708 - dense_1_loss_5: 0.3287 - dense_1_loss_6: 0.1936 - dense_1_loss_7: 0.1687 - dense_1_loss_8: 0.1522 - dense_1_loss_9: 0.1522 - dense_1_loss_10: 0.1169 - dense_1_loss_11: 0.1246 - dense_1_loss_12: 0.1205 - dense_1_loss_13: 0.1061 - dense_1_loss_14: 0.1077 - dense_1_loss_15: 0.1177 - dense_1_loss_16: 0.1234 - dense_1_loss_17: 0.1218 - dense_1_loss_18: 0.1242 - dense_1_loss_19: 0.1210 - dense_1_loss_20: 0.1258 - dense_1_loss_21: 0.1246 - dense_1_loss_22: 0.1235 - dense_1_loss_23: 0.1117 - dense_1_loss_24: 0.1033 - dense_1_loss_25: 0.1238 - dense_1_loss_26: 0.1206 - dense_1_loss_27: 0.1307 - dense_1_loss_28: 0.1543 - dense_1_loss_29: 0.1650 - dense_1_loss_30: 0.0000e+00 - dense_1_acc_1: 0.0667 - dense_1_acc_2: 0.5000 - dense_1_acc_3: 0.7667 - dense_1_acc_4: 0.8833 - dense_1_acc_5: 0.9833 - dense_1_acc_6: 0.9833 - dense_1_acc_7: 1.0000 - dense_1_acc_8: 1.0000 - dense_1_acc_9: 0.9833 - dense_1_acc_10: 1.0000 - dense_1_acc_11: 1.0000 - dense_1_acc_12: 1.0000 - dense_1_acc_13: 1.0000 - dense_1_acc_14: 1.0000 - dense_1_acc_15: 1.0000 - dense_1_acc_16: 1.0000 - dense_1_acc_17: 1.0000 - dense_1_acc_18: 1.0000 - dense_1_acc_19: 1.0000 - dense_1_acc_20: 1.0000 - dense_1_acc_21: 1.0000 - dense_1_acc_22: 1.0000 - dense_1_acc_23: 1.0000 - dense_1_acc_24: 1.0000 - dense_1_acc_25: 1.0000 - dense_1_acc_26: 1.0000 - dense_1_acc_27: 1.0000 - dense_1_acc_28: 0.9833 - dense_1_acc_29: 0.9833 - dense_1_acc_30: 0.0333         \n",
      "Epoch 56/100\n",
      "60/60 [==============================] - 1s - loss: 10.6437 - dense_1_loss_1: 3.9081 - dense_1_loss_2: 2.0799 - dense_1_loss_3: 0.9683 - dense_1_loss_4: 0.4444 - dense_1_loss_5: 0.3128 - dense_1_loss_6: 0.1825 - dense_1_loss_7: 0.1581 - dense_1_loss_8: 0.1435 - dense_1_loss_9: 0.1432 - dense_1_loss_10: 0.1097 - dense_1_loss_11: 0.1154 - dense_1_loss_12: 0.1124 - dense_1_loss_13: 0.0998 - dense_1_loss_14: 0.1009 - dense_1_loss_15: 0.1098 - dense_1_loss_16: 0.1142 - dense_1_loss_17: 0.1147 - dense_1_loss_18: 0.1157 - dense_1_loss_19: 0.1139 - dense_1_loss_20: 0.1176 - dense_1_loss_21: 0.1168 - dense_1_loss_22: 0.1149 - dense_1_loss_23: 0.1032 - dense_1_loss_24: 0.0964 - dense_1_loss_25: 0.1158 - dense_1_loss_26: 0.1109 - dense_1_loss_27: 0.1227 - dense_1_loss_28: 0.1453 - dense_1_loss_29: 0.1526 - dense_1_loss_30: 0.0000e+00 - dense_1_acc_1: 0.0667 - dense_1_acc_2: 0.5000 - dense_1_acc_3: 0.7833 - dense_1_acc_4: 0.9000 - dense_1_acc_5: 0.9833 - dense_1_acc_6: 0.9833 - dense_1_acc_7: 1.0000 - dense_1_acc_8: 1.0000 - dense_1_acc_9: 0.9833 - dense_1_acc_10: 1.0000 - dense_1_acc_11: 1.0000 - dense_1_acc_12: 1.0000 - dense_1_acc_13: 1.0000 - dense_1_acc_14: 1.0000 - dense_1_acc_15: 1.0000 - dense_1_acc_16: 1.0000 - dense_1_acc_17: 1.0000 - dense_1_acc_18: 1.0000 - dense_1_acc_19: 1.0000 - dense_1_acc_20: 1.0000 - dense_1_acc_21: 1.0000 - dense_1_acc_22: 1.0000 - dense_1_acc_23: 1.0000 - dense_1_acc_24: 1.0000 - dense_1_acc_25: 1.0000 - dense_1_acc_26: 1.0000 - dense_1_acc_27: 1.0000 - dense_1_acc_28: 0.9833 - dense_1_acc_29: 1.0000 - dense_1_acc_30: 0.0333     \n",
      "Epoch 57/100\n",
      "60/60 [==============================] - 1s - loss: 10.3660 - dense_1_loss_1: 3.9043 - dense_1_loss_2: 2.0489 - dense_1_loss_3: 0.9407 - dense_1_loss_4: 0.4186 - dense_1_loss_5: 0.2982 - dense_1_loss_6: 0.1741 - dense_1_loss_7: 0.1494 - dense_1_loss_8: 0.1355 - dense_1_loss_9: 0.1358 - dense_1_loss_10: 0.1021 - dense_1_loss_11: 0.1090 - dense_1_loss_12: 0.1063 - dense_1_loss_13: 0.0942 - dense_1_loss_14: 0.0944 - dense_1_loss_15: 0.1025 - dense_1_loss_16: 0.1071 - dense_1_loss_17: 0.1077 - dense_1_loss_18: 0.1076 - dense_1_loss_19: 0.1067 - dense_1_loss_20: 0.1099 - dense_1_loss_21: 0.1106 - dense_1_loss_22: 0.1063 - dense_1_loss_23: 0.0960 - dense_1_loss_24: 0.0907 - dense_1_loss_25: 0.1091 - dense_1_loss_26: 0.1040 - dense_1_loss_27: 0.1151 - dense_1_loss_28: 0.1375 - dense_1_loss_29: 0.1434 - dense_1_loss_30: 0.0000e+00 - dense_1_acc_1: 0.0667 - dense_1_acc_2: 0.5000 - dense_1_acc_3: 0.7833 - dense_1_acc_4: 0.9500 - dense_1_acc_5: 0.9833 - dense_1_acc_6: 0.9833 - dense_1_acc_7: 1.0000 - dense_1_acc_8: 1.0000 - dense_1_acc_9: 0.9833 - dense_1_acc_10: 1.0000 - dense_1_acc_11: 1.0000 - dense_1_acc_12: 1.0000 - dense_1_acc_13: 1.0000 - dense_1_acc_14: 1.0000 - dense_1_acc_15: 1.0000 - dense_1_acc_16: 1.0000 - dense_1_acc_17: 1.0000 - dense_1_acc_18: 1.0000 - dense_1_acc_19: 1.0000 - dense_1_acc_20: 1.0000 - dense_1_acc_21: 1.0000 - dense_1_acc_22: 1.0000 - dense_1_acc_23: 1.0000 - dense_1_acc_24: 1.0000 - dense_1_acc_25: 1.0000 - dense_1_acc_26: 1.0000 - dense_1_acc_27: 1.0000 - dense_1_acc_28: 0.9833 - dense_1_acc_29: 1.0000 - dense_1_acc_30: 0.0333         \n",
      "Epoch 58/100\n",
      "60/60 [==============================] - 1s - loss: 10.1073 - dense_1_loss_1: 3.9003 - dense_1_loss_2: 2.0192 - dense_1_loss_3: 0.9146 - dense_1_loss_4: 0.3955 - dense_1_loss_5: 0.2859 - dense_1_loss_6: 0.1654 - dense_1_loss_7: 0.1408 - dense_1_loss_8: 0.1278 - dense_1_loss_9: 0.1282 - dense_1_loss_10: 0.0955 - dense_1_loss_11: 0.1023 - dense_1_loss_12: 0.1004 - dense_1_loss_13: 0.0876 - dense_1_loss_14: 0.0883 - dense_1_loss_15: 0.0960 - dense_1_loss_16: 0.1012 - dense_1_loss_17: 0.1009 - dense_1_loss_18: 0.1016 - dense_1_loss_19: 0.0988 - dense_1_loss_20: 0.1037 - dense_1_loss_21: 0.1045 - dense_1_loss_22: 0.1007 - dense_1_loss_23: 0.0901 - dense_1_loss_24: 0.0858 - dense_1_loss_25: 0.1025 - dense_1_loss_26: 0.0977 - dense_1_loss_27: 0.1087 - dense_1_loss_28: 0.1297 - dense_1_loss_29: 0.1335 - dense_1_loss_30: 0.0000e+00 - dense_1_acc_1: 0.0667 - dense_1_acc_2: 0.5000 - dense_1_acc_3: 0.8000 - dense_1_acc_4: 0.9667 - dense_1_acc_5: 0.9833 - dense_1_acc_6: 1.0000 - dense_1_acc_7: 1.0000 - dense_1_acc_8: 1.0000 - dense_1_acc_9: 0.9833 - dense_1_acc_10: 1.0000 - dense_1_acc_11: 1.0000 - dense_1_acc_12: 1.0000 - dense_1_acc_13: 1.0000 - dense_1_acc_14: 1.0000 - dense_1_acc_15: 1.0000 - dense_1_acc_16: 1.0000 - dense_1_acc_17: 1.0000 - dense_1_acc_18: 1.0000 - dense_1_acc_19: 1.0000 - dense_1_acc_20: 1.0000 - dense_1_acc_21: 1.0000 - dense_1_acc_22: 1.0000 - dense_1_acc_23: 1.0000 - dense_1_acc_24: 1.0000 - dense_1_acc_25: 1.0000 - dense_1_acc_26: 1.0000 - dense_1_acc_27: 1.0000 - dense_1_acc_28: 0.9833 - dense_1_acc_29: 1.0000 - dense_1_acc_30: 0.0333     \n",
      "Epoch 59/100\n",
      "60/60 [==============================] - 1s - loss: 9.8635 - dense_1_loss_1: 3.8970 - dense_1_loss_2: 1.9912 - dense_1_loss_3: 0.8878 - dense_1_loss_4: 0.3746 - dense_1_loss_5: 0.2738 - dense_1_loss_6: 0.1568 - dense_1_loss_7: 0.1327 - dense_1_loss_8: 0.1210 - dense_1_loss_9: 0.1205 - dense_1_loss_10: 0.0901 - dense_1_loss_11: 0.0957 - dense_1_loss_12: 0.0947 - dense_1_loss_13: 0.0824 - dense_1_loss_14: 0.0833 - dense_1_loss_15: 0.0903 - dense_1_loss_16: 0.0955 - dense_1_loss_17: 0.0945 - dense_1_loss_18: 0.0960 - dense_1_loss_19: 0.0924 - dense_1_loss_20: 0.0981 - dense_1_loss_21: 0.0976 - dense_1_loss_22: 0.0955 - dense_1_loss_23: 0.0849 - dense_1_loss_24: 0.0805 - dense_1_loss_25: 0.0965 - dense_1_loss_26: 0.0920 - dense_1_loss_27: 0.1016 - dense_1_loss_28: 0.1221 - dense_1_loss_29: 0.1245 - dense_1_loss_30: 0.0000e+00 - dense_1_acc_1: 0.0667 - dense_1_acc_2: 0.5000 - dense_1_acc_3: 0.8000 - dense_1_acc_4: 0.9667 - dense_1_acc_5: 0.9833 - dense_1_acc_6: 1.0000 - dense_1_acc_7: 1.0000 - dense_1_acc_8: 1.0000 - dense_1_acc_9: 1.0000 - dense_1_acc_10: 1.0000 - dense_1_acc_11: 1.0000 - dense_1_acc_12: 1.0000 - dense_1_acc_13: 1.0000 - dense_1_acc_14: 1.0000 - dense_1_acc_15: 1.0000 - dense_1_acc_16: 1.0000 - dense_1_acc_17: 1.0000 - dense_1_acc_18: 1.0000 - dense_1_acc_19: 1.0000 - dense_1_acc_20: 1.0000 - dense_1_acc_21: 1.0000 - dense_1_acc_22: 1.0000 - dense_1_acc_23: 1.0000 - dense_1_acc_24: 1.0000 - dense_1_acc_25: 1.0000 - dense_1_acc_26: 1.0000 - dense_1_acc_27: 1.0000 - dense_1_acc_28: 0.9833 - dense_1_acc_29: 1.0000 - dense_1_acc_30: 0.0333     \n",
      "Epoch 60/100\n",
      "60/60 [==============================] - 1s - loss: 9.6436 - dense_1_loss_1: 3.8934 - dense_1_loss_2: 1.9628 - dense_1_loss_3: 0.8637 - dense_1_loss_4: 0.3548 - dense_1_loss_5: 0.2623 - dense_1_loss_6: 0.1487 - dense_1_loss_7: 0.1260 - dense_1_loss_8: 0.1159 - dense_1_loss_9: 0.1127 - dense_1_loss_10: 0.0857 - dense_1_loss_11: 0.0898 - dense_1_loss_12: 0.0885 - dense_1_loss_13: 0.0783 - dense_1_loss_14: 0.0794 - dense_1_loss_15: 0.0850 - dense_1_loss_16: 0.0895 - dense_1_loss_17: 0.0896 - dense_1_loss_18: 0.0902 - dense_1_loss_19: 0.0875 - dense_1_loss_20: 0.0924 - dense_1_loss_21: 0.0917 - dense_1_loss_22: 0.0905 - dense_1_loss_23: 0.0804 - dense_1_loss_24: 0.0756 - dense_1_loss_25: 0.0913 - dense_1_loss_26: 0.0870 - dense_1_loss_27: 0.0962 - dense_1_loss_28: 0.1168 - dense_1_loss_29: 0.1180 - dense_1_loss_30: 0.0000e+00 - dense_1_acc_1: 0.0667 - dense_1_acc_2: 0.5000 - dense_1_acc_3: 0.8000 - dense_1_acc_4: 0.9667 - dense_1_acc_5: 0.9833 - dense_1_acc_6: 1.0000 - dense_1_acc_7: 1.0000 - dense_1_acc_8: 1.0000 - dense_1_acc_9: 1.0000 - dense_1_acc_10: 1.0000 - dense_1_acc_11: 1.0000 - dense_1_acc_12: 1.0000 - dense_1_acc_13: 1.0000 - dense_1_acc_14: 1.0000 - dense_1_acc_15: 1.0000 - dense_1_acc_16: 1.0000 - dense_1_acc_17: 1.0000 - dense_1_acc_18: 1.0000 - dense_1_acc_19: 1.0000 - dense_1_acc_20: 1.0000 - dense_1_acc_21: 1.0000 - dense_1_acc_22: 1.0000 - dense_1_acc_23: 1.0000 - dense_1_acc_24: 1.0000 - dense_1_acc_25: 1.0000 - dense_1_acc_26: 1.0000 - dense_1_acc_27: 1.0000 - dense_1_acc_28: 0.9833 - dense_1_acc_29: 1.0000 - dense_1_acc_30: 0.0333     \n",
      "Epoch 61/100\n"
     ]
    },
    {
     "name": "stdout",
     "output_type": "stream",
     "text": [
      "60/60 [==============================] - 1s - loss: 9.4369 - dense_1_loss_1: 3.8897 - dense_1_loss_2: 1.9358 - dense_1_loss_3: 0.8402 - dense_1_loss_4: 0.3357 - dense_1_loss_5: 0.2527 - dense_1_loss_6: 0.1418 - dense_1_loss_7: 0.1203 - dense_1_loss_8: 0.1102 - dense_1_loss_9: 0.1076 - dense_1_loss_10: 0.0810 - dense_1_loss_11: 0.0852 - dense_1_loss_12: 0.0838 - dense_1_loss_13: 0.0742 - dense_1_loss_14: 0.0753 - dense_1_loss_15: 0.0806 - dense_1_loss_16: 0.0849 - dense_1_loss_17: 0.0844 - dense_1_loss_18: 0.0844 - dense_1_loss_19: 0.0835 - dense_1_loss_20: 0.0869 - dense_1_loss_21: 0.0863 - dense_1_loss_22: 0.0853 - dense_1_loss_23: 0.0758 - dense_1_loss_24: 0.0714 - dense_1_loss_25: 0.0862 - dense_1_loss_26: 0.0819 - dense_1_loss_27: 0.0913 - dense_1_loss_28: 0.1104 - dense_1_loss_29: 0.1101 - dense_1_loss_30: 0.0000e+00 - dense_1_acc_1: 0.0667 - dense_1_acc_2: 0.5167 - dense_1_acc_3: 0.8000 - dense_1_acc_4: 0.9833 - dense_1_acc_5: 0.9833 - dense_1_acc_6: 1.0000 - dense_1_acc_7: 1.0000 - dense_1_acc_8: 1.0000 - dense_1_acc_9: 1.0000 - dense_1_acc_10: 1.0000 - dense_1_acc_11: 1.0000 - dense_1_acc_12: 1.0000 - dense_1_acc_13: 1.0000 - dense_1_acc_14: 1.0000 - dense_1_acc_15: 1.0000 - dense_1_acc_16: 1.0000 - dense_1_acc_17: 1.0000 - dense_1_acc_18: 1.0000 - dense_1_acc_19: 1.0000 - dense_1_acc_20: 1.0000 - dense_1_acc_21: 1.0000 - dense_1_acc_22: 1.0000 - dense_1_acc_23: 1.0000 - dense_1_acc_24: 1.0000 - dense_1_acc_25: 1.0000 - dense_1_acc_26: 1.0000 - dense_1_acc_27: 1.0000 - dense_1_acc_28: 0.9833 - dense_1_acc_29: 1.0000 - dense_1_acc_30: 0.0333     \n",
      "Epoch 62/100\n",
      "60/60 [==============================] - 1s - loss: 9.2521 - dense_1_loss_1: 3.8862 - dense_1_loss_2: 1.9096 - dense_1_loss_3: 0.8179 - dense_1_loss_4: 0.3203 - dense_1_loss_5: 0.2437 - dense_1_loss_6: 0.1349 - dense_1_loss_7: 0.1152 - dense_1_loss_8: 0.1044 - dense_1_loss_9: 0.1029 - dense_1_loss_10: 0.0761 - dense_1_loss_11: 0.0808 - dense_1_loss_12: 0.0805 - dense_1_loss_13: 0.0703 - dense_1_loss_14: 0.0708 - dense_1_loss_15: 0.0769 - dense_1_loss_16: 0.0809 - dense_1_loss_17: 0.0798 - dense_1_loss_18: 0.0799 - dense_1_loss_19: 0.0790 - dense_1_loss_20: 0.0823 - dense_1_loss_21: 0.0821 - dense_1_loss_22: 0.0807 - dense_1_loss_23: 0.0720 - dense_1_loss_24: 0.0677 - dense_1_loss_25: 0.0816 - dense_1_loss_26: 0.0780 - dense_1_loss_27: 0.0878 - dense_1_loss_28: 0.1053 - dense_1_loss_29: 0.1045 - dense_1_loss_30: 0.0000e+00 - dense_1_acc_1: 0.0667 - dense_1_acc_2: 0.5167 - dense_1_acc_3: 0.8000 - dense_1_acc_4: 0.9833 - dense_1_acc_5: 0.9833 - dense_1_acc_6: 1.0000 - dense_1_acc_7: 1.0000 - dense_1_acc_8: 1.0000 - dense_1_acc_9: 1.0000 - dense_1_acc_10: 1.0000 - dense_1_acc_11: 1.0000 - dense_1_acc_12: 1.0000 - dense_1_acc_13: 1.0000 - dense_1_acc_14: 1.0000 - dense_1_acc_15: 1.0000 - dense_1_acc_16: 1.0000 - dense_1_acc_17: 1.0000 - dense_1_acc_18: 1.0000 - dense_1_acc_19: 1.0000 - dense_1_acc_20: 1.0000 - dense_1_acc_21: 1.0000 - dense_1_acc_22: 1.0000 - dense_1_acc_23: 1.0000 - dense_1_acc_24: 1.0000 - dense_1_acc_25: 1.0000 - dense_1_acc_26: 1.0000 - dense_1_acc_27: 1.0000 - dense_1_acc_28: 0.9833 - dense_1_acc_29: 1.0000 - dense_1_acc_30: 0.0333     \n",
      "Epoch 63/100\n",
      "60/60 [==============================] - 1s - loss: 9.0710 - dense_1_loss_1: 3.8828 - dense_1_loss_2: 1.8839 - dense_1_loss_3: 0.7952 - dense_1_loss_4: 0.3047 - dense_1_loss_5: 0.2347 - dense_1_loss_6: 0.1287 - dense_1_loss_7: 0.1097 - dense_1_loss_8: 0.0998 - dense_1_loss_9: 0.0976 - dense_1_loss_10: 0.0720 - dense_1_loss_11: 0.0765 - dense_1_loss_12: 0.0768 - dense_1_loss_13: 0.0666 - dense_1_loss_14: 0.0670 - dense_1_loss_15: 0.0731 - dense_1_loss_16: 0.0767 - dense_1_loss_17: 0.0761 - dense_1_loss_18: 0.0757 - dense_1_loss_19: 0.0746 - dense_1_loss_20: 0.0784 - dense_1_loss_21: 0.0778 - dense_1_loss_22: 0.0767 - dense_1_loss_23: 0.0681 - dense_1_loss_24: 0.0642 - dense_1_loss_25: 0.0777 - dense_1_loss_26: 0.0741 - dense_1_loss_27: 0.0839 - dense_1_loss_28: 0.0990 - dense_1_loss_29: 0.0988 - dense_1_loss_30: 0.0000e+00 - dense_1_acc_1: 0.0667 - dense_1_acc_2: 0.5000 - dense_1_acc_3: 0.8000 - dense_1_acc_4: 0.9833 - dense_1_acc_5: 0.9833 - dense_1_acc_6: 1.0000 - dense_1_acc_7: 1.0000 - dense_1_acc_8: 1.0000 - dense_1_acc_9: 1.0000 - dense_1_acc_10: 1.0000 - dense_1_acc_11: 1.0000 - dense_1_acc_12: 1.0000 - dense_1_acc_13: 1.0000 - dense_1_acc_14: 1.0000 - dense_1_acc_15: 1.0000 - dense_1_acc_16: 1.0000 - dense_1_acc_17: 1.0000 - dense_1_acc_18: 1.0000 - dense_1_acc_19: 1.0000 - dense_1_acc_20: 1.0000 - dense_1_acc_21: 1.0000 - dense_1_acc_22: 1.0000 - dense_1_acc_23: 1.0000 - dense_1_acc_24: 1.0000 - dense_1_acc_25: 1.0000 - dense_1_acc_26: 1.0000 - dense_1_acc_27: 1.0000 - dense_1_acc_28: 0.9833 - dense_1_acc_29: 1.0000 - dense_1_acc_30: 0.0333     \n",
      "Epoch 64/100\n",
      "60/60 [==============================] - 1s - loss: 8.9010 - dense_1_loss_1: 3.8793 - dense_1_loss_2: 1.8596 - dense_1_loss_3: 0.7732 - dense_1_loss_4: 0.2907 - dense_1_loss_5: 0.2258 - dense_1_loss_6: 0.1229 - dense_1_loss_7: 0.1047 - dense_1_loss_8: 0.0954 - dense_1_loss_9: 0.0919 - dense_1_loss_10: 0.0686 - dense_1_loss_11: 0.0727 - dense_1_loss_12: 0.0728 - dense_1_loss_13: 0.0634 - dense_1_loss_14: 0.0642 - dense_1_loss_15: 0.0691 - dense_1_loss_16: 0.0723 - dense_1_loss_17: 0.0723 - dense_1_loss_18: 0.0724 - dense_1_loss_19: 0.0708 - dense_1_loss_20: 0.0750 - dense_1_loss_21: 0.0736 - dense_1_loss_22: 0.0731 - dense_1_loss_23: 0.0646 - dense_1_loss_24: 0.0611 - dense_1_loss_25: 0.0737 - dense_1_loss_26: 0.0706 - dense_1_loss_27: 0.0792 - dense_1_loss_28: 0.0941 - dense_1_loss_29: 0.0937 - dense_1_loss_30: 0.0000e+00 - dense_1_acc_1: 0.0667 - dense_1_acc_2: 0.5000 - dense_1_acc_3: 0.8000 - dense_1_acc_4: 0.9833 - dense_1_acc_5: 0.9833 - dense_1_acc_6: 1.0000 - dense_1_acc_7: 1.0000 - dense_1_acc_8: 1.0000 - dense_1_acc_9: 1.0000 - dense_1_acc_10: 1.0000 - dense_1_acc_11: 1.0000 - dense_1_acc_12: 1.0000 - dense_1_acc_13: 1.0000 - dense_1_acc_14: 1.0000 - dense_1_acc_15: 1.0000 - dense_1_acc_16: 1.0000 - dense_1_acc_17: 1.0000 - dense_1_acc_18: 1.0000 - dense_1_acc_19: 1.0000 - dense_1_acc_20: 1.0000 - dense_1_acc_21: 1.0000 - dense_1_acc_22: 1.0000 - dense_1_acc_23: 1.0000 - dense_1_acc_24: 1.0000 - dense_1_acc_25: 1.0000 - dense_1_acc_26: 1.0000 - dense_1_acc_27: 1.0000 - dense_1_acc_28: 0.9833 - dense_1_acc_29: 1.0000 - dense_1_acc_30: 0.0333     \n",
      "Epoch 65/100\n",
      "60/60 [==============================] - 1s - loss: 8.7492 - dense_1_loss_1: 3.8760 - dense_1_loss_2: 1.8355 - dense_1_loss_3: 0.7546 - dense_1_loss_4: 0.2781 - dense_1_loss_5: 0.2180 - dense_1_loss_6: 0.1179 - dense_1_loss_7: 0.1002 - dense_1_loss_8: 0.0913 - dense_1_loss_9: 0.0874 - dense_1_loss_10: 0.0657 - dense_1_loss_11: 0.0693 - dense_1_loss_12: 0.0695 - dense_1_loss_13: 0.0605 - dense_1_loss_14: 0.0615 - dense_1_loss_15: 0.0657 - dense_1_loss_16: 0.0688 - dense_1_loss_17: 0.0691 - dense_1_loss_18: 0.0693 - dense_1_loss_19: 0.0680 - dense_1_loss_20: 0.0715 - dense_1_loss_21: 0.0702 - dense_1_loss_22: 0.0696 - dense_1_loss_23: 0.0616 - dense_1_loss_24: 0.0583 - dense_1_loss_25: 0.0705 - dense_1_loss_26: 0.0672 - dense_1_loss_27: 0.0751 - dense_1_loss_28: 0.0896 - dense_1_loss_29: 0.0893 - dense_1_loss_30: 0.0000e+00 - dense_1_acc_1: 0.0667 - dense_1_acc_2: 0.5000 - dense_1_acc_3: 0.8000 - dense_1_acc_4: 0.9833 - dense_1_acc_5: 0.9833 - dense_1_acc_6: 1.0000 - dense_1_acc_7: 1.0000 - dense_1_acc_8: 1.0000 - dense_1_acc_9: 1.0000 - dense_1_acc_10: 1.0000 - dense_1_acc_11: 1.0000 - dense_1_acc_12: 1.0000 - dense_1_acc_13: 1.0000 - dense_1_acc_14: 1.0000 - dense_1_acc_15: 1.0000 - dense_1_acc_16: 1.0000 - dense_1_acc_17: 1.0000 - dense_1_acc_18: 1.0000 - dense_1_acc_19: 1.0000 - dense_1_acc_20: 1.0000 - dense_1_acc_21: 1.0000 - dense_1_acc_22: 1.0000 - dense_1_acc_23: 1.0000 - dense_1_acc_24: 1.0000 - dense_1_acc_25: 1.0000 - dense_1_acc_26: 1.0000 - dense_1_acc_27: 1.0000 - dense_1_acc_28: 1.0000 - dense_1_acc_29: 1.0000 - dense_1_acc_30: 0.0333     \n",
      "Epoch 66/100\n",
      "60/60 [==============================] - 1s - loss: 8.5994 - dense_1_loss_1: 3.8726 - dense_1_loss_2: 1.8124 - dense_1_loss_3: 0.7344 - dense_1_loss_4: 0.2650 - dense_1_loss_5: 0.2098 - dense_1_loss_6: 0.1134 - dense_1_loss_7: 0.0958 - dense_1_loss_8: 0.0871 - dense_1_loss_9: 0.0835 - dense_1_loss_10: 0.0626 - dense_1_loss_11: 0.0658 - dense_1_loss_12: 0.0662 - dense_1_loss_13: 0.0577 - dense_1_loss_14: 0.0588 - dense_1_loss_15: 0.0624 - dense_1_loss_16: 0.0661 - dense_1_loss_17: 0.0657 - dense_1_loss_18: 0.0663 - dense_1_loss_19: 0.0648 - dense_1_loss_20: 0.0680 - dense_1_loss_21: 0.0669 - dense_1_loss_22: 0.0666 - dense_1_loss_23: 0.0587 - dense_1_loss_24: 0.0558 - dense_1_loss_25: 0.0675 - dense_1_loss_26: 0.0640 - dense_1_loss_27: 0.0715 - dense_1_loss_28: 0.0849 - dense_1_loss_29: 0.0852 - dense_1_loss_30: 0.0000e+00 - dense_1_acc_1: 0.0667 - dense_1_acc_2: 0.5000 - dense_1_acc_3: 0.8167 - dense_1_acc_4: 0.9833 - dense_1_acc_5: 0.9833 - dense_1_acc_6: 1.0000 - dense_1_acc_7: 1.0000 - dense_1_acc_8: 1.0000 - dense_1_acc_9: 1.0000 - dense_1_acc_10: 1.0000 - dense_1_acc_11: 1.0000 - dense_1_acc_12: 1.0000 - dense_1_acc_13: 1.0000 - dense_1_acc_14: 1.0000 - dense_1_acc_15: 1.0000 - dense_1_acc_16: 1.0000 - dense_1_acc_17: 1.0000 - dense_1_acc_18: 1.0000 - dense_1_acc_19: 1.0000 - dense_1_acc_20: 1.0000 - dense_1_acc_21: 1.0000 - dense_1_acc_22: 1.0000 - dense_1_acc_23: 1.0000 - dense_1_acc_24: 1.0000 - dense_1_acc_25: 1.0000 - dense_1_acc_26: 1.0000 - dense_1_acc_27: 1.0000 - dense_1_acc_28: 1.0000 - dense_1_acc_29: 1.0000 - dense_1_acc_30: 0.0333         \n",
      "Epoch 67/100\n",
      "60/60 [==============================] - 1s - loss: 8.4651 - dense_1_loss_1: 3.8692 - dense_1_loss_2: 1.7893 - dense_1_loss_3: 0.7166 - dense_1_loss_4: 0.2543 - dense_1_loss_5: 0.2035 - dense_1_loss_6: 0.1092 - dense_1_loss_7: 0.0922 - dense_1_loss_8: 0.0837 - dense_1_loss_9: 0.0804 - dense_1_loss_10: 0.0600 - dense_1_loss_11: 0.0632 - dense_1_loss_12: 0.0635 - dense_1_loss_13: 0.0552 - dense_1_loss_14: 0.0562 - dense_1_loss_15: 0.0596 - dense_1_loss_16: 0.0632 - dense_1_loss_17: 0.0625 - dense_1_loss_18: 0.0633 - dense_1_loss_19: 0.0617 - dense_1_loss_20: 0.0649 - dense_1_loss_21: 0.0640 - dense_1_loss_22: 0.0637 - dense_1_loss_23: 0.0563 - dense_1_loss_24: 0.0534 - dense_1_loss_25: 0.0644 - dense_1_loss_26: 0.0613 - dense_1_loss_27: 0.0684 - dense_1_loss_28: 0.0811 - dense_1_loss_29: 0.0809 - dense_1_loss_30: 0.0000e+00 - dense_1_acc_1: 0.0667 - dense_1_acc_2: 0.5000 - dense_1_acc_3: 0.8333 - dense_1_acc_4: 0.9833 - dense_1_acc_5: 0.9833 - dense_1_acc_6: 1.0000 - dense_1_acc_7: 1.0000 - dense_1_acc_8: 1.0000 - dense_1_acc_9: 1.0000 - dense_1_acc_10: 1.0000 - dense_1_acc_11: 1.0000 - dense_1_acc_12: 1.0000 - dense_1_acc_13: 1.0000 - dense_1_acc_14: 1.0000 - dense_1_acc_15: 1.0000 - dense_1_acc_16: 1.0000 - dense_1_acc_17: 1.0000 - dense_1_acc_18: 1.0000 - dense_1_acc_19: 1.0000 - dense_1_acc_20: 1.0000 - dense_1_acc_21: 1.0000 - dense_1_acc_22: 1.0000 - dense_1_acc_23: 1.0000 - dense_1_acc_24: 1.0000 - dense_1_acc_25: 1.0000 - dense_1_acc_26: 1.0000 - dense_1_acc_27: 1.0000 - dense_1_acc_28: 1.0000 - dense_1_acc_29: 1.0000 - dense_1_acc_30: 0.0333     \n",
      "Epoch 68/100\n",
      "60/60 [==============================] - 1s - loss: 8.3371 - dense_1_loss_1: 3.8659 - dense_1_loss_2: 1.7669 - dense_1_loss_3: 0.6992 - dense_1_loss_4: 0.2441 - dense_1_loss_5: 0.1966 - dense_1_loss_6: 0.1049 - dense_1_loss_7: 0.0885 - dense_1_loss_8: 0.0802 - dense_1_loss_9: 0.0772 - dense_1_loss_10: 0.0576 - dense_1_loss_11: 0.0606 - dense_1_loss_12: 0.0611 - dense_1_loss_13: 0.0527 - dense_1_loss_14: 0.0539 - dense_1_loss_15: 0.0570 - dense_1_loss_16: 0.0606 - dense_1_loss_17: 0.0597 - dense_1_loss_18: 0.0605 - dense_1_loss_19: 0.0591 - dense_1_loss_20: 0.0621 - dense_1_loss_21: 0.0612 - dense_1_loss_22: 0.0611 - dense_1_loss_23: 0.0538 - dense_1_loss_24: 0.0513 - dense_1_loss_25: 0.0615 - dense_1_loss_26: 0.0589 - dense_1_loss_27: 0.0658 - dense_1_loss_28: 0.0776 - dense_1_loss_29: 0.0775 - dense_1_loss_30: 0.0000e+00 - dense_1_acc_1: 0.0667 - dense_1_acc_2: 0.5000 - dense_1_acc_3: 0.8333 - dense_1_acc_4: 0.9833 - dense_1_acc_5: 0.9833 - dense_1_acc_6: 1.0000 - dense_1_acc_7: 1.0000 - dense_1_acc_8: 1.0000 - dense_1_acc_9: 1.0000 - dense_1_acc_10: 1.0000 - dense_1_acc_11: 1.0000 - dense_1_acc_12: 1.0000 - dense_1_acc_13: 1.0000 - dense_1_acc_14: 1.0000 - dense_1_acc_15: 1.0000 - dense_1_acc_16: 1.0000 - dense_1_acc_17: 1.0000 - dense_1_acc_18: 1.0000 - dense_1_acc_19: 1.0000 - dense_1_acc_20: 1.0000 - dense_1_acc_21: 1.0000 - dense_1_acc_22: 1.0000 - dense_1_acc_23: 1.0000 - dense_1_acc_24: 1.0000 - dense_1_acc_25: 1.0000 - dense_1_acc_26: 1.0000 - dense_1_acc_27: 1.0000 - dense_1_acc_28: 1.0000 - dense_1_acc_29: 1.0000 - dense_1_acc_30: 0.0333         \n",
      "Epoch 69/100\n",
      "60/60 [==============================] - 1s - loss: 8.2122 - dense_1_loss_1: 3.8626 - dense_1_loss_2: 1.7459 - dense_1_loss_3: 0.6814 - dense_1_loss_4: 0.2338 - dense_1_loss_5: 0.1891 - dense_1_loss_6: 0.1005 - dense_1_loss_7: 0.0850 - dense_1_loss_8: 0.0769 - dense_1_loss_9: 0.0734 - dense_1_loss_10: 0.0556 - dense_1_loss_11: 0.0577 - dense_1_loss_12: 0.0587 - dense_1_loss_13: 0.0506 - dense_1_loss_14: 0.0519 - dense_1_loss_15: 0.0547 - dense_1_loss_16: 0.0579 - dense_1_loss_17: 0.0573 - dense_1_loss_18: 0.0577 - dense_1_loss_19: 0.0564 - dense_1_loss_20: 0.0597 - dense_1_loss_21: 0.0589 - dense_1_loss_22: 0.0583 - dense_1_loss_23: 0.0515 - dense_1_loss_24: 0.0494 - dense_1_loss_25: 0.0589 - dense_1_loss_26: 0.0566 - dense_1_loss_27: 0.0632 - dense_1_loss_28: 0.0745 - dense_1_loss_29: 0.0742 - dense_1_loss_30: 0.0000e+00 - dense_1_acc_1: 0.0667 - dense_1_acc_2: 0.5000 - dense_1_acc_3: 0.8500 - dense_1_acc_4: 0.9833 - dense_1_acc_5: 0.9833 - dense_1_acc_6: 1.0000 - dense_1_acc_7: 1.0000 - dense_1_acc_8: 1.0000 - dense_1_acc_9: 1.0000 - dense_1_acc_10: 1.0000 - dense_1_acc_11: 1.0000 - dense_1_acc_12: 1.0000 - dense_1_acc_13: 1.0000 - dense_1_acc_14: 1.0000 - dense_1_acc_15: 1.0000 - dense_1_acc_16: 1.0000 - dense_1_acc_17: 1.0000 - dense_1_acc_18: 1.0000 - dense_1_acc_19: 1.0000 - dense_1_acc_20: 1.0000 - dense_1_acc_21: 1.0000 - dense_1_acc_22: 1.0000 - dense_1_acc_23: 1.0000 - dense_1_acc_24: 1.0000 - dense_1_acc_25: 1.0000 - dense_1_acc_26: 1.0000 - dense_1_acc_27: 1.0000 - dense_1_acc_28: 1.0000 - dense_1_acc_29: 1.0000 - dense_1_acc_30: 0.0333         \n",
      "Epoch 70/100\n",
      "60/60 [==============================] - 1s - loss: 8.0976 - dense_1_loss_1: 3.8594 - dense_1_loss_2: 1.7242 - dense_1_loss_3: 0.6648 - dense_1_loss_4: 0.2253 - dense_1_loss_5: 0.1826 - dense_1_loss_6: 0.0968 - dense_1_loss_7: 0.0819 - dense_1_loss_8: 0.0741 - dense_1_loss_9: 0.0703 - dense_1_loss_10: 0.0535 - dense_1_loss_11: 0.0557 - dense_1_loss_12: 0.0563 - dense_1_loss_13: 0.0486 - dense_1_loss_14: 0.0501 - dense_1_loss_15: 0.0525 - dense_1_loss_16: 0.0555 - dense_1_loss_17: 0.0549 - dense_1_loss_18: 0.0554 - dense_1_loss_19: 0.0543 - dense_1_loss_20: 0.0572 - dense_1_loss_21: 0.0564 - dense_1_loss_22: 0.0560 - dense_1_loss_23: 0.0495 - dense_1_loss_24: 0.0474 - dense_1_loss_25: 0.0566 - dense_1_loss_26: 0.0545 - dense_1_loss_27: 0.0608 - dense_1_loss_28: 0.0717 - dense_1_loss_29: 0.0713 - dense_1_loss_30: 0.0000e+00 - dense_1_acc_1: 0.0667 - dense_1_acc_2: 0.5000 - dense_1_acc_3: 0.8500 - dense_1_acc_4: 0.9833 - dense_1_acc_5: 0.9833 - dense_1_acc_6: 1.0000 - dense_1_acc_7: 1.0000 - dense_1_acc_8: 1.0000 - dense_1_acc_9: 1.0000 - dense_1_acc_10: 1.0000 - dense_1_acc_11: 1.0000 - dense_1_acc_12: 1.0000 - dense_1_acc_13: 1.0000 - dense_1_acc_14: 1.0000 - dense_1_acc_15: 1.0000 - dense_1_acc_16: 1.0000 - dense_1_acc_17: 1.0000 - dense_1_acc_18: 1.0000 - dense_1_acc_19: 1.0000 - dense_1_acc_20: 1.0000 - dense_1_acc_21: 1.0000 - dense_1_acc_22: 1.0000 - dense_1_acc_23: 1.0000 - dense_1_acc_24: 1.0000 - dense_1_acc_25: 1.0000 - dense_1_acc_26: 1.0000 - dense_1_acc_27: 1.0000 - dense_1_acc_28: 1.0000 - dense_1_acc_29: 1.0000 - dense_1_acc_30: 0.0333     \n",
      "Epoch 71/100\n"
     ]
    },
    {
     "name": "stdout",
     "output_type": "stream",
     "text": [
      "60/60 [==============================] - 1s - loss: 7.9881 - dense_1_loss_1: 3.8562 - dense_1_loss_2: 1.7045 - dense_1_loss_3: 0.6494 - dense_1_loss_4: 0.2164 - dense_1_loss_5: 0.1761 - dense_1_loss_6: 0.0933 - dense_1_loss_7: 0.0790 - dense_1_loss_8: 0.0715 - dense_1_loss_9: 0.0676 - dense_1_loss_10: 0.0516 - dense_1_loss_11: 0.0536 - dense_1_loss_12: 0.0541 - dense_1_loss_13: 0.0467 - dense_1_loss_14: 0.0483 - dense_1_loss_15: 0.0506 - dense_1_loss_16: 0.0534 - dense_1_loss_17: 0.0526 - dense_1_loss_18: 0.0532 - dense_1_loss_19: 0.0521 - dense_1_loss_20: 0.0551 - dense_1_loss_21: 0.0543 - dense_1_loss_22: 0.0537 - dense_1_loss_23: 0.0477 - dense_1_loss_24: 0.0456 - dense_1_loss_25: 0.0544 - dense_1_loss_26: 0.0522 - dense_1_loss_27: 0.0583 - dense_1_loss_28: 0.0684 - dense_1_loss_29: 0.0684 - dense_1_loss_30: 0.0000e+00 - dense_1_acc_1: 0.0667 - dense_1_acc_2: 0.5000 - dense_1_acc_3: 0.8500 - dense_1_acc_4: 1.0000 - dense_1_acc_5: 0.9833 - dense_1_acc_6: 1.0000 - dense_1_acc_7: 1.0000 - dense_1_acc_8: 1.0000 - dense_1_acc_9: 1.0000 - dense_1_acc_10: 1.0000 - dense_1_acc_11: 1.0000 - dense_1_acc_12: 1.0000 - dense_1_acc_13: 1.0000 - dense_1_acc_14: 1.0000 - dense_1_acc_15: 1.0000 - dense_1_acc_16: 1.0000 - dense_1_acc_17: 1.0000 - dense_1_acc_18: 1.0000 - dense_1_acc_19: 1.0000 - dense_1_acc_20: 1.0000 - dense_1_acc_21: 1.0000 - dense_1_acc_22: 1.0000 - dense_1_acc_23: 1.0000 - dense_1_acc_24: 1.0000 - dense_1_acc_25: 1.0000 - dense_1_acc_26: 1.0000 - dense_1_acc_27: 1.0000 - dense_1_acc_28: 1.0000 - dense_1_acc_29: 1.0000 - dense_1_acc_30: 0.0333         \n",
      "Epoch 72/100\n",
      "60/60 [==============================] - 1s - loss: 7.8838 - dense_1_loss_1: 3.8532 - dense_1_loss_2: 1.6840 - dense_1_loss_3: 0.6343 - dense_1_loss_4: 0.2090 - dense_1_loss_5: 0.1703 - dense_1_loss_6: 0.0902 - dense_1_loss_7: 0.0763 - dense_1_loss_8: 0.0690 - dense_1_loss_9: 0.0650 - dense_1_loss_10: 0.0497 - dense_1_loss_11: 0.0515 - dense_1_loss_12: 0.0520 - dense_1_loss_13: 0.0450 - dense_1_loss_14: 0.0464 - dense_1_loss_15: 0.0487 - dense_1_loss_16: 0.0515 - dense_1_loss_17: 0.0505 - dense_1_loss_18: 0.0512 - dense_1_loss_19: 0.0501 - dense_1_loss_20: 0.0531 - dense_1_loss_21: 0.0522 - dense_1_loss_22: 0.0516 - dense_1_loss_23: 0.0460 - dense_1_loss_24: 0.0439 - dense_1_loss_25: 0.0525 - dense_1_loss_26: 0.0500 - dense_1_loss_27: 0.0559 - dense_1_loss_28: 0.0651 - dense_1_loss_29: 0.0656 - dense_1_loss_30: 0.0000e+00 - dense_1_acc_1: 0.0667 - dense_1_acc_2: 0.5167 - dense_1_acc_3: 0.8500 - dense_1_acc_4: 1.0000 - dense_1_acc_5: 0.9833 - dense_1_acc_6: 1.0000 - dense_1_acc_7: 1.0000 - dense_1_acc_8: 1.0000 - dense_1_acc_9: 1.0000 - dense_1_acc_10: 1.0000 - dense_1_acc_11: 1.0000 - dense_1_acc_12: 1.0000 - dense_1_acc_13: 1.0000 - dense_1_acc_14: 1.0000 - dense_1_acc_15: 1.0000 - dense_1_acc_16: 1.0000 - dense_1_acc_17: 1.0000 - dense_1_acc_18: 1.0000 - dense_1_acc_19: 1.0000 - dense_1_acc_20: 1.0000 - dense_1_acc_21: 1.0000 - dense_1_acc_22: 1.0000 - dense_1_acc_23: 1.0000 - dense_1_acc_24: 1.0000 - dense_1_acc_25: 1.0000 - dense_1_acc_26: 1.0000 - dense_1_acc_27: 1.0000 - dense_1_acc_28: 1.0000 - dense_1_acc_29: 1.0000 - dense_1_acc_30: 0.0333     \n",
      "Epoch 73/100\n",
      "60/60 [==============================] - 1s - loss: 7.7876 - dense_1_loss_1: 3.8498 - dense_1_loss_2: 1.6649 - dense_1_loss_3: 0.6203 - dense_1_loss_4: 0.2014 - dense_1_loss_5: 0.1653 - dense_1_loss_6: 0.0873 - dense_1_loss_7: 0.0738 - dense_1_loss_8: 0.0665 - dense_1_loss_9: 0.0628 - dense_1_loss_10: 0.0479 - dense_1_loss_11: 0.0497 - dense_1_loss_12: 0.0502 - dense_1_loss_13: 0.0435 - dense_1_loss_14: 0.0447 - dense_1_loss_15: 0.0471 - dense_1_loss_16: 0.0496 - dense_1_loss_17: 0.0487 - dense_1_loss_18: 0.0493 - dense_1_loss_19: 0.0483 - dense_1_loss_20: 0.0511 - dense_1_loss_21: 0.0504 - dense_1_loss_22: 0.0496 - dense_1_loss_23: 0.0443 - dense_1_loss_24: 0.0424 - dense_1_loss_25: 0.0507 - dense_1_loss_26: 0.0481 - dense_1_loss_27: 0.0540 - dense_1_loss_28: 0.0625 - dense_1_loss_29: 0.0632 - dense_1_loss_30: 0.0000e+00 - dense_1_acc_1: 0.0667 - dense_1_acc_2: 0.5167 - dense_1_acc_3: 0.8500 - dense_1_acc_4: 1.0000 - dense_1_acc_5: 0.9833 - dense_1_acc_6: 1.0000 - dense_1_acc_7: 1.0000 - dense_1_acc_8: 1.0000 - dense_1_acc_9: 1.0000 - dense_1_acc_10: 1.0000 - dense_1_acc_11: 1.0000 - dense_1_acc_12: 1.0000 - dense_1_acc_13: 1.0000 - dense_1_acc_14: 1.0000 - dense_1_acc_15: 1.0000 - dense_1_acc_16: 1.0000 - dense_1_acc_17: 1.0000 - dense_1_acc_18: 1.0000 - dense_1_acc_19: 1.0000 - dense_1_acc_20: 1.0000 - dense_1_acc_21: 1.0000 - dense_1_acc_22: 1.0000 - dense_1_acc_23: 1.0000 - dense_1_acc_24: 1.0000 - dense_1_acc_25: 1.0000 - dense_1_acc_26: 1.0000 - dense_1_acc_27: 1.0000 - dense_1_acc_28: 1.0000 - dense_1_acc_29: 1.0000 - dense_1_acc_30: 0.0333             \n",
      "Epoch 74/100\n",
      "60/60 [==============================] - 1s - loss: 7.6911 - dense_1_loss_1: 3.8466 - dense_1_loss_2: 1.6463 - dense_1_loss_3: 0.6058 - dense_1_loss_4: 0.1941 - dense_1_loss_5: 0.1587 - dense_1_loss_6: 0.0844 - dense_1_loss_7: 0.0713 - dense_1_loss_8: 0.0639 - dense_1_loss_9: 0.0605 - dense_1_loss_10: 0.0461 - dense_1_loss_11: 0.0479 - dense_1_loss_12: 0.0485 - dense_1_loss_13: 0.0420 - dense_1_loss_14: 0.0431 - dense_1_loss_15: 0.0454 - dense_1_loss_16: 0.0477 - dense_1_loss_17: 0.0470 - dense_1_loss_18: 0.0475 - dense_1_loss_19: 0.0466 - dense_1_loss_20: 0.0493 - dense_1_loss_21: 0.0486 - dense_1_loss_22: 0.0479 - dense_1_loss_23: 0.0426 - dense_1_loss_24: 0.0409 - dense_1_loss_25: 0.0488 - dense_1_loss_26: 0.0465 - dense_1_loss_27: 0.0522 - dense_1_loss_28: 0.0599 - dense_1_loss_29: 0.0608 - dense_1_loss_30: 0.0000e+00 - dense_1_acc_1: 0.0667 - dense_1_acc_2: 0.5167 - dense_1_acc_3: 0.8500 - dense_1_acc_4: 1.0000 - dense_1_acc_5: 0.9833 - dense_1_acc_6: 1.0000 - dense_1_acc_7: 1.0000 - dense_1_acc_8: 1.0000 - dense_1_acc_9: 1.0000 - dense_1_acc_10: 1.0000 - dense_1_acc_11: 1.0000 - dense_1_acc_12: 1.0000 - dense_1_acc_13: 1.0000 - dense_1_acc_14: 1.0000 - dense_1_acc_15: 1.0000 - dense_1_acc_16: 1.0000 - dense_1_acc_17: 1.0000 - dense_1_acc_18: 1.0000 - dense_1_acc_19: 1.0000 - dense_1_acc_20: 1.0000 - dense_1_acc_21: 1.0000 - dense_1_acc_22: 1.0000 - dense_1_acc_23: 1.0000 - dense_1_acc_24: 1.0000 - dense_1_acc_25: 1.0000 - dense_1_acc_26: 1.0000 - dense_1_acc_27: 1.0000 - dense_1_acc_28: 1.0000 - dense_1_acc_29: 1.0000 - dense_1_acc_30: 0.0333         \n",
      "Epoch 75/100\n",
      "60/60 [==============================] - 1s - loss: 7.6047 - dense_1_loss_1: 3.8437 - dense_1_loss_2: 1.6282 - dense_1_loss_3: 0.5920 - dense_1_loss_4: 0.1883 - dense_1_loss_5: 0.1534 - dense_1_loss_6: 0.0819 - dense_1_loss_7: 0.0691 - dense_1_loss_8: 0.0618 - dense_1_loss_9: 0.0585 - dense_1_loss_10: 0.0446 - dense_1_loss_11: 0.0463 - dense_1_loss_12: 0.0469 - dense_1_loss_13: 0.0405 - dense_1_loss_14: 0.0418 - dense_1_loss_15: 0.0438 - dense_1_loss_16: 0.0459 - dense_1_loss_17: 0.0455 - dense_1_loss_18: 0.0458 - dense_1_loss_19: 0.0449 - dense_1_loss_20: 0.0477 - dense_1_loss_21: 0.0470 - dense_1_loss_22: 0.0465 - dense_1_loss_23: 0.0411 - dense_1_loss_24: 0.0396 - dense_1_loss_25: 0.0471 - dense_1_loss_26: 0.0452 - dense_1_loss_27: 0.0505 - dense_1_loss_28: 0.0581 - dense_1_loss_29: 0.0589 - dense_1_loss_30: 0.0000e+00 - dense_1_acc_1: 0.0667 - dense_1_acc_2: 0.5167 - dense_1_acc_3: 0.8500 - dense_1_acc_4: 1.0000 - dense_1_acc_5: 0.9833 - dense_1_acc_6: 1.0000 - dense_1_acc_7: 1.0000 - dense_1_acc_8: 1.0000 - dense_1_acc_9: 1.0000 - dense_1_acc_10: 1.0000 - dense_1_acc_11: 1.0000 - dense_1_acc_12: 1.0000 - dense_1_acc_13: 1.0000 - dense_1_acc_14: 1.0000 - dense_1_acc_15: 1.0000 - dense_1_acc_16: 1.0000 - dense_1_acc_17: 1.0000 - dense_1_acc_18: 1.0000 - dense_1_acc_19: 1.0000 - dense_1_acc_20: 1.0000 - dense_1_acc_21: 1.0000 - dense_1_acc_22: 1.0000 - dense_1_acc_23: 1.0000 - dense_1_acc_24: 1.0000 - dense_1_acc_25: 1.0000 - dense_1_acc_26: 1.0000 - dense_1_acc_27: 1.0000 - dense_1_acc_28: 1.0000 - dense_1_acc_29: 1.0000 - dense_1_acc_30: 0.0333     \n",
      "Epoch 76/100\n",
      "60/60 [==============================] - 1s - loss: 7.5182 - dense_1_loss_1: 3.8406 - dense_1_loss_2: 1.6103 - dense_1_loss_3: 0.5785 - dense_1_loss_4: 0.1824 - dense_1_loss_5: 0.1482 - dense_1_loss_6: 0.0795 - dense_1_loss_7: 0.0667 - dense_1_loss_8: 0.0598 - dense_1_loss_9: 0.0565 - dense_1_loss_10: 0.0432 - dense_1_loss_11: 0.0448 - dense_1_loss_12: 0.0455 - dense_1_loss_13: 0.0392 - dense_1_loss_14: 0.0405 - dense_1_loss_15: 0.0424 - dense_1_loss_16: 0.0443 - dense_1_loss_17: 0.0439 - dense_1_loss_18: 0.0443 - dense_1_loss_19: 0.0433 - dense_1_loss_20: 0.0461 - dense_1_loss_21: 0.0453 - dense_1_loss_22: 0.0450 - dense_1_loss_23: 0.0398 - dense_1_loss_24: 0.0382 - dense_1_loss_25: 0.0454 - dense_1_loss_26: 0.0436 - dense_1_loss_27: 0.0487 - dense_1_loss_28: 0.0557 - dense_1_loss_29: 0.0565 - dense_1_loss_30: 0.0000e+00 - dense_1_acc_1: 0.0667 - dense_1_acc_2: 0.5167 - dense_1_acc_3: 0.8500 - dense_1_acc_4: 1.0000 - dense_1_acc_5: 0.9833 - dense_1_acc_6: 1.0000 - dense_1_acc_7: 1.0000 - dense_1_acc_8: 1.0000 - dense_1_acc_9: 1.0000 - dense_1_acc_10: 1.0000 - dense_1_acc_11: 1.0000 - dense_1_acc_12: 1.0000 - dense_1_acc_13: 1.0000 - dense_1_acc_14: 1.0000 - dense_1_acc_15: 1.0000 - dense_1_acc_16: 1.0000 - dense_1_acc_17: 1.0000 - dense_1_acc_18: 1.0000 - dense_1_acc_19: 1.0000 - dense_1_acc_20: 1.0000 - dense_1_acc_21: 1.0000 - dense_1_acc_22: 1.0000 - dense_1_acc_23: 1.0000 - dense_1_acc_24: 1.0000 - dense_1_acc_25: 1.0000 - dense_1_acc_26: 1.0000 - dense_1_acc_27: 1.0000 - dense_1_acc_28: 1.0000 - dense_1_acc_29: 1.0000 - dense_1_acc_30: 0.0333     \n",
      "Epoch 77/100\n",
      "60/60 [==============================] - 1s - loss: 7.4406 - dense_1_loss_1: 3.8376 - dense_1_loss_2: 1.5932 - dense_1_loss_3: 0.5664 - dense_1_loss_4: 0.1771 - dense_1_loss_5: 0.1442 - dense_1_loss_6: 0.0773 - dense_1_loss_7: 0.0647 - dense_1_loss_8: 0.0581 - dense_1_loss_9: 0.0547 - dense_1_loss_10: 0.0419 - dense_1_loss_11: 0.0434 - dense_1_loss_12: 0.0441 - dense_1_loss_13: 0.0380 - dense_1_loss_14: 0.0392 - dense_1_loss_15: 0.0411 - dense_1_loss_16: 0.0428 - dense_1_loss_17: 0.0424 - dense_1_loss_18: 0.0429 - dense_1_loss_19: 0.0419 - dense_1_loss_20: 0.0446 - dense_1_loss_21: 0.0438 - dense_1_loss_22: 0.0435 - dense_1_loss_23: 0.0386 - dense_1_loss_24: 0.0371 - dense_1_loss_25: 0.0439 - dense_1_loss_26: 0.0423 - dense_1_loss_27: 0.0471 - dense_1_loss_28: 0.0537 - dense_1_loss_29: 0.0546 - dense_1_loss_30: 0.0000e+00 - dense_1_acc_1: 0.0667 - dense_1_acc_2: 0.5167 - dense_1_acc_3: 0.8500 - dense_1_acc_4: 1.0000 - dense_1_acc_5: 0.9833 - dense_1_acc_6: 1.0000 - dense_1_acc_7: 1.0000 - dense_1_acc_8: 1.0000 - dense_1_acc_9: 1.0000 - dense_1_acc_10: 1.0000 - dense_1_acc_11: 1.0000 - dense_1_acc_12: 1.0000 - dense_1_acc_13: 1.0000 - dense_1_acc_14: 1.0000 - dense_1_acc_15: 1.0000 - dense_1_acc_16: 1.0000 - dense_1_acc_17: 1.0000 - dense_1_acc_18: 1.0000 - dense_1_acc_19: 1.0000 - dense_1_acc_20: 1.0000 - dense_1_acc_21: 1.0000 - dense_1_acc_22: 1.0000 - dense_1_acc_23: 1.0000 - dense_1_acc_24: 1.0000 - dense_1_acc_25: 1.0000 - dense_1_acc_26: 1.0000 - dense_1_acc_27: 1.0000 - dense_1_acc_28: 1.0000 - dense_1_acc_29: 1.0000 - dense_1_acc_30: 0.0333     \n",
      "Epoch 78/100\n",
      "60/60 [==============================] - 1s - loss: 7.3624 - dense_1_loss_1: 3.8346 - dense_1_loss_2: 1.5759 - dense_1_loss_3: 0.5541 - dense_1_loss_4: 0.1715 - dense_1_loss_5: 0.1390 - dense_1_loss_6: 0.0751 - dense_1_loss_7: 0.0626 - dense_1_loss_8: 0.0563 - dense_1_loss_9: 0.0529 - dense_1_loss_10: 0.0407 - dense_1_loss_11: 0.0419 - dense_1_loss_12: 0.0426 - dense_1_loss_13: 0.0369 - dense_1_loss_14: 0.0380 - dense_1_loss_15: 0.0398 - dense_1_loss_16: 0.0415 - dense_1_loss_17: 0.0410 - dense_1_loss_18: 0.0416 - dense_1_loss_19: 0.0405 - dense_1_loss_20: 0.0432 - dense_1_loss_21: 0.0425 - dense_1_loss_22: 0.0422 - dense_1_loss_23: 0.0376 - dense_1_loss_24: 0.0359 - dense_1_loss_25: 0.0426 - dense_1_loss_26: 0.0411 - dense_1_loss_27: 0.0458 - dense_1_loss_28: 0.0521 - dense_1_loss_29: 0.0530 - dense_1_loss_30: 0.0000e+00 - dense_1_acc_1: 0.0667 - dense_1_acc_2: 0.5167 - dense_1_acc_3: 0.8500 - dense_1_acc_4: 1.0000 - dense_1_acc_5: 0.9833 - dense_1_acc_6: 1.0000 - dense_1_acc_7: 1.0000 - dense_1_acc_8: 1.0000 - dense_1_acc_9: 1.0000 - dense_1_acc_10: 1.0000 - dense_1_acc_11: 1.0000 - dense_1_acc_12: 1.0000 - dense_1_acc_13: 1.0000 - dense_1_acc_14: 1.0000 - dense_1_acc_15: 1.0000 - dense_1_acc_16: 1.0000 - dense_1_acc_17: 1.0000 - dense_1_acc_18: 1.0000 - dense_1_acc_19: 1.0000 - dense_1_acc_20: 1.0000 - dense_1_acc_21: 1.0000 - dense_1_acc_22: 1.0000 - dense_1_acc_23: 1.0000 - dense_1_acc_24: 1.0000 - dense_1_acc_25: 1.0000 - dense_1_acc_26: 1.0000 - dense_1_acc_27: 1.0000 - dense_1_acc_28: 1.0000 - dense_1_acc_29: 1.0000 - dense_1_acc_30: 0.0333     \n",
      "Epoch 79/100\n",
      "60/60 [==============================] - 1s - loss: 7.2863 - dense_1_loss_1: 3.8318 - dense_1_loss_2: 1.5600 - dense_1_loss_3: 0.5409 - dense_1_loss_4: 0.1665 - dense_1_loss_5: 0.1334 - dense_1_loss_6: 0.0730 - dense_1_loss_7: 0.0605 - dense_1_loss_8: 0.0544 - dense_1_loss_9: 0.0512 - dense_1_loss_10: 0.0395 - dense_1_loss_11: 0.0406 - dense_1_loss_12: 0.0412 - dense_1_loss_13: 0.0358 - dense_1_loss_14: 0.0369 - dense_1_loss_15: 0.0385 - dense_1_loss_16: 0.0403 - dense_1_loss_17: 0.0397 - dense_1_loss_18: 0.0404 - dense_1_loss_19: 0.0392 - dense_1_loss_20: 0.0419 - dense_1_loss_21: 0.0413 - dense_1_loss_22: 0.0409 - dense_1_loss_23: 0.0365 - dense_1_loss_24: 0.0348 - dense_1_loss_25: 0.0414 - dense_1_loss_26: 0.0398 - dense_1_loss_27: 0.0444 - dense_1_loss_28: 0.0503 - dense_1_loss_29: 0.0513 - dense_1_loss_30: 0.0000e+00 - dense_1_acc_1: 0.0667 - dense_1_acc_2: 0.5333 - dense_1_acc_3: 0.8500 - dense_1_acc_4: 1.0000 - dense_1_acc_5: 0.9833 - dense_1_acc_6: 1.0000 - dense_1_acc_7: 1.0000 - dense_1_acc_8: 1.0000 - dense_1_acc_9: 1.0000 - dense_1_acc_10: 1.0000 - dense_1_acc_11: 1.0000 - dense_1_acc_12: 1.0000 - dense_1_acc_13: 1.0000 - dense_1_acc_14: 1.0000 - dense_1_acc_15: 1.0000 - dense_1_acc_16: 1.0000 - dense_1_acc_17: 1.0000 - dense_1_acc_18: 1.0000 - dense_1_acc_19: 1.0000 - dense_1_acc_20: 1.0000 - dense_1_acc_21: 1.0000 - dense_1_acc_22: 1.0000 - dense_1_acc_23: 1.0000 - dense_1_acc_24: 1.0000 - dense_1_acc_25: 1.0000 - dense_1_acc_26: 1.0000 - dense_1_acc_27: 1.0000 - dense_1_acc_28: 1.0000 - dense_1_acc_29: 1.0000 - dense_1_acc_30: 0.0333         \n",
      "Epoch 80/100\n",
      "60/60 [==============================] - 1s - loss: 7.2168 - dense_1_loss_1: 3.8287 - dense_1_loss_2: 1.5432 - dense_1_loss_3: 0.5306 - dense_1_loss_4: 0.1622 - dense_1_loss_5: 0.1298 - dense_1_loss_6: 0.0712 - dense_1_loss_7: 0.0589 - dense_1_loss_8: 0.0529 - dense_1_loss_9: 0.0499 - dense_1_loss_10: 0.0383 - dense_1_loss_11: 0.0395 - dense_1_loss_12: 0.0400 - dense_1_loss_13: 0.0347 - dense_1_loss_14: 0.0358 - dense_1_loss_15: 0.0373 - dense_1_loss_16: 0.0391 - dense_1_loss_17: 0.0384 - dense_1_loss_18: 0.0391 - dense_1_loss_19: 0.0381 - dense_1_loss_20: 0.0406 - dense_1_loss_21: 0.0401 - dense_1_loss_22: 0.0397 - dense_1_loss_23: 0.0354 - dense_1_loss_24: 0.0338 - dense_1_loss_25: 0.0402 - dense_1_loss_26: 0.0384 - dense_1_loss_27: 0.0428 - dense_1_loss_28: 0.0486 - dense_1_loss_29: 0.0495 - dense_1_loss_30: 0.0000e+00 - dense_1_acc_1: 0.0667 - dense_1_acc_2: 0.5333 - dense_1_acc_3: 0.8500 - dense_1_acc_4: 1.0000 - dense_1_acc_5: 0.9833 - dense_1_acc_6: 1.0000 - dense_1_acc_7: 1.0000 - dense_1_acc_8: 1.0000 - dense_1_acc_9: 1.0000 - dense_1_acc_10: 1.0000 - dense_1_acc_11: 1.0000 - dense_1_acc_12: 1.0000 - dense_1_acc_13: 1.0000 - dense_1_acc_14: 1.0000 - dense_1_acc_15: 1.0000 - dense_1_acc_16: 1.0000 - dense_1_acc_17: 1.0000 - dense_1_acc_18: 1.0000 - dense_1_acc_19: 1.0000 - dense_1_acc_20: 1.0000 - dense_1_acc_21: 1.0000 - dense_1_acc_22: 1.0000 - dense_1_acc_23: 1.0000 - dense_1_acc_24: 1.0000 - dense_1_acc_25: 1.0000 - dense_1_acc_26: 1.0000 - dense_1_acc_27: 1.0000 - dense_1_acc_28: 1.0000 - dense_1_acc_29: 1.0000 - dense_1_acc_30: 0.0333             \n",
      "Epoch 81/100\n"
     ]
    },
    {
     "name": "stdout",
     "output_type": "stream",
     "text": [
      "60/60 [==============================] - 1s - loss: 7.1479 - dense_1_loss_1: 3.8259 - dense_1_loss_2: 1.5276 - dense_1_loss_3: 0.5189 - dense_1_loss_4: 0.1580 - dense_1_loss_5: 0.1246 - dense_1_loss_6: 0.0694 - dense_1_loss_7: 0.0572 - dense_1_loss_8: 0.0511 - dense_1_loss_9: 0.0485 - dense_1_loss_10: 0.0371 - dense_1_loss_11: 0.0385 - dense_1_loss_12: 0.0389 - dense_1_loss_13: 0.0336 - dense_1_loss_14: 0.0349 - dense_1_loss_15: 0.0362 - dense_1_loss_16: 0.0378 - dense_1_loss_17: 0.0372 - dense_1_loss_18: 0.0379 - dense_1_loss_19: 0.0370 - dense_1_loss_20: 0.0394 - dense_1_loss_21: 0.0390 - dense_1_loss_22: 0.0386 - dense_1_loss_23: 0.0342 - dense_1_loss_24: 0.0328 - dense_1_loss_25: 0.0390 - dense_1_loss_26: 0.0375 - dense_1_loss_27: 0.0416 - dense_1_loss_28: 0.0474 - dense_1_loss_29: 0.0482 - dense_1_loss_30: 0.0000e+00 - dense_1_acc_1: 0.0667 - dense_1_acc_2: 0.5667 - dense_1_acc_3: 0.8500 - dense_1_acc_4: 1.0000 - dense_1_acc_5: 0.9833 - dense_1_acc_6: 1.0000 - dense_1_acc_7: 1.0000 - dense_1_acc_8: 1.0000 - dense_1_acc_9: 1.0000 - dense_1_acc_10: 1.0000 - dense_1_acc_11: 1.0000 - dense_1_acc_12: 1.0000 - dense_1_acc_13: 1.0000 - dense_1_acc_14: 1.0000 - dense_1_acc_15: 1.0000 - dense_1_acc_16: 1.0000 - dense_1_acc_17: 1.0000 - dense_1_acc_18: 1.0000 - dense_1_acc_19: 1.0000 - dense_1_acc_20: 1.0000 - dense_1_acc_21: 1.0000 - dense_1_acc_22: 1.0000 - dense_1_acc_23: 1.0000 - dense_1_acc_24: 1.0000 - dense_1_acc_25: 1.0000 - dense_1_acc_26: 1.0000 - dense_1_acc_27: 1.0000 - dense_1_acc_28: 1.0000 - dense_1_acc_29: 1.0000 - dense_1_acc_30: 0.0333     \n",
      "Epoch 82/100\n",
      "60/60 [==============================] - 1s - loss: 7.0846 - dense_1_loss_1: 3.8230 - dense_1_loss_2: 1.5126 - dense_1_loss_3: 0.5085 - dense_1_loss_4: 0.1540 - dense_1_loss_5: 0.1216 - dense_1_loss_6: 0.0678 - dense_1_loss_7: 0.0555 - dense_1_loss_8: 0.0498 - dense_1_loss_9: 0.0471 - dense_1_loss_10: 0.0361 - dense_1_loss_11: 0.0375 - dense_1_loss_12: 0.0379 - dense_1_loss_13: 0.0327 - dense_1_loss_14: 0.0339 - dense_1_loss_15: 0.0352 - dense_1_loss_16: 0.0367 - dense_1_loss_17: 0.0362 - dense_1_loss_18: 0.0368 - dense_1_loss_19: 0.0358 - dense_1_loss_20: 0.0384 - dense_1_loss_21: 0.0379 - dense_1_loss_22: 0.0374 - dense_1_loss_23: 0.0332 - dense_1_loss_24: 0.0319 - dense_1_loss_25: 0.0378 - dense_1_loss_26: 0.0365 - dense_1_loss_27: 0.0402 - dense_1_loss_28: 0.0457 - dense_1_loss_29: 0.0467 - dense_1_loss_30: 0.0000e+00 - dense_1_acc_1: 0.0667 - dense_1_acc_2: 0.5667 - dense_1_acc_3: 0.8500 - dense_1_acc_4: 1.0000 - dense_1_acc_5: 0.9833 - dense_1_acc_6: 1.0000 - dense_1_acc_7: 1.0000 - dense_1_acc_8: 1.0000 - dense_1_acc_9: 1.0000 - dense_1_acc_10: 1.0000 - dense_1_acc_11: 1.0000 - dense_1_acc_12: 1.0000 - dense_1_acc_13: 1.0000 - dense_1_acc_14: 1.0000 - dense_1_acc_15: 1.0000 - dense_1_acc_16: 1.0000 - dense_1_acc_17: 1.0000 - dense_1_acc_18: 1.0000 - dense_1_acc_19: 1.0000 - dense_1_acc_20: 1.0000 - dense_1_acc_21: 1.0000 - dense_1_acc_22: 1.0000 - dense_1_acc_23: 1.0000 - dense_1_acc_24: 1.0000 - dense_1_acc_25: 1.0000 - dense_1_acc_26: 1.0000 - dense_1_acc_27: 1.0000 - dense_1_acc_28: 1.0000 - dense_1_acc_29: 1.0000 - dense_1_acc_30: 0.0333         \n",
      "Epoch 83/100\n",
      "60/60 [==============================] - 1s - loss: 7.0190 - dense_1_loss_1: 3.8203 - dense_1_loss_2: 1.4967 - dense_1_loss_3: 0.4978 - dense_1_loss_4: 0.1497 - dense_1_loss_5: 0.1170 - dense_1_loss_6: 0.0659 - dense_1_loss_7: 0.0539 - dense_1_loss_8: 0.0484 - dense_1_loss_9: 0.0457 - dense_1_loss_10: 0.0352 - dense_1_loss_11: 0.0362 - dense_1_loss_12: 0.0369 - dense_1_loss_13: 0.0317 - dense_1_loss_14: 0.0329 - dense_1_loss_15: 0.0342 - dense_1_loss_16: 0.0358 - dense_1_loss_17: 0.0352 - dense_1_loss_18: 0.0357 - dense_1_loss_19: 0.0347 - dense_1_loss_20: 0.0374 - dense_1_loss_21: 0.0368 - dense_1_loss_22: 0.0363 - dense_1_loss_23: 0.0323 - dense_1_loss_24: 0.0311 - dense_1_loss_25: 0.0368 - dense_1_loss_26: 0.0355 - dense_1_loss_27: 0.0392 - dense_1_loss_28: 0.0444 - dense_1_loss_29: 0.0454 - dense_1_loss_30: 0.0000e+00 - dense_1_acc_1: 0.0667 - dense_1_acc_2: 0.5667 - dense_1_acc_3: 0.8500 - dense_1_acc_4: 1.0000 - dense_1_acc_5: 0.9833 - dense_1_acc_6: 1.0000 - dense_1_acc_7: 1.0000 - dense_1_acc_8: 1.0000 - dense_1_acc_9: 1.0000 - dense_1_acc_10: 1.0000 - dense_1_acc_11: 1.0000 - dense_1_acc_12: 1.0000 - dense_1_acc_13: 1.0000 - dense_1_acc_14: 1.0000 - dense_1_acc_15: 1.0000 - dense_1_acc_16: 1.0000 - dense_1_acc_17: 1.0000 - dense_1_acc_18: 1.0000 - dense_1_acc_19: 1.0000 - dense_1_acc_20: 1.0000 - dense_1_acc_21: 1.0000 - dense_1_acc_22: 1.0000 - dense_1_acc_23: 1.0000 - dense_1_acc_24: 1.0000 - dense_1_acc_25: 1.0000 - dense_1_acc_26: 1.0000 - dense_1_acc_27: 1.0000 - dense_1_acc_28: 1.0000 - dense_1_acc_29: 1.0000 - dense_1_acc_30: 0.0333     \n",
      "Epoch 84/100\n",
      "60/60 [==============================] - 1s - loss: 6.9594 - dense_1_loss_1: 3.8176 - dense_1_loss_2: 1.4816 - dense_1_loss_3: 0.4878 - dense_1_loss_4: 0.1461 - dense_1_loss_5: 0.1134 - dense_1_loss_6: 0.0644 - dense_1_loss_7: 0.0525 - dense_1_loss_8: 0.0471 - dense_1_loss_9: 0.0445 - dense_1_loss_10: 0.0343 - dense_1_loss_11: 0.0352 - dense_1_loss_12: 0.0358 - dense_1_loss_13: 0.0309 - dense_1_loss_14: 0.0320 - dense_1_loss_15: 0.0334 - dense_1_loss_16: 0.0348 - dense_1_loss_17: 0.0343 - dense_1_loss_18: 0.0348 - dense_1_loss_19: 0.0337 - dense_1_loss_20: 0.0364 - dense_1_loss_21: 0.0358 - dense_1_loss_22: 0.0353 - dense_1_loss_23: 0.0314 - dense_1_loss_24: 0.0302 - dense_1_loss_25: 0.0358 - dense_1_loss_26: 0.0346 - dense_1_loss_27: 0.0382 - dense_1_loss_28: 0.0432 - dense_1_loss_29: 0.0442 - dense_1_loss_30: 0.0000e+00 - dense_1_acc_1: 0.0667 - dense_1_acc_2: 0.5667 - dense_1_acc_3: 0.8500 - dense_1_acc_4: 1.0000 - dense_1_acc_5: 0.9833 - dense_1_acc_6: 1.0000 - dense_1_acc_7: 1.0000 - dense_1_acc_8: 1.0000 - dense_1_acc_9: 1.0000 - dense_1_acc_10: 1.0000 - dense_1_acc_11: 1.0000 - dense_1_acc_12: 1.0000 - dense_1_acc_13: 1.0000 - dense_1_acc_14: 1.0000 - dense_1_acc_15: 1.0000 - dense_1_acc_16: 1.0000 - dense_1_acc_17: 1.0000 - dense_1_acc_18: 1.0000 - dense_1_acc_19: 1.0000 - dense_1_acc_20: 1.0000 - dense_1_acc_21: 1.0000 - dense_1_acc_22: 1.0000 - dense_1_acc_23: 1.0000 - dense_1_acc_24: 1.0000 - dense_1_acc_25: 1.0000 - dense_1_acc_26: 1.0000 - dense_1_acc_27: 1.0000 - dense_1_acc_28: 1.0000 - dense_1_acc_29: 1.0000 - dense_1_acc_30: 0.0333         \n",
      "Epoch 85/100\n",
      "60/60 [==============================] - 1s - loss: 6.9010 - dense_1_loss_1: 3.8146 - dense_1_loss_2: 1.4678 - dense_1_loss_3: 0.4774 - dense_1_loss_4: 0.1425 - dense_1_loss_5: 0.1098 - dense_1_loss_6: 0.0629 - dense_1_loss_7: 0.0511 - dense_1_loss_8: 0.0458 - dense_1_loss_9: 0.0433 - dense_1_loss_10: 0.0334 - dense_1_loss_11: 0.0342 - dense_1_loss_12: 0.0349 - dense_1_loss_13: 0.0302 - dense_1_loss_14: 0.0312 - dense_1_loss_15: 0.0325 - dense_1_loss_16: 0.0339 - dense_1_loss_17: 0.0334 - dense_1_loss_18: 0.0338 - dense_1_loss_19: 0.0328 - dense_1_loss_20: 0.0354 - dense_1_loss_21: 0.0348 - dense_1_loss_22: 0.0344 - dense_1_loss_23: 0.0306 - dense_1_loss_24: 0.0295 - dense_1_loss_25: 0.0349 - dense_1_loss_26: 0.0337 - dense_1_loss_27: 0.0372 - dense_1_loss_28: 0.0419 - dense_1_loss_29: 0.0430 - dense_1_loss_30: 0.0000e+00 - dense_1_acc_1: 0.0667 - dense_1_acc_2: 0.5667 - dense_1_acc_3: 0.8667 - dense_1_acc_4: 1.0000 - dense_1_acc_5: 0.9833 - dense_1_acc_6: 1.0000 - dense_1_acc_7: 1.0000 - dense_1_acc_8: 1.0000 - dense_1_acc_9: 1.0000 - dense_1_acc_10: 1.0000 - dense_1_acc_11: 1.0000 - dense_1_acc_12: 1.0000 - dense_1_acc_13: 1.0000 - dense_1_acc_14: 1.0000 - dense_1_acc_15: 1.0000 - dense_1_acc_16: 1.0000 - dense_1_acc_17: 1.0000 - dense_1_acc_18: 1.0000 - dense_1_acc_19: 1.0000 - dense_1_acc_20: 1.0000 - dense_1_acc_21: 1.0000 - dense_1_acc_22: 1.0000 - dense_1_acc_23: 1.0000 - dense_1_acc_24: 1.0000 - dense_1_acc_25: 1.0000 - dense_1_acc_26: 1.0000 - dense_1_acc_27: 1.0000 - dense_1_acc_28: 1.0000 - dense_1_acc_29: 1.0000 - dense_1_acc_30: 0.0333     \n",
      "Epoch 86/100\n",
      "60/60 [==============================] - 1s - loss: 6.8464 - dense_1_loss_1: 3.8121 - dense_1_loss_2: 1.4536 - dense_1_loss_3: 0.4685 - dense_1_loss_4: 0.1394 - dense_1_loss_5: 0.1067 - dense_1_loss_6: 0.0616 - dense_1_loss_7: 0.0499 - dense_1_loss_8: 0.0446 - dense_1_loss_9: 0.0422 - dense_1_loss_10: 0.0326 - dense_1_loss_11: 0.0334 - dense_1_loss_12: 0.0340 - dense_1_loss_13: 0.0294 - dense_1_loss_14: 0.0304 - dense_1_loss_15: 0.0317 - dense_1_loss_16: 0.0331 - dense_1_loss_17: 0.0325 - dense_1_loss_18: 0.0329 - dense_1_loss_19: 0.0319 - dense_1_loss_20: 0.0345 - dense_1_loss_21: 0.0339 - dense_1_loss_22: 0.0335 - dense_1_loss_23: 0.0299 - dense_1_loss_24: 0.0287 - dense_1_loss_25: 0.0340 - dense_1_loss_26: 0.0328 - dense_1_loss_27: 0.0363 - dense_1_loss_28: 0.0407 - dense_1_loss_29: 0.0419 - dense_1_loss_30: 0.0000e+00 - dense_1_acc_1: 0.0667 - dense_1_acc_2: 0.5667 - dense_1_acc_3: 0.8667 - dense_1_acc_4: 1.0000 - dense_1_acc_5: 0.9833 - dense_1_acc_6: 1.0000 - dense_1_acc_7: 1.0000 - dense_1_acc_8: 1.0000 - dense_1_acc_9: 1.0000 - dense_1_acc_10: 1.0000 - dense_1_acc_11: 1.0000 - dense_1_acc_12: 1.0000 - dense_1_acc_13: 1.0000 - dense_1_acc_14: 1.0000 - dense_1_acc_15: 1.0000 - dense_1_acc_16: 1.0000 - dense_1_acc_17: 1.0000 - dense_1_acc_18: 1.0000 - dense_1_acc_19: 1.0000 - dense_1_acc_20: 1.0000 - dense_1_acc_21: 1.0000 - dense_1_acc_22: 1.0000 - dense_1_acc_23: 1.0000 - dense_1_acc_24: 1.0000 - dense_1_acc_25: 1.0000 - dense_1_acc_26: 1.0000 - dense_1_acc_27: 1.0000 - dense_1_acc_28: 1.0000 - dense_1_acc_29: 1.0000 - dense_1_acc_30: 0.0333     \n",
      "Epoch 87/100\n",
      "60/60 [==============================] - 1s - loss: 6.7931 - dense_1_loss_1: 3.8091 - dense_1_loss_2: 1.4402 - dense_1_loss_3: 0.4594 - dense_1_loss_4: 0.1360 - dense_1_loss_5: 0.1041 - dense_1_loss_6: 0.0602 - dense_1_loss_7: 0.0487 - dense_1_loss_8: 0.0436 - dense_1_loss_9: 0.0413 - dense_1_loss_10: 0.0318 - dense_1_loss_11: 0.0326 - dense_1_loss_12: 0.0332 - dense_1_loss_13: 0.0287 - dense_1_loss_14: 0.0296 - dense_1_loss_15: 0.0310 - dense_1_loss_16: 0.0321 - dense_1_loss_17: 0.0316 - dense_1_loss_18: 0.0320 - dense_1_loss_19: 0.0312 - dense_1_loss_20: 0.0335 - dense_1_loss_21: 0.0330 - dense_1_loss_22: 0.0326 - dense_1_loss_23: 0.0291 - dense_1_loss_24: 0.0280 - dense_1_loss_25: 0.0332 - dense_1_loss_26: 0.0319 - dense_1_loss_27: 0.0353 - dense_1_loss_28: 0.0394 - dense_1_loss_29: 0.0408 - dense_1_loss_30: 0.0000e+00 - dense_1_acc_1: 0.0667 - dense_1_acc_2: 0.5667 - dense_1_acc_3: 0.8667 - dense_1_acc_4: 1.0000 - dense_1_acc_5: 0.9833 - dense_1_acc_6: 1.0000 - dense_1_acc_7: 1.0000 - dense_1_acc_8: 1.0000 - dense_1_acc_9: 1.0000 - dense_1_acc_10: 1.0000 - dense_1_acc_11: 1.0000 - dense_1_acc_12: 1.0000 - dense_1_acc_13: 1.0000 - dense_1_acc_14: 1.0000 - dense_1_acc_15: 1.0000 - dense_1_acc_16: 1.0000 - dense_1_acc_17: 1.0000 - dense_1_acc_18: 1.0000 - dense_1_acc_19: 1.0000 - dense_1_acc_20: 1.0000 - dense_1_acc_21: 1.0000 - dense_1_acc_22: 1.0000 - dense_1_acc_23: 1.0000 - dense_1_acc_24: 1.0000 - dense_1_acc_25: 1.0000 - dense_1_acc_26: 1.0000 - dense_1_acc_27: 1.0000 - dense_1_acc_28: 1.0000 - dense_1_acc_29: 1.0000 - dense_1_acc_30: 0.0333     \n",
      "Epoch 88/100\n",
      "60/60 [==============================] - 1s - loss: 6.7400 - dense_1_loss_1: 3.8063 - dense_1_loss_2: 1.4263 - dense_1_loss_3: 0.4501 - dense_1_loss_4: 0.1330 - dense_1_loss_5: 0.1009 - dense_1_loss_6: 0.0589 - dense_1_loss_7: 0.0475 - dense_1_loss_8: 0.0425 - dense_1_loss_9: 0.0402 - dense_1_loss_10: 0.0310 - dense_1_loss_11: 0.0318 - dense_1_loss_12: 0.0324 - dense_1_loss_13: 0.0280 - dense_1_loss_14: 0.0290 - dense_1_loss_15: 0.0302 - dense_1_loss_16: 0.0312 - dense_1_loss_17: 0.0308 - dense_1_loss_18: 0.0312 - dense_1_loss_19: 0.0304 - dense_1_loss_20: 0.0327 - dense_1_loss_21: 0.0321 - dense_1_loss_22: 0.0318 - dense_1_loss_23: 0.0283 - dense_1_loss_24: 0.0273 - dense_1_loss_25: 0.0323 - dense_1_loss_26: 0.0312 - dense_1_loss_27: 0.0345 - dense_1_loss_28: 0.0384 - dense_1_loss_29: 0.0397 - dense_1_loss_30: 0.0000e+00 - dense_1_acc_1: 0.0667 - dense_1_acc_2: 0.5667 - dense_1_acc_3: 0.8667 - dense_1_acc_4: 1.0000 - dense_1_acc_5: 0.9833 - dense_1_acc_6: 1.0000 - dense_1_acc_7: 1.0000 - dense_1_acc_8: 1.0000 - dense_1_acc_9: 1.0000 - dense_1_acc_10: 1.0000 - dense_1_acc_11: 1.0000 - dense_1_acc_12: 1.0000 - dense_1_acc_13: 1.0000 - dense_1_acc_14: 1.0000 - dense_1_acc_15: 1.0000 - dense_1_acc_16: 1.0000 - dense_1_acc_17: 1.0000 - dense_1_acc_18: 1.0000 - dense_1_acc_19: 1.0000 - dense_1_acc_20: 1.0000 - dense_1_acc_21: 1.0000 - dense_1_acc_22: 1.0000 - dense_1_acc_23: 1.0000 - dense_1_acc_24: 1.0000 - dense_1_acc_25: 1.0000 - dense_1_acc_26: 1.0000 - dense_1_acc_27: 1.0000 - dense_1_acc_28: 1.0000 - dense_1_acc_29: 1.0000 - dense_1_acc_30: 0.0333     \n",
      "Epoch 89/100\n",
      "60/60 [==============================] - 1s - loss: 6.6884 - dense_1_loss_1: 3.8036 - dense_1_loss_2: 1.4127 - dense_1_loss_3: 0.4415 - dense_1_loss_4: 0.1297 - dense_1_loss_5: 0.0974 - dense_1_loss_6: 0.0575 - dense_1_loss_7: 0.0463 - dense_1_loss_8: 0.0413 - dense_1_loss_9: 0.0391 - dense_1_loss_10: 0.0303 - dense_1_loss_11: 0.0309 - dense_1_loss_12: 0.0317 - dense_1_loss_13: 0.0273 - dense_1_loss_14: 0.0282 - dense_1_loss_15: 0.0294 - dense_1_loss_16: 0.0304 - dense_1_loss_17: 0.0301 - dense_1_loss_18: 0.0304 - dense_1_loss_19: 0.0296 - dense_1_loss_20: 0.0319 - dense_1_loss_21: 0.0314 - dense_1_loss_22: 0.0310 - dense_1_loss_23: 0.0276 - dense_1_loss_24: 0.0267 - dense_1_loss_25: 0.0315 - dense_1_loss_26: 0.0305 - dense_1_loss_27: 0.0337 - dense_1_loss_28: 0.0375 - dense_1_loss_29: 0.0389 - dense_1_loss_30: 0.0000e+00 - dense_1_acc_1: 0.1000 - dense_1_acc_2: 0.5667 - dense_1_acc_3: 0.8667 - dense_1_acc_4: 1.0000 - dense_1_acc_5: 0.9833 - dense_1_acc_6: 1.0000 - dense_1_acc_7: 1.0000 - dense_1_acc_8: 1.0000 - dense_1_acc_9: 1.0000 - dense_1_acc_10: 1.0000 - dense_1_acc_11: 1.0000 - dense_1_acc_12: 1.0000 - dense_1_acc_13: 1.0000 - dense_1_acc_14: 1.0000 - dense_1_acc_15: 1.0000 - dense_1_acc_16: 1.0000 - dense_1_acc_17: 1.0000 - dense_1_acc_18: 1.0000 - dense_1_acc_19: 1.0000 - dense_1_acc_20: 1.0000 - dense_1_acc_21: 1.0000 - dense_1_acc_22: 1.0000 - dense_1_acc_23: 1.0000 - dense_1_acc_24: 1.0000 - dense_1_acc_25: 1.0000 - dense_1_acc_26: 1.0000 - dense_1_acc_27: 1.0000 - dense_1_acc_28: 1.0000 - dense_1_acc_29: 1.0000 - dense_1_acc_30: 0.0333     \n",
      "Epoch 90/100\n",
      "60/60 [==============================] - 1s - loss: 6.6412 - dense_1_loss_1: 3.8010 - dense_1_loss_2: 1.4002 - dense_1_loss_3: 0.4335 - dense_1_loss_4: 0.1267 - dense_1_loss_5: 0.0953 - dense_1_loss_6: 0.0562 - dense_1_loss_7: 0.0452 - dense_1_loss_8: 0.0404 - dense_1_loss_9: 0.0382 - dense_1_loss_10: 0.0297 - dense_1_loss_11: 0.0302 - dense_1_loss_12: 0.0310 - dense_1_loss_13: 0.0267 - dense_1_loss_14: 0.0275 - dense_1_loss_15: 0.0287 - dense_1_loss_16: 0.0297 - dense_1_loss_17: 0.0293 - dense_1_loss_18: 0.0297 - dense_1_loss_19: 0.0288 - dense_1_loss_20: 0.0312 - dense_1_loss_21: 0.0307 - dense_1_loss_22: 0.0303 - dense_1_loss_23: 0.0270 - dense_1_loss_24: 0.0261 - dense_1_loss_25: 0.0308 - dense_1_loss_26: 0.0298 - dense_1_loss_27: 0.0328 - dense_1_loss_28: 0.0364 - dense_1_loss_29: 0.0379 - dense_1_loss_30: 0.0000e+00 - dense_1_acc_1: 0.1000 - dense_1_acc_2: 0.5667 - dense_1_acc_3: 0.8667 - dense_1_acc_4: 1.0000 - dense_1_acc_5: 0.9833 - dense_1_acc_6: 1.0000 - dense_1_acc_7: 1.0000 - dense_1_acc_8: 1.0000 - dense_1_acc_9: 1.0000 - dense_1_acc_10: 1.0000 - dense_1_acc_11: 1.0000 - dense_1_acc_12: 1.0000 - dense_1_acc_13: 1.0000 - dense_1_acc_14: 1.0000 - dense_1_acc_15: 1.0000 - dense_1_acc_16: 1.0000 - dense_1_acc_17: 1.0000 - dense_1_acc_18: 1.0000 - dense_1_acc_19: 1.0000 - dense_1_acc_20: 1.0000 - dense_1_acc_21: 1.0000 - dense_1_acc_22: 1.0000 - dense_1_acc_23: 1.0000 - dense_1_acc_24: 1.0000 - dense_1_acc_25: 1.0000 - dense_1_acc_26: 1.0000 - dense_1_acc_27: 1.0000 - dense_1_acc_28: 1.0000 - dense_1_acc_29: 1.0000 - dense_1_acc_30: 0.0333     \n",
      "Epoch 91/100\n"
     ]
    },
    {
     "name": "stdout",
     "output_type": "stream",
     "text": [
      "60/60 [==============================] - 1s - loss: 6.5949 - dense_1_loss_1: 3.7985 - dense_1_loss_2: 1.3876 - dense_1_loss_3: 0.4260 - dense_1_loss_4: 0.1240 - dense_1_loss_5: 0.0927 - dense_1_loss_6: 0.0550 - dense_1_loss_7: 0.0442 - dense_1_loss_8: 0.0395 - dense_1_loss_9: 0.0373 - dense_1_loss_10: 0.0290 - dense_1_loss_11: 0.0295 - dense_1_loss_12: 0.0303 - dense_1_loss_13: 0.0261 - dense_1_loss_14: 0.0268 - dense_1_loss_15: 0.0281 - dense_1_loss_16: 0.0290 - dense_1_loss_17: 0.0286 - dense_1_loss_18: 0.0291 - dense_1_loss_19: 0.0281 - dense_1_loss_20: 0.0306 - dense_1_loss_21: 0.0300 - dense_1_loss_22: 0.0296 - dense_1_loss_23: 0.0263 - dense_1_loss_24: 0.0254 - dense_1_loss_25: 0.0302 - dense_1_loss_26: 0.0291 - dense_1_loss_27: 0.0320 - dense_1_loss_28: 0.0354 - dense_1_loss_29: 0.0370 - dense_1_loss_30: 0.0000e+00 - dense_1_acc_1: 0.1000 - dense_1_acc_2: 0.5667 - dense_1_acc_3: 0.8667 - dense_1_acc_4: 1.0000 - dense_1_acc_5: 0.9833 - dense_1_acc_6: 1.0000 - dense_1_acc_7: 1.0000 - dense_1_acc_8: 1.0000 - dense_1_acc_9: 1.0000 - dense_1_acc_10: 1.0000 - dense_1_acc_11: 1.0000 - dense_1_acc_12: 1.0000 - dense_1_acc_13: 1.0000 - dense_1_acc_14: 1.0000 - dense_1_acc_15: 1.0000 - dense_1_acc_16: 1.0000 - dense_1_acc_17: 1.0000 - dense_1_acc_18: 1.0000 - dense_1_acc_19: 1.0000 - dense_1_acc_20: 1.0000 - dense_1_acc_21: 1.0000 - dense_1_acc_22: 1.0000 - dense_1_acc_23: 1.0000 - dense_1_acc_24: 1.0000 - dense_1_acc_25: 1.0000 - dense_1_acc_26: 1.0000 - dense_1_acc_27: 1.0000 - dense_1_acc_28: 1.0000 - dense_1_acc_29: 1.0000 - dense_1_acc_30: 0.0333     \n",
      "Epoch 92/100\n",
      "60/60 [==============================] - 1s - loss: 6.5482 - dense_1_loss_1: 3.7957 - dense_1_loss_2: 1.3749 - dense_1_loss_3: 0.4180 - dense_1_loss_4: 0.1212 - dense_1_loss_5: 0.0903 - dense_1_loss_6: 0.0538 - dense_1_loss_7: 0.0432 - dense_1_loss_8: 0.0386 - dense_1_loss_9: 0.0365 - dense_1_loss_10: 0.0283 - dense_1_loss_11: 0.0288 - dense_1_loss_12: 0.0296 - dense_1_loss_13: 0.0254 - dense_1_loss_14: 0.0262 - dense_1_loss_15: 0.0275 - dense_1_loss_16: 0.0284 - dense_1_loss_17: 0.0279 - dense_1_loss_18: 0.0284 - dense_1_loss_19: 0.0274 - dense_1_loss_20: 0.0299 - dense_1_loss_21: 0.0292 - dense_1_loss_22: 0.0289 - dense_1_loss_23: 0.0257 - dense_1_loss_24: 0.0248 - dense_1_loss_25: 0.0295 - dense_1_loss_26: 0.0283 - dense_1_loss_27: 0.0312 - dense_1_loss_28: 0.0345 - dense_1_loss_29: 0.0361 - dense_1_loss_30: 0.0000e+00 - dense_1_acc_1: 0.1000 - dense_1_acc_2: 0.5667 - dense_1_acc_3: 0.8667 - dense_1_acc_4: 1.0000 - dense_1_acc_5: 0.9833 - dense_1_acc_6: 1.0000 - dense_1_acc_7: 1.0000 - dense_1_acc_8: 1.0000 - dense_1_acc_9: 1.0000 - dense_1_acc_10: 1.0000 - dense_1_acc_11: 1.0000 - dense_1_acc_12: 1.0000 - dense_1_acc_13: 1.0000 - dense_1_acc_14: 1.0000 - dense_1_acc_15: 1.0000 - dense_1_acc_16: 1.0000 - dense_1_acc_17: 1.0000 - dense_1_acc_18: 1.0000 - dense_1_acc_19: 1.0000 - dense_1_acc_20: 1.0000 - dense_1_acc_21: 1.0000 - dense_1_acc_22: 1.0000 - dense_1_acc_23: 1.0000 - dense_1_acc_24: 1.0000 - dense_1_acc_25: 1.0000 - dense_1_acc_26: 1.0000 - dense_1_acc_27: 1.0000 - dense_1_acc_28: 1.0000 - dense_1_acc_29: 1.0000 - dense_1_acc_30: 0.0333     \n",
      "Epoch 93/100\n",
      "60/60 [==============================] - 1s - loss: 6.5050 - dense_1_loss_1: 3.7930 - dense_1_loss_2: 1.3630 - dense_1_loss_3: 0.4108 - dense_1_loss_4: 0.1188 - dense_1_loss_5: 0.0879 - dense_1_loss_6: 0.0527 - dense_1_loss_7: 0.0422 - dense_1_loss_8: 0.0377 - dense_1_loss_9: 0.0357 - dense_1_loss_10: 0.0277 - dense_1_loss_11: 0.0282 - dense_1_loss_12: 0.0289 - dense_1_loss_13: 0.0249 - dense_1_loss_14: 0.0256 - dense_1_loss_15: 0.0269 - dense_1_loss_16: 0.0278 - dense_1_loss_17: 0.0272 - dense_1_loss_18: 0.0277 - dense_1_loss_19: 0.0268 - dense_1_loss_20: 0.0291 - dense_1_loss_21: 0.0286 - dense_1_loss_22: 0.0282 - dense_1_loss_23: 0.0251 - dense_1_loss_24: 0.0243 - dense_1_loss_25: 0.0288 - dense_1_loss_26: 0.0277 - dense_1_loss_27: 0.0306 - dense_1_loss_28: 0.0338 - dense_1_loss_29: 0.0352 - dense_1_loss_30: 0.0000e+00 - dense_1_acc_1: 0.1000 - dense_1_acc_2: 0.5833 - dense_1_acc_3: 0.8833 - dense_1_acc_4: 1.0000 - dense_1_acc_5: 0.9833 - dense_1_acc_6: 1.0000 - dense_1_acc_7: 1.0000 - dense_1_acc_8: 1.0000 - dense_1_acc_9: 1.0000 - dense_1_acc_10: 1.0000 - dense_1_acc_11: 1.0000 - dense_1_acc_12: 1.0000 - dense_1_acc_13: 1.0000 - dense_1_acc_14: 1.0000 - dense_1_acc_15: 1.0000 - dense_1_acc_16: 1.0000 - dense_1_acc_17: 1.0000 - dense_1_acc_18: 1.0000 - dense_1_acc_19: 1.0000 - dense_1_acc_20: 1.0000 - dense_1_acc_21: 1.0000 - dense_1_acc_22: 1.0000 - dense_1_acc_23: 1.0000 - dense_1_acc_24: 1.0000 - dense_1_acc_25: 1.0000 - dense_1_acc_26: 1.0000 - dense_1_acc_27: 1.0000 - dense_1_acc_28: 1.0000 - dense_1_acc_29: 1.0000 - dense_1_acc_30: 0.0333     \n",
      "Epoch 94/100\n",
      "60/60 [==============================] - 1s - loss: 6.4628 - dense_1_loss_1: 3.7907 - dense_1_loss_2: 1.3512 - dense_1_loss_3: 0.4031 - dense_1_loss_4: 0.1166 - dense_1_loss_5: 0.0856 - dense_1_loss_6: 0.0517 - dense_1_loss_7: 0.0414 - dense_1_loss_8: 0.0368 - dense_1_loss_9: 0.0349 - dense_1_loss_10: 0.0271 - dense_1_loss_11: 0.0276 - dense_1_loss_12: 0.0283 - dense_1_loss_13: 0.0244 - dense_1_loss_14: 0.0251 - dense_1_loss_15: 0.0263 - dense_1_loss_16: 0.0272 - dense_1_loss_17: 0.0266 - dense_1_loss_18: 0.0271 - dense_1_loss_19: 0.0262 - dense_1_loss_20: 0.0285 - dense_1_loss_21: 0.0280 - dense_1_loss_22: 0.0276 - dense_1_loss_23: 0.0246 - dense_1_loss_24: 0.0238 - dense_1_loss_25: 0.0282 - dense_1_loss_26: 0.0271 - dense_1_loss_27: 0.0300 - dense_1_loss_28: 0.0331 - dense_1_loss_29: 0.0344 - dense_1_loss_30: 0.0000e+00 - dense_1_acc_1: 0.1000 - dense_1_acc_2: 0.6000 - dense_1_acc_3: 0.8833 - dense_1_acc_4: 1.0000 - dense_1_acc_5: 0.9833 - dense_1_acc_6: 1.0000 - dense_1_acc_7: 1.0000 - dense_1_acc_8: 1.0000 - dense_1_acc_9: 1.0000 - dense_1_acc_10: 1.0000 - dense_1_acc_11: 1.0000 - dense_1_acc_12: 1.0000 - dense_1_acc_13: 1.0000 - dense_1_acc_14: 1.0000 - dense_1_acc_15: 1.0000 - dense_1_acc_16: 1.0000 - dense_1_acc_17: 1.0000 - dense_1_acc_18: 1.0000 - dense_1_acc_19: 1.0000 - dense_1_acc_20: 1.0000 - dense_1_acc_21: 1.0000 - dense_1_acc_22: 1.0000 - dense_1_acc_23: 1.0000 - dense_1_acc_24: 1.0000 - dense_1_acc_25: 1.0000 - dense_1_acc_26: 1.0000 - dense_1_acc_27: 1.0000 - dense_1_acc_28: 1.0000 - dense_1_acc_29: 1.0000 - dense_1_acc_30: 0.0333     \n",
      "Epoch 95/100\n",
      "60/60 [==============================] - 1s - loss: 6.4205 - dense_1_loss_1: 3.7880 - dense_1_loss_2: 1.3392 - dense_1_loss_3: 0.3954 - dense_1_loss_4: 0.1144 - dense_1_loss_5: 0.0833 - dense_1_loss_6: 0.0504 - dense_1_loss_7: 0.0405 - dense_1_loss_8: 0.0360 - dense_1_loss_9: 0.0341 - dense_1_loss_10: 0.0265 - dense_1_loss_11: 0.0270 - dense_1_loss_12: 0.0276 - dense_1_loss_13: 0.0238 - dense_1_loss_14: 0.0246 - dense_1_loss_15: 0.0257 - dense_1_loss_16: 0.0265 - dense_1_loss_17: 0.0261 - dense_1_loss_18: 0.0265 - dense_1_loss_19: 0.0256 - dense_1_loss_20: 0.0279 - dense_1_loss_21: 0.0274 - dense_1_loss_22: 0.0270 - dense_1_loss_23: 0.0241 - dense_1_loss_24: 0.0233 - dense_1_loss_25: 0.0275 - dense_1_loss_26: 0.0266 - dense_1_loss_27: 0.0294 - dense_1_loss_28: 0.0325 - dense_1_loss_29: 0.0337 - dense_1_loss_30: 0.0000e+00 - dense_1_acc_1: 0.1000 - dense_1_acc_2: 0.6000 - dense_1_acc_3: 0.8833 - dense_1_acc_4: 1.0000 - dense_1_acc_5: 0.9833 - dense_1_acc_6: 1.0000 - dense_1_acc_7: 1.0000 - dense_1_acc_8: 1.0000 - dense_1_acc_9: 1.0000 - dense_1_acc_10: 1.0000 - dense_1_acc_11: 1.0000 - dense_1_acc_12: 1.0000 - dense_1_acc_13: 1.0000 - dense_1_acc_14: 1.0000 - dense_1_acc_15: 1.0000 - dense_1_acc_16: 1.0000 - dense_1_acc_17: 1.0000 - dense_1_acc_18: 1.0000 - dense_1_acc_19: 1.0000 - dense_1_acc_20: 1.0000 - dense_1_acc_21: 1.0000 - dense_1_acc_22: 1.0000 - dense_1_acc_23: 1.0000 - dense_1_acc_24: 1.0000 - dense_1_acc_25: 1.0000 - dense_1_acc_26: 1.0000 - dense_1_acc_27: 1.0000 - dense_1_acc_28: 1.0000 - dense_1_acc_29: 1.0000 - dense_1_acc_30: 0.0333         \n",
      "Epoch 96/100\n",
      "60/60 [==============================] - 1s - loss: 6.3812 - dense_1_loss_1: 3.7854 - dense_1_loss_2: 1.3277 - dense_1_loss_3: 0.3885 - dense_1_loss_4: 0.1122 - dense_1_loss_5: 0.0818 - dense_1_loss_6: 0.0495 - dense_1_loss_7: 0.0397 - dense_1_loss_8: 0.0353 - dense_1_loss_9: 0.0334 - dense_1_loss_10: 0.0260 - dense_1_loss_11: 0.0265 - dense_1_loss_12: 0.0270 - dense_1_loss_13: 0.0234 - dense_1_loss_14: 0.0241 - dense_1_loss_15: 0.0251 - dense_1_loss_16: 0.0260 - dense_1_loss_17: 0.0255 - dense_1_loss_18: 0.0259 - dense_1_loss_19: 0.0249 - dense_1_loss_20: 0.0273 - dense_1_loss_21: 0.0268 - dense_1_loss_22: 0.0265 - dense_1_loss_23: 0.0235 - dense_1_loss_24: 0.0229 - dense_1_loss_25: 0.0269 - dense_1_loss_26: 0.0260 - dense_1_loss_27: 0.0289 - dense_1_loss_28: 0.0316 - dense_1_loss_29: 0.0329 - dense_1_loss_30: 0.0000e+00 - dense_1_acc_1: 0.1000 - dense_1_acc_2: 0.6000 - dense_1_acc_3: 0.8833 - dense_1_acc_4: 1.0000 - dense_1_acc_5: 0.9833 - dense_1_acc_6: 1.0000 - dense_1_acc_7: 1.0000 - dense_1_acc_8: 1.0000 - dense_1_acc_9: 1.0000 - dense_1_acc_10: 1.0000 - dense_1_acc_11: 1.0000 - dense_1_acc_12: 1.0000 - dense_1_acc_13: 1.0000 - dense_1_acc_14: 1.0000 - dense_1_acc_15: 1.0000 - dense_1_acc_16: 1.0000 - dense_1_acc_17: 1.0000 - dense_1_acc_18: 1.0000 - dense_1_acc_19: 1.0000 - dense_1_acc_20: 1.0000 - dense_1_acc_21: 1.0000 - dense_1_acc_22: 1.0000 - dense_1_acc_23: 1.0000 - dense_1_acc_24: 1.0000 - dense_1_acc_25: 1.0000 - dense_1_acc_26: 1.0000 - dense_1_acc_27: 1.0000 - dense_1_acc_28: 1.0000 - dense_1_acc_29: 1.0000 - dense_1_acc_30: 0.0333     \n",
      "Epoch 97/100\n",
      "60/60 [==============================] - 1s - loss: 6.3412 - dense_1_loss_1: 3.7829 - dense_1_loss_2: 1.3160 - dense_1_loss_3: 0.3817 - dense_1_loss_4: 0.1099 - dense_1_loss_5: 0.0795 - dense_1_loss_6: 0.0485 - dense_1_loss_7: 0.0389 - dense_1_loss_8: 0.0345 - dense_1_loss_9: 0.0327 - dense_1_loss_10: 0.0254 - dense_1_loss_11: 0.0260 - dense_1_loss_12: 0.0265 - dense_1_loss_13: 0.0228 - dense_1_loss_14: 0.0237 - dense_1_loss_15: 0.0245 - dense_1_loss_16: 0.0254 - dense_1_loss_17: 0.0249 - dense_1_loss_18: 0.0254 - dense_1_loss_19: 0.0243 - dense_1_loss_20: 0.0267 - dense_1_loss_21: 0.0262 - dense_1_loss_22: 0.0260 - dense_1_loss_23: 0.0231 - dense_1_loss_24: 0.0224 - dense_1_loss_25: 0.0263 - dense_1_loss_26: 0.0255 - dense_1_loss_27: 0.0283 - dense_1_loss_28: 0.0310 - dense_1_loss_29: 0.0322 - dense_1_loss_30: 0.0000e+00 - dense_1_acc_1: 0.1000 - dense_1_acc_2: 0.6000 - dense_1_acc_3: 0.9000 - dense_1_acc_4: 1.0000 - dense_1_acc_5: 0.9833 - dense_1_acc_6: 1.0000 - dense_1_acc_7: 1.0000 - dense_1_acc_8: 1.0000 - dense_1_acc_9: 1.0000 - dense_1_acc_10: 1.0000 - dense_1_acc_11: 1.0000 - dense_1_acc_12: 1.0000 - dense_1_acc_13: 1.0000 - dense_1_acc_14: 1.0000 - dense_1_acc_15: 1.0000 - dense_1_acc_16: 1.0000 - dense_1_acc_17: 1.0000 - dense_1_acc_18: 1.0000 - dense_1_acc_19: 1.0000 - dense_1_acc_20: 1.0000 - dense_1_acc_21: 1.0000 - dense_1_acc_22: 1.0000 - dense_1_acc_23: 1.0000 - dense_1_acc_24: 1.0000 - dense_1_acc_25: 1.0000 - dense_1_acc_26: 1.0000 - dense_1_acc_27: 1.0000 - dense_1_acc_28: 1.0000 - dense_1_acc_29: 1.0000 - dense_1_acc_30: 0.0333         \n",
      "Epoch 98/100\n",
      "60/60 [==============================] - 1s - loss: 6.3051 - dense_1_loss_1: 3.7802 - dense_1_loss_2: 1.3058 - dense_1_loss_3: 0.3755 - dense_1_loss_4: 0.1078 - dense_1_loss_5: 0.0779 - dense_1_loss_6: 0.0477 - dense_1_loss_7: 0.0381 - dense_1_loss_8: 0.0338 - dense_1_loss_9: 0.0321 - dense_1_loss_10: 0.0249 - dense_1_loss_11: 0.0255 - dense_1_loss_12: 0.0260 - dense_1_loss_13: 0.0224 - dense_1_loss_14: 0.0232 - dense_1_loss_15: 0.0240 - dense_1_loss_16: 0.0249 - dense_1_loss_17: 0.0244 - dense_1_loss_18: 0.0248 - dense_1_loss_19: 0.0239 - dense_1_loss_20: 0.0262 - dense_1_loss_21: 0.0257 - dense_1_loss_22: 0.0254 - dense_1_loss_23: 0.0226 - dense_1_loss_24: 0.0219 - dense_1_loss_25: 0.0258 - dense_1_loss_26: 0.0250 - dense_1_loss_27: 0.0277 - dense_1_loss_28: 0.0303 - dense_1_loss_29: 0.0315 - dense_1_loss_30: 0.0000e+00 - dense_1_acc_1: 0.1000 - dense_1_acc_2: 0.6167 - dense_1_acc_3: 0.9000 - dense_1_acc_4: 1.0000 - dense_1_acc_5: 0.9833 - dense_1_acc_6: 1.0000 - dense_1_acc_7: 1.0000 - dense_1_acc_8: 1.0000 - dense_1_acc_9: 1.0000 - dense_1_acc_10: 1.0000 - dense_1_acc_11: 1.0000 - dense_1_acc_12: 1.0000 - dense_1_acc_13: 1.0000 - dense_1_acc_14: 1.0000 - dense_1_acc_15: 1.0000 - dense_1_acc_16: 1.0000 - dense_1_acc_17: 1.0000 - dense_1_acc_18: 1.0000 - dense_1_acc_19: 1.0000 - dense_1_acc_20: 1.0000 - dense_1_acc_21: 1.0000 - dense_1_acc_22: 1.0000 - dense_1_acc_23: 1.0000 - dense_1_acc_24: 1.0000 - dense_1_acc_25: 1.0000 - dense_1_acc_26: 1.0000 - dense_1_acc_27: 1.0000 - dense_1_acc_28: 1.0000 - dense_1_acc_29: 1.0000 - dense_1_acc_30: 0.0333         \n",
      "Epoch 99/100\n",
      "60/60 [==============================] - 1s - loss: 6.2681 - dense_1_loss_1: 3.7777 - dense_1_loss_2: 1.2945 - dense_1_loss_3: 0.3692 - dense_1_loss_4: 0.1058 - dense_1_loss_5: 0.0763 - dense_1_loss_6: 0.0467 - dense_1_loss_7: 0.0374 - dense_1_loss_8: 0.0332 - dense_1_loss_9: 0.0314 - dense_1_loss_10: 0.0244 - dense_1_loss_11: 0.0248 - dense_1_loss_12: 0.0255 - dense_1_loss_13: 0.0219 - dense_1_loss_14: 0.0227 - dense_1_loss_15: 0.0236 - dense_1_loss_16: 0.0244 - dense_1_loss_17: 0.0239 - dense_1_loss_18: 0.0243 - dense_1_loss_19: 0.0234 - dense_1_loss_20: 0.0257 - dense_1_loss_21: 0.0251 - dense_1_loss_22: 0.0248 - dense_1_loss_23: 0.0222 - dense_1_loss_24: 0.0215 - dense_1_loss_25: 0.0254 - dense_1_loss_26: 0.0245 - dense_1_loss_27: 0.0271 - dense_1_loss_28: 0.0297 - dense_1_loss_29: 0.0310 - dense_1_loss_30: 0.0000e+00 - dense_1_acc_1: 0.1000 - dense_1_acc_2: 0.6167 - dense_1_acc_3: 0.9000 - dense_1_acc_4: 1.0000 - dense_1_acc_5: 0.9833 - dense_1_acc_6: 1.0000 - dense_1_acc_7: 1.0000 - dense_1_acc_8: 1.0000 - dense_1_acc_9: 1.0000 - dense_1_acc_10: 1.0000 - dense_1_acc_11: 1.0000 - dense_1_acc_12: 1.0000 - dense_1_acc_13: 1.0000 - dense_1_acc_14: 1.0000 - dense_1_acc_15: 1.0000 - dense_1_acc_16: 1.0000 - dense_1_acc_17: 1.0000 - dense_1_acc_18: 1.0000 - dense_1_acc_19: 1.0000 - dense_1_acc_20: 1.0000 - dense_1_acc_21: 1.0000 - dense_1_acc_22: 1.0000 - dense_1_acc_23: 1.0000 - dense_1_acc_24: 1.0000 - dense_1_acc_25: 1.0000 - dense_1_acc_26: 1.0000 - dense_1_acc_27: 1.0000 - dense_1_acc_28: 1.0000 - dense_1_acc_29: 1.0000 - dense_1_acc_30: 0.0333         \n",
      "Epoch 100/100\n",
      "60/60 [==============================] - 1s - loss: 6.2326 - dense_1_loss_1: 3.7753 - dense_1_loss_2: 1.2840 - dense_1_loss_3: 0.3629 - dense_1_loss_4: 0.1039 - dense_1_loss_5: 0.0747 - dense_1_loss_6: 0.0457 - dense_1_loss_7: 0.0366 - dense_1_loss_8: 0.0325 - dense_1_loss_9: 0.0308 - dense_1_loss_10: 0.0240 - dense_1_loss_11: 0.0244 - dense_1_loss_12: 0.0250 - dense_1_loss_13: 0.0215 - dense_1_loss_14: 0.0222 - dense_1_loss_15: 0.0231 - dense_1_loss_16: 0.0239 - dense_1_loss_17: 0.0234 - dense_1_loss_18: 0.0238 - dense_1_loss_19: 0.0229 - dense_1_loss_20: 0.0252 - dense_1_loss_21: 0.0246 - dense_1_loss_22: 0.0242 - dense_1_loss_23: 0.0218 - dense_1_loss_24: 0.0211 - dense_1_loss_25: 0.0249 - dense_1_loss_26: 0.0240 - dense_1_loss_27: 0.0265 - dense_1_loss_28: 0.0292 - dense_1_loss_29: 0.0304 - dense_1_loss_30: 0.0000e+00 - dense_1_acc_1: 0.1000 - dense_1_acc_2: 0.6500 - dense_1_acc_3: 0.9333 - dense_1_acc_4: 1.0000 - dense_1_acc_5: 0.9833 - dense_1_acc_6: 1.0000 - dense_1_acc_7: 1.0000 - dense_1_acc_8: 1.0000 - dense_1_acc_9: 1.0000 - dense_1_acc_10: 1.0000 - dense_1_acc_11: 1.0000 - dense_1_acc_12: 1.0000 - dense_1_acc_13: 1.0000 - dense_1_acc_14: 1.0000 - dense_1_acc_15: 1.0000 - dense_1_acc_16: 1.0000 - dense_1_acc_17: 1.0000 - dense_1_acc_18: 1.0000 - dense_1_acc_19: 1.0000 - dense_1_acc_20: 1.0000 - dense_1_acc_21: 1.0000 - dense_1_acc_22: 1.0000 - dense_1_acc_23: 1.0000 - dense_1_acc_24: 1.0000 - dense_1_acc_25: 1.0000 - dense_1_acc_26: 1.0000 - dense_1_acc_27: 1.0000 - dense_1_acc_28: 1.0000 - dense_1_acc_29: 1.0000 - dense_1_acc_30: 0.0333     \n"
     ]
    },
    {
     "data": {
      "text/plain": [
       "<keras.callbacks.History at 0x7f5812432eb8>"
      ]
     },
     "execution_count": 11,
     "metadata": {},
     "output_type": "execute_result"
    }
   ],
   "source": [
    "model.fit([X, a0, c0], list(Y), epochs=100)"
   ]
  },
  {
   "cell_type": "markdown",
   "metadata": {},
   "source": [
    "You should see the model loss going down. Now that you have trained a model, lets go on the the final section to implement an inference algorithm, and generate some music! "
   ]
  },
  {
   "cell_type": "markdown",
   "metadata": {},
   "source": [
    "## 3 - Generating music\n",
    "\n",
    "You now have a trained model which has learned the patterns of the jazz soloist. Lets now use this model to synthesize new music. \n",
    "\n",
    "#### 3.1 - Predicting & Sampling\n",
    "\n",
    "<img src=\"images/music_gen.png\" style=\"width:600;height:400px;\">\n",
    "\n",
    "At each step of sampling, you will take as input the activation `a` and cell state `c` from the previous state of the LSTM, forward propagate by one step, and get a new output activation as well as cell state. The new activation `a` can then be used to generate the output, using `densor` as before. \n",
    "\n",
    "To start off the model, we will initialize `x0` as well as the LSTM activation and and cell value `a0` and `c0` to be zeros. \n",
    "\n",
    "\n",
    "<!-- \n",
    "You are about to build a function that will do this inference for you. Your function takes in your previous model and the number of time steps `Ty` that you want to sample. It will return a keras model that would be able to generate sequences for you. Furthermore, the function takes in a dense layer of `78` units and the number of activations. \n",
    "!--> \n",
    "\n",
    "\n",
    "**Exercise:** Implement the function below to sample a sequence of musical values. Here are some of the key steps you'll need to implement inside the for-loop that generates the $T_y$ output characters: \n",
    "\n",
    "Step 2.A: Use `LSTM_Cell`, which inputs the previous step's `c` and `a` to generate the current step's `c` and `a`. \n",
    "\n",
    "Step 2.B: Use `densor` (defined previously) to compute a softmax on `a` to get the output for the current step. \n",
    "\n",
    "Step 2.C: Save the output you have just generated by appending it to `outputs`.\n",
    "\n",
    "Step 2.D: Sample x to the be \"out\"'s one-hot version (the prediction) so that you can pass it to the next LSTM's step.  We have already provided this line of code, which uses a [Lambda](https://keras.io/layers/core/#lambda) function. \n",
    "```python\n",
    "x = Lambda(one_hot)(out) \n",
    "```\n",
    "[Minor technical note: Rather than sampling a value at random according to the probabilities in `out`, this line of code actually chooses the single most likely note at each step using an argmax.]\n"
   ]
  },
  {
   "cell_type": "code",
   "execution_count": 12,
   "metadata": {
    "collapsed": true
   },
   "outputs": [],
   "source": [
    "# GRADED FUNCTION: music_inference_model\n",
    "\n",
    "def music_inference_model(LSTM_cell, densor, n_values = 78, n_a = 64, Ty = 100):\n",
    "    \"\"\"\n",
    "    Uses the trained \"LSTM_cell\" and \"densor\" from model() to generate a sequence of values.\n",
    "    \n",
    "    Arguments:\n",
    "    LSTM_cell -- the trained \"LSTM_cell\" from model(), Keras layer object\n",
    "    densor -- the trained \"densor\" from model(), Keras layer object\n",
    "    n_values -- integer, umber of unique values\n",
    "    n_a -- number of units in the LSTM_cell\n",
    "    Ty -- integer, number of time steps to generate\n",
    "    \n",
    "    Returns:\n",
    "    inference_model -- Keras model instance\n",
    "    \"\"\"\n",
    "    \n",
    "    # Define the input of your model with a shape \n",
    "    x0 = Input(shape=(1, n_values))\n",
    "    \n",
    "    # Define s0, initial hidden state for the decoder LSTM\n",
    "    a0 = Input(shape=(n_a,), name='a0')\n",
    "    c0 = Input(shape=(n_a,), name='c0')\n",
    "    a = a0\n",
    "    c = c0\n",
    "    x = x0\n",
    "\n",
    "    ### START CODE HERE ###\n",
    "    # Step 1: Create an empty list of \"outputs\" to later store your predicted values (≈1 line)\n",
    "    outputs = []\n",
    "    \n",
    "    # Step 2: Loop over Ty and generate a value at every time step\n",
    "    for t in range(Ty):\n",
    "        \n",
    "        # Step 2.A: Perform one step of LSTM_cell (≈1 line)\n",
    "        a, _, c = LSTM_cell(x, initial_state=[a, c])\n",
    "        \n",
    "        # Step 2.B: Apply Dense layer to the hidden state output of the LSTM_cell (≈1 line)\n",
    "        out = densor(a)\n",
    "\n",
    "        # Step 2.C: Append the prediction \"out\" to \"outputs\". out.shape = (None, 78) (≈1 line)\n",
    "        outputs.append(out)\n",
    "        \n",
    "        # Step 2.D: Select the next value according to \"out\", and set \"x\" to be the one-hot representation of the\n",
    "        #           selected value, which will be passed as the input to LSTM_cell on the next step. We have provided \n",
    "        #           the line of code you need to do this. \n",
    "        x = Lambda(one_hot)(out)\n",
    "        \n",
    "    # Step 3: Create model instance with the correct \"inputs\" and \"outputs\" (≈1 line)\n",
    "    inference_model = Model(inputs=[x0, a0, c0], outputs=outputs)\n",
    "    \n",
    "    ### END CODE HERE ###\n",
    "    \n",
    "    return inference_model"
   ]
  },
  {
   "cell_type": "markdown",
   "metadata": {},
   "source": [
    "Run the cell below to define your inference model. This model is hard coded to generate 50 values."
   ]
  },
  {
   "cell_type": "code",
   "execution_count": 13,
   "metadata": {
    "collapsed": true
   },
   "outputs": [],
   "source": [
    "inference_model = music_inference_model(LSTM_cell, densor, n_values = 78, n_a = 64, Ty = 50)"
   ]
  },
  {
   "cell_type": "markdown",
   "metadata": {},
   "source": [
    "Finally, this creates the zero-valued vectors you will use to initialize `x` and the LSTM state variables `a` and `c`. "
   ]
  },
  {
   "cell_type": "code",
   "execution_count": 14,
   "metadata": {
    "collapsed": true
   },
   "outputs": [],
   "source": [
    "x_initializer = np.zeros((1, 1, 78))\n",
    "a_initializer = np.zeros((1, n_a))\n",
    "c_initializer = np.zeros((1, n_a))"
   ]
  },
  {
   "cell_type": "markdown",
   "metadata": {},
   "source": [
    "**Exercise**: Implement `predict_and_sample()`. This function takes many arguments including the inputs [x_initializer, a_initializer, c_initializer]. In order to predict the output corresponding to this input, you will need to carry-out 3 steps:\n",
    "1. Use your inference model to predict an output given your set of inputs. The output `pred` should be a list of length $T_y$ where each element is a numpy-array of shape (1, n_values).\n",
    "2. Convert `pred` into a numpy array of $T_y$ indices. Each index corresponds is computed by taking the `argmax` of an element of the `pred` list. [Hint](https://docs.scipy.org/doc/numpy/reference/generated/numpy.argmax.html).\n",
    "3. Convert the indices into their one-hot vector representations. [Hint](https://keras.io/utils/#to_categorical)."
   ]
  },
  {
   "cell_type": "code",
   "execution_count": 15,
   "metadata": {
    "collapsed": true
   },
   "outputs": [],
   "source": [
    "# GRADED FUNCTION: predict_and_sample\n",
    "\n",
    "def predict_and_sample(inference_model, x_initializer = x_initializer, a_initializer = a_initializer, \n",
    "                       c_initializer = c_initializer):\n",
    "    \"\"\"\n",
    "    Predicts the next value of values using the inference model.\n",
    "    \n",
    "    Arguments:\n",
    "    inference_model -- Keras model instance for inference time\n",
    "    x_initializer -- numpy array of shape (1, 1, 78), one-hot vector initializing the values generation\n",
    "    a_initializer -- numpy array of shape (1, n_a), initializing the hidden state of the LSTM_cell\n",
    "    c_initializer -- numpy array of shape (1, n_a), initializing the cell state of the LSTM_cel\n",
    "    \n",
    "    Returns:\n",
    "    results -- numpy-array of shape (Ty, 78), matrix of one-hot vectors representing the values generated\n",
    "    indices -- numpy-array of shape (Ty, 1), matrix of indices representing the values generated\n",
    "    \"\"\"\n",
    "    \n",
    "    ### START CODE HERE ###\n",
    "    # Step 1: Use your inference model to predict an output sequence given x_initializer, a_initializer and c_initializer.\n",
    "    pred = inference_model.predict([x_initializer, a_initializer, c_initializer])\n",
    "    # Step 2: Convert \"pred\" into an np.array() of indices with the maximum probabilities\n",
    "    indices = np.argmax(pred, axis=-1)\n",
    "    # Step 3: Convert indices to one-hot vectors, the shape of the results should be (1, )\n",
    "    results = to_categorical(indices)\n",
    "    ### END CODE HERE ###\n",
    "    \n",
    "    return results, indices"
   ]
  },
  {
   "cell_type": "code",
   "execution_count": 16,
   "metadata": {},
   "outputs": [
    {
     "name": "stdout",
     "output_type": "stream",
     "text": [
      "np.argmax(results[12]) = 69\n",
      "np.argmax(results[17]) = 56\n",
      "list(indices[12:18]) = [array([69]), array([56]), array([70]), array([77]), array([69]), array([56])]\n"
     ]
    }
   ],
   "source": [
    "results, indices = predict_and_sample(inference_model, x_initializer, a_initializer, c_initializer)\n",
    "print(\"np.argmax(results[12]) =\", np.argmax(results[12]))\n",
    "print(\"np.argmax(results[17]) =\", np.argmax(results[17]))\n",
    "print(\"list(indices[12:18]) =\", list(indices[12:18]))"
   ]
  },
  {
   "cell_type": "markdown",
   "metadata": {},
   "source": [
    "**Expected Output**: Your results may differ because Keras' results are not completely predictable. However, if you have trained your LSTM_cell with model.fit() for exactly 100 epochs as described above, you should very likely observe a sequence of indices that are not all identical. Moreover, you should observe that: np.argmax(results[12]) is the first element of list(indices[12:18]) and np.argmax(results[17]) is the last element of list(indices[12:18]). \n",
    "\n",
    "<table>\n",
    "    <tr>\n",
    "        <td>\n",
    "            **np.argmax(results[12])** =\n",
    "        </td>\n",
    "        <td>\n",
    "        1\n",
    "        </td>\n",
    "    </tr>\n",
    "    <tr>\n",
    "        <td>\n",
    "            **np.argmax(results[12])** =\n",
    "        </td>\n",
    "        <td>\n",
    "        42\n",
    "        </td>\n",
    "    </tr>\n",
    "    <tr>\n",
    "        <td>\n",
    "            **list(indices[12:18])** =\n",
    "        </td>\n",
    "        <td>\n",
    "            [array([1]), array([42]), array([54]), array([17]), array([1]), array([42])]\n",
    "        </td>\n",
    "    </tr>\n",
    "</table>"
   ]
  },
  {
   "cell_type": "markdown",
   "metadata": {},
   "source": [
    "#### 3.3 - Generate music \n",
    "\n",
    "Finally, you are ready to generate music. Your RNN generates a sequence of values. The following code generates music by first calling your `predict_and_sample()` function. These values are then post-processed into musical chords (meaning that multiple values or notes can be played at the same time). \n",
    "\n",
    "Most computational music algorithms use some post-processing because it is difficult to generate music that sounds good without such post-processing. The post-processing does things such as clean up the generated audio by making sure the same sound is not repeated too many times, that two successive notes are not too far from each other in pitch, and so on. One could argue that a lot of these post-processing steps are hacks; also, a lot the music generation literature has also focused on hand-crafting post-processors, and a lot of the output quality depends on the quality of the post-processing and not just the quality of the RNN. But this post-processing does make a huge difference, so lets use it in our implementation as well. \n",
    "\n",
    "Lets make some music! "
   ]
  },
  {
   "cell_type": "markdown",
   "metadata": {},
   "source": [
    "Run the following cell to generate music and record it into your `out_stream`. This can take a couple of minutes."
   ]
  },
  {
   "cell_type": "code",
   "execution_count": 17,
   "metadata": {
    "scrolled": false
   },
   "outputs": [
    {
     "name": "stdout",
     "output_type": "stream",
     "text": [
      "Predicting new values for different set of chords.\n",
      "Generated 51 sounds using the predicted values for the set of chords (\"1\") and after pruning\n",
      "Generated 51 sounds using the predicted values for the set of chords (\"2\") and after pruning\n",
      "Generated 50 sounds using the predicted values for the set of chords (\"3\") and after pruning\n",
      "Generated 51 sounds using the predicted values for the set of chords (\"4\") and after pruning\n",
      "Generated 50 sounds using the predicted values for the set of chords (\"5\") and after pruning\n",
      "Your generated music is saved in output/my_music.midi\n"
     ]
    }
   ],
   "source": [
    "out_stream = generate_music(inference_model)"
   ]
  },
  {
   "cell_type": "markdown",
   "metadata": {},
   "source": [
    "To listen to your music, click File->Open... Then go to \"output/\" and download \"my_music.midi\". Either play it on your computer with an application that can read midi files if you have one, or use one of the free online \"MIDI to mp3\" conversion tools to convert this to mp3.  \n",
    "\n",
    "As reference, here also is a 30sec audio clip we generated using this algorithm. "
   ]
  },
  {
   "cell_type": "code",
   "execution_count": null,
   "metadata": {
    "collapsed": true
   },
   "outputs": [],
   "source": [
    "IPython.display.Audio('./data/30s_trained_model.mp3')"
   ]
  },
  {
   "cell_type": "markdown",
   "metadata": {},
   "source": [
    "### Congratulations!\n",
    "\n",
    "You have come to the end of the notebook. \n",
    "\n",
    "<font color=\"blue\">\n",
    "Here's what you should remember:\n",
    "- A sequence model can be used to generate musical values, which are then post-processed into midi music. \n",
    "- Fairly similar models can be used to generate dinosaur names or to generate music, with the major difference being the input fed to the model.  \n",
    "- In Keras, sequence generation involves defining layers with shared weights, which are then repeated for the different time steps $1, \\ldots, T_x$. "
   ]
  },
  {
   "cell_type": "markdown",
   "metadata": {},
   "source": [
    "Congratulations on completing this assignment and generating a jazz solo! "
   ]
  },
  {
   "cell_type": "markdown",
   "metadata": {},
   "source": [
    "**References**\n",
    "\n",
    "The ideas presented in this notebook came primarily from three computational music papers cited below. The implementation here also took significant inspiration and used many components from Ji-Sung Kim's github repository.\n",
    "\n",
    "- Ji-Sung Kim, 2016, [deepjazz](https://github.com/jisungk/deepjazz)\n",
    "- Jon Gillick, Kevin Tang and Robert Keller, 2009. [Learning Jazz Grammars](http://ai.stanford.edu/~kdtang/papers/smc09-jazzgrammar.pdf)\n",
    "- Robert Keller and David Morrison, 2007, [A Grammatical Approach to Automatic Improvisation](http://smc07.uoa.gr/SMC07%20Proceedings/SMC07%20Paper%2055.pdf)\n",
    "- François Pachet, 1999, [Surprising Harmonies](http://citeseerx.ist.psu.edu/viewdoc/download?doi=10.1.1.5.7473&rep=rep1&type=pdf)\n",
    "\n",
    "We're also grateful to François Germain for valuable feedback."
   ]
  }
 ],
 "metadata": {
  "coursera": {
   "course_slug": "nlp-sequence-models",
   "graded_item_id": "EG0F7",
   "launcher_item_id": "cxJXc"
  },
  "kernelspec": {
   "display_name": "Python 3",
   "language": "python",
   "name": "python3"
  },
  "language_info": {
   "codemirror_mode": {
    "name": "ipython",
    "version": 3
   },
   "file_extension": ".py",
   "mimetype": "text/x-python",
   "name": "python",
   "nbconvert_exporter": "python",
   "pygments_lexer": "ipython3",
   "version": "3.6.0"
  }
 },
 "nbformat": 4,
 "nbformat_minor": 2
}
